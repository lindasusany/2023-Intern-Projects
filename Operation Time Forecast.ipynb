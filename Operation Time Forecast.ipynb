{
 "cells": [
  {
   "cell_type": "code",
   "execution_count": 0,
   "metadata": {
    "application/vnd.databricks.v1+cell": {
     "cellMetadata": {
      "byteLimit": 2048000,
      "rowLimit": 10000
     },
     "inputWidgets": {},
     "nuid": "7ef41df5-0ac1-4551-8e60-b643f3519f72",
     "showTitle": false,
     "title": ""
    }
   },
   "outputs": [
    {
     "output_type": "stream",
     "name": "stdout",
     "output_type": "stream",
     "text": [
      "\u001B[43mNote: you may need to restart the kernel using dbutils.library.restartPython() to use updated packages.\u001B[0m\nRequirement already satisfied: shap in /local_disk0/.ephemeral_nfs/envs/pythonEnv-a6995c22-e37c-42bb-a6ec-513887c74cc9/lib/python3.10/site-packages (0.42.1)\nRequirement already satisfied: numpy in /local_disk0/.ephemeral_nfs/envs/pythonEnv-a6995c22-e37c-42bb-a6ec-513887c74cc9/lib/python3.10/site-packages (from shap) (1.24.4)\nRequirement already satisfied: scipy in /databricks/python3/lib/python3.10/site-packages (from shap) (1.9.1)\nRequirement already satisfied: scikit-learn in /databricks/python3/lib/python3.10/site-packages (from shap) (1.1.1)\nRequirement already satisfied: pandas in /local_disk0/.ephemeral_nfs/envs/pythonEnv-a6995c22-e37c-42bb-a6ec-513887c74cc9/lib/python3.10/site-packages (from shap) (2.1.1)\nRequirement already satisfied: tqdm>=4.27.0 in /local_disk0/.ephemeral_nfs/cluster_libraries/python/lib/python3.10/site-packages (from shap) (4.66.1)\nRequirement already satisfied: packaging>20.9 in /databricks/python3/lib/python3.10/site-packages (from shap) (21.3)\nRequirement already satisfied: slicer==0.0.7 in /local_disk0/.ephemeral_nfs/envs/pythonEnv-a6995c22-e37c-42bb-a6ec-513887c74cc9/lib/python3.10/site-packages (from shap) (0.0.7)\nRequirement already satisfied: numba in /local_disk0/.ephemeral_nfs/envs/pythonEnv-a6995c22-e37c-42bb-a6ec-513887c74cc9/lib/python3.10/site-packages (from shap) (0.58.0)\nRequirement already satisfied: cloudpickle in /local_disk0/.ephemeral_nfs/envs/pythonEnv-a6995c22-e37c-42bb-a6ec-513887c74cc9/lib/python3.10/site-packages (from shap) (2.2.1)\nRequirement already satisfied: pyparsing!=3.0.5,>=2.0.2 in /databricks/python3/lib/python3.10/site-packages (from packaging>20.9->shap) (3.0.9)\nRequirement already satisfied: llvmlite<0.42,>=0.41.0dev0 in /local_disk0/.ephemeral_nfs/envs/pythonEnv-a6995c22-e37c-42bb-a6ec-513887c74cc9/lib/python3.10/site-packages (from numba->shap) (0.41.0)\nRequirement already satisfied: python-dateutil>=2.8.2 in /databricks/python3/lib/python3.10/site-packages (from pandas->shap) (2.8.2)\nRequirement already satisfied: pytz>=2020.1 in /databricks/python3/lib/python3.10/site-packages (from pandas->shap) (2022.1)\nRequirement already satisfied: tzdata>=2022.1 in /local_disk0/.ephemeral_nfs/envs/pythonEnv-a6995c22-e37c-42bb-a6ec-513887c74cc9/lib/python3.10/site-packages (from pandas->shap) (2023.3)\nRequirement already satisfied: joblib>=1.0.0 in /databricks/python3/lib/python3.10/site-packages (from scikit-learn->shap) (1.2.0)\nRequirement already satisfied: threadpoolctl>=2.0.0 in /databricks/python3/lib/python3.10/site-packages (from scikit-learn->shap) (2.2.0)\nRequirement already satisfied: six>=1.5 in /usr/lib/python3/dist-packages (from python-dateutil>=2.8.2->pandas->shap) (1.16.0)\n\u001B[43mNote: you may need to restart the kernel using dbutils.library.restartPython() to use updated packages.\u001B[0m\n"
     ]
    }
   ],
   "source": [
    "pip install shap"
   ]
  },
  {
   "cell_type": "code",
   "execution_count": 0,
   "metadata": {
    "application/vnd.databricks.v1+cell": {
     "cellMetadata": {
      "byteLimit": 2048000,
      "rowLimit": 10000
     },
     "inputWidgets": {},
     "nuid": "5f0de767-31f0-4579-b161-51bdb38b4f76",
     "showTitle": false,
     "title": ""
    }
   },
   "outputs": [
    {
     "output_type": "stream",
     "name": "stdout",
     "output_type": "stream",
     "text": [
      "\u001B[43mNote: you may need to restart the kernel using dbutils.library.restartPython() to use updated packages.\u001B[0m\nRequirement already satisfied: numpy in /local_disk0/.ephemeral_nfs/envs/pythonEnv-a6995c22-e37c-42bb-a6ec-513887c74cc9/lib/python3.10/site-packages (1.24.4)\nCollecting numpy\n  Obtaining dependency information for numpy from https://files.pythonhosted.org/packages/9b/5a/f265a1ba3641d16b5480a217a6aed08cceef09cd173b568cd5351053472a/numpy-1.26.0-cp310-cp310-manylinux_2_17_x86_64.manylinux2014_x86_64.whl.metadata\n  Using cached numpy-1.26.0-cp310-cp310-manylinux_2_17_x86_64.manylinux2014_x86_64.whl.metadata (58 kB)\nUsing cached numpy-1.26.0-cp310-cp310-manylinux_2_17_x86_64.manylinux2014_x86_64.whl (18.2 MB)\nInstalling collected packages: numpy\n  Attempting uninstall: numpy\n    Found existing installation: numpy 1.24.4\n    Uninstalling numpy-1.24.4:\n      Successfully uninstalled numpy-1.24.4\nERROR: pip's dependency resolver does not currently take into account all the packages that are installed. This behaviour is the source of the following dependency conflicts.\nnumba 0.58.0 requires numpy<1.26,>=1.21, but you have numpy 1.26.0 which is incompatible.\nscipy 1.9.1 requires numpy<1.25.0,>=1.18.5, but you have numpy 1.26.0 which is incompatible.\nSuccessfully installed numpy-1.26.0\n\u001B[43mNote: you may need to restart the kernel using dbutils.library.restartPython() to use updated packages.\u001B[0m\n"
     ]
    }
   ],
   "source": [
    "pip install numpy --upgrade"
   ]
  },
  {
   "cell_type": "code",
   "execution_count": 0,
   "metadata": {
    "application/vnd.databricks.v1+cell": {
     "cellMetadata": {
      "byteLimit": 2048000,
      "rowLimit": 10000
     },
     "inputWidgets": {},
     "nuid": "0441c647-17d6-4238-88e3-dcdc46ef8459",
     "showTitle": false,
     "title": ""
    }
   },
   "outputs": [
    {
     "output_type": "stream",
     "name": "stdout",
     "output_type": "stream",
     "text": [
      "\u001B[43mNote: you may need to restart the kernel using dbutils.library.restartPython() to use updated packages.\u001B[0m\nRequirement already satisfied: h2o in /local_disk0/.ephemeral_nfs/envs/pythonEnv-a6995c22-e37c-42bb-a6ec-513887c74cc9/lib/python3.10/site-packages (3.42.0.3)\nRequirement already satisfied: requests in /databricks/python3/lib/python3.10/site-packages (from h2o) (2.28.1)\nRequirement already satisfied: tabulate in /local_disk0/.ephemeral_nfs/envs/pythonEnv-a6995c22-e37c-42bb-a6ec-513887c74cc9/lib/python3.10/site-packages (from h2o) (0.9.0)\nRequirement already satisfied: charset-normalizer<3,>=2 in /databricks/python3/lib/python3.10/site-packages (from requests->h2o) (2.0.4)\nRequirement already satisfied: idna<4,>=2.5 in /databricks/python3/lib/python3.10/site-packages (from requests->h2o) (3.3)\nRequirement already satisfied: urllib3<1.27,>=1.21.1 in /databricks/python3/lib/python3.10/site-packages (from requests->h2o) (1.26.11)\nRequirement already satisfied: certifi>=2017.4.17 in /databricks/python3/lib/python3.10/site-packages (from requests->h2o) (2022.9.14)\n\u001B[43mNote: you may need to restart the kernel using dbutils.library.restartPython() to use updated packages.\u001B[0m\n"
     ]
    }
   ],
   "source": [
    "pip install h2o"
   ]
  },
  {
   "cell_type": "code",
   "execution_count": 0,
   "metadata": {
    "application/vnd.databricks.v1+cell": {
     "cellMetadata": {
      "byteLimit": 2048000,
      "rowLimit": 10000
     },
     "inputWidgets": {},
     "nuid": "9e674363-2469-4306-82d4-471f0708df6b",
     "showTitle": false,
     "title": ""
    }
   },
   "outputs": [
    {
     "output_type": "stream",
     "name": "stdout",
     "output_type": "stream",
     "text": [
      "\u001B[43mNote: you may need to restart the kernel using dbutils.library.restartPython() to use updated packages.\u001B[0m\nRequirement already satisfied: fuzzywuzzy in /local_disk0/.ephemeral_nfs/envs/pythonEnv-a6995c22-e37c-42bb-a6ec-513887c74cc9/lib/python3.10/site-packages (0.18.0)\n\u001B[43mNote: you may need to restart the kernel using dbutils.library.restartPython() to use updated packages.\u001B[0m\n"
     ]
    }
   ],
   "source": [
    "pip install fuzzywuzzy"
   ]
  },
  {
   "cell_type": "code",
   "execution_count": 0,
   "metadata": {
    "application/vnd.databricks.v1+cell": {
     "cellMetadata": {
      "byteLimit": 2048000,
      "rowLimit": 10000
     },
     "inputWidgets": {},
     "nuid": "a6cc136b-6300-42f6-9b3e-71437b02b3dd",
     "showTitle": false,
     "title": ""
    }
   },
   "outputs": [
    {
     "output_type": "stream",
     "name": "stdout",
     "output_type": "stream",
     "text": [
      "\u001B[43mNote: you may need to restart the kernel using dbutils.library.restartPython() to use updated packages.\u001B[0m\nRequirement already satisfied: plotnine in /local_disk0/.ephemeral_nfs/envs/pythonEnv-a6995c22-e37c-42bb-a6ec-513887c74cc9/lib/python3.10/site-packages (0.12.3)\nRequirement already satisfied: matplotlib>=3.6.0 in /local_disk0/.ephemeral_nfs/envs/pythonEnv-a6995c22-e37c-42bb-a6ec-513887c74cc9/lib/python3.10/site-packages (from plotnine) (3.8.0)\nRequirement already satisfied: mizani<0.10.0,>0.9.0 in /local_disk0/.ephemeral_nfs/envs/pythonEnv-a6995c22-e37c-42bb-a6ec-513887c74cc9/lib/python3.10/site-packages (from plotnine) (0.9.3)\nRequirement already satisfied: numpy>=1.23.0 in /local_disk0/.ephemeral_nfs/envs/pythonEnv-a6995c22-e37c-42bb-a6ec-513887c74cc9/lib/python3.10/site-packages (from plotnine) (1.26.0)\nRequirement already satisfied: pandas>=1.5.0 in /local_disk0/.ephemeral_nfs/envs/pythonEnv-a6995c22-e37c-42bb-a6ec-513887c74cc9/lib/python3.10/site-packages (from plotnine) (2.1.1)\nRequirement already satisfied: patsy>=0.5.1 in /databricks/python3/lib/python3.10/site-packages (from plotnine) (0.5.2)\nRequirement already satisfied: scipy>=1.5.0 in /databricks/python3/lib/python3.10/site-packages (from plotnine) (1.9.1)\nRequirement already satisfied: statsmodels>=0.14.0 in /local_disk0/.ephemeral_nfs/envs/pythonEnv-a6995c22-e37c-42bb-a6ec-513887c74cc9/lib/python3.10/site-packages (from plotnine) (0.14.0)\nRequirement already satisfied: contourpy>=1.0.1 in /local_disk0/.ephemeral_nfs/envs/pythonEnv-a6995c22-e37c-42bb-a6ec-513887c74cc9/lib/python3.10/site-packages (from matplotlib>=3.6.0->plotnine) (1.1.1)\nRequirement already satisfied: cycler>=0.10 in /databricks/python3/lib/python3.10/site-packages (from matplotlib>=3.6.0->plotnine) (0.11.0)\nRequirement already satisfied: fonttools>=4.22.0 in /databricks/python3/lib/python3.10/site-packages (from matplotlib>=3.6.0->plotnine) (4.25.0)\nRequirement already satisfied: kiwisolver>=1.0.1 in /databricks/python3/lib/python3.10/site-packages (from matplotlib>=3.6.0->plotnine) (1.4.2)\nRequirement already satisfied: packaging>=20.0 in /databricks/python3/lib/python3.10/site-packages (from matplotlib>=3.6.0->plotnine) (21.3)\nRequirement already satisfied: pillow>=6.2.0 in /databricks/python3/lib/python3.10/site-packages (from matplotlib>=3.6.0->plotnine) (9.2.0)\nRequirement already satisfied: pyparsing>=2.3.1 in /databricks/python3/lib/python3.10/site-packages (from matplotlib>=3.6.0->plotnine) (3.0.9)\nRequirement already satisfied: python-dateutil>=2.7 in /databricks/python3/lib/python3.10/site-packages (from matplotlib>=3.6.0->plotnine) (2.8.2)\nRequirement already satisfied: pytz>=2020.1 in /databricks/python3/lib/python3.10/site-packages (from pandas>=1.5.0->plotnine) (2022.1)\nRequirement already satisfied: tzdata>=2022.1 in /local_disk0/.ephemeral_nfs/envs/pythonEnv-a6995c22-e37c-42bb-a6ec-513887c74cc9/lib/python3.10/site-packages (from pandas>=1.5.0->plotnine) (2023.3)\nRequirement already satisfied: six in /usr/lib/python3/dist-packages (from patsy>=0.5.1->plotnine) (1.16.0)\nCollecting numpy>=1.23.0 (from plotnine)\n  Obtaining dependency information for numpy>=1.23.0 from https://files.pythonhosted.org/packages/10/be/ae5bf4737cb79ba437879915791f6f26d92583c738d7d960ad94e5c36adf/numpy-1.24.4-cp310-cp310-manylinux_2_17_x86_64.manylinux2014_x86_64.whl.metadata\n  Using cached numpy-1.24.4-cp310-cp310-manylinux_2_17_x86_64.manylinux2014_x86_64.whl.metadata (5.6 kB)\nUsing cached numpy-1.24.4-cp310-cp310-manylinux_2_17_x86_64.manylinux2014_x86_64.whl (17.3 MB)\nInstalling collected packages: numpy\n  Attempting uninstall: numpy\n    Found existing installation: numpy 1.26.0\n    Uninstalling numpy-1.26.0:\n      Successfully uninstalled numpy-1.26.0\nSuccessfully installed numpy-1.24.4\n\u001B[43mNote: you may need to restart the kernel using dbutils.library.restartPython() to use updated packages.\u001B[0m\n"
     ]
    }
   ],
   "source": [
    "pip install plotnine"
   ]
  },
  {
   "cell_type": "code",
   "execution_count": 0,
   "metadata": {
    "application/vnd.databricks.v1+cell": {
     "cellMetadata": {
      "byteLimit": 2048000,
      "rowLimit": 10000
     },
     "inputWidgets": {},
     "nuid": "28c39201-7c43-4f52-a612-4fd409e16a1c",
     "showTitle": false,
     "title": ""
    }
   },
   "outputs": [
    {
     "output_type": "stream",
     "name": "stdout",
     "output_type": "stream",
     "text": [
      "\u001B[43mNote: you may need to restart the kernel using dbutils.library.restartPython() to use updated packages.\u001B[0m\nRequirement already satisfied: pip in /local_disk0/.ephemeral_nfs/envs/pythonEnv-a6995c22-e37c-42bb-a6ec-513887c74cc9/lib/python3.10/site-packages (23.2.1)\n\u001B[43mNote: you may need to restart the kernel using dbutils.library.restartPython() to use updated packages.\u001B[0m\n"
     ]
    }
   ],
   "source": [
    "pip install --upgrade pip"
   ]
  },
  {
   "cell_type": "code",
   "execution_count": 0,
   "metadata": {
    "application/vnd.databricks.v1+cell": {
     "cellMetadata": {
      "byteLimit": 2048000,
      "rowLimit": 10000
     },
     "inputWidgets": {},
     "nuid": "9b9b6809-8f65-4cf1-960c-25dae4e7e728",
     "showTitle": false,
     "title": ""
    }
   },
   "outputs": [
    {
     "output_type": "stream",
     "name": "stdout",
     "output_type": "stream",
     "text": [
      "\u001B[43mNote: you may need to restart the kernel using dbutils.library.restartPython() to use updated packages.\u001B[0m\nRequirement already satisfied: xgboost in /local_disk0/.ephemeral_nfs/envs/pythonEnv-a6995c22-e37c-42bb-a6ec-513887c74cc9/lib/python3.10/site-packages (2.0.0)\nRequirement already satisfied: numpy in /local_disk0/.ephemeral_nfs/envs/pythonEnv-a6995c22-e37c-42bb-a6ec-513887c74cc9/lib/python3.10/site-packages (from xgboost) (1.24.4)\nRequirement already satisfied: scipy in /databricks/python3/lib/python3.10/site-packages (from xgboost) (1.9.1)\n\u001B[43mNote: you may need to restart the kernel using dbutils.library.restartPython() to use updated packages.\u001B[0m\n"
     ]
    }
   ],
   "source": [
    "pip install xgboost"
   ]
  },
  {
   "cell_type": "code",
   "execution_count": 0,
   "metadata": {
    "application/vnd.databricks.v1+cell": {
     "cellMetadata": {
      "byteLimit": 2048000,
      "rowLimit": 10000
     },
     "inputWidgets": {},
     "nuid": "8ecb0bd8-8541-4796-9691-ff14bbdb26de",
     "showTitle": false,
     "title": ""
    }
   },
   "outputs": [
    {
     "output_type": "stream",
     "name": "stdout",
     "output_type": "stream",
     "text": [
      "\u001B[43mNote: you may need to restart the kernel using dbutils.library.restartPython() to use updated packages.\u001B[0m\nRequirement already satisfied: shap in /local_disk0/.ephemeral_nfs/envs/pythonEnv-a6995c22-e37c-42bb-a6ec-513887c74cc9/lib/python3.10/site-packages (0.42.1)\nRequirement already satisfied: numpy in /local_disk0/.ephemeral_nfs/envs/pythonEnv-a6995c22-e37c-42bb-a6ec-513887c74cc9/lib/python3.10/site-packages (from shap) (1.24.4)\nRequirement already satisfied: scipy in /databricks/python3/lib/python3.10/site-packages (from shap) (1.9.1)\nRequirement already satisfied: scikit-learn in /databricks/python3/lib/python3.10/site-packages (from shap) (1.1.1)\nRequirement already satisfied: pandas in /local_disk0/.ephemeral_nfs/envs/pythonEnv-a6995c22-e37c-42bb-a6ec-513887c74cc9/lib/python3.10/site-packages (from shap) (2.1.1)\nRequirement already satisfied: tqdm>=4.27.0 in /local_disk0/.ephemeral_nfs/cluster_libraries/python/lib/python3.10/site-packages (from shap) (4.66.1)\nRequirement already satisfied: packaging>20.9 in /databricks/python3/lib/python3.10/site-packages (from shap) (21.3)\nRequirement already satisfied: slicer==0.0.7 in /local_disk0/.ephemeral_nfs/envs/pythonEnv-a6995c22-e37c-42bb-a6ec-513887c74cc9/lib/python3.10/site-packages (from shap) (0.0.7)\nRequirement already satisfied: numba in /local_disk0/.ephemeral_nfs/envs/pythonEnv-a6995c22-e37c-42bb-a6ec-513887c74cc9/lib/python3.10/site-packages (from shap) (0.58.0)\nRequirement already satisfied: cloudpickle in /local_disk0/.ephemeral_nfs/envs/pythonEnv-a6995c22-e37c-42bb-a6ec-513887c74cc9/lib/python3.10/site-packages (from shap) (2.2.1)\nRequirement already satisfied: pyparsing!=3.0.5,>=2.0.2 in /databricks/python3/lib/python3.10/site-packages (from packaging>20.9->shap) (3.0.9)\nRequirement already satisfied: llvmlite<0.42,>=0.41.0dev0 in /local_disk0/.ephemeral_nfs/envs/pythonEnv-a6995c22-e37c-42bb-a6ec-513887c74cc9/lib/python3.10/site-packages (from numba->shap) (0.41.0)\nRequirement already satisfied: python-dateutil>=2.8.2 in /databricks/python3/lib/python3.10/site-packages (from pandas->shap) (2.8.2)\nRequirement already satisfied: pytz>=2020.1 in /databricks/python3/lib/python3.10/site-packages (from pandas->shap) (2022.1)\nRequirement already satisfied: tzdata>=2022.1 in /local_disk0/.ephemeral_nfs/envs/pythonEnv-a6995c22-e37c-42bb-a6ec-513887c74cc9/lib/python3.10/site-packages (from pandas->shap) (2023.3)\nRequirement already satisfied: joblib>=1.0.0 in /databricks/python3/lib/python3.10/site-packages (from scikit-learn->shap) (1.2.0)\nRequirement already satisfied: threadpoolctl>=2.0.0 in /databricks/python3/lib/python3.10/site-packages (from scikit-learn->shap) (2.2.0)\nRequirement already satisfied: six>=1.5 in /usr/lib/python3/dist-packages (from python-dateutil>=2.8.2->pandas->shap) (1.16.0)\n\u001B[43mNote: you may need to restart the kernel using dbutils.library.restartPython() to use updated packages.\u001B[0m\n"
     ]
    }
   ],
   "source": [
    "pip install shap"
   ]
  },
  {
   "cell_type": "code",
   "execution_count": 0,
   "metadata": {
    "application/vnd.databricks.v1+cell": {
     "cellMetadata": {
      "byteLimit": 2048000,
      "rowLimit": 10000
     },
     "inputWidgets": {},
     "nuid": "59b8a8d2-719d-48ac-af88-b716c92d9ebe",
     "showTitle": false,
     "title": ""
    }
   },
   "outputs": [
    {
     "output_type": "stream",
     "name": "stdout",
     "output_type": "stream",
     "text": [
      "\u001B[43mNote: you may need to restart the kernel using dbutils.library.restartPython() to use updated packages.\u001B[0m\nRequirement already satisfied: catboost in /local_disk0/.ephemeral_nfs/envs/pythonEnv-a6995c22-e37c-42bb-a6ec-513887c74cc9/lib/python3.10/site-packages (1.2.2)\nRequirement already satisfied: graphviz in /local_disk0/.ephemeral_nfs/envs/pythonEnv-a6995c22-e37c-42bb-a6ec-513887c74cc9/lib/python3.10/site-packages (from catboost) (0.20.1)\nRequirement already satisfied: matplotlib in /local_disk0/.ephemeral_nfs/envs/pythonEnv-a6995c22-e37c-42bb-a6ec-513887c74cc9/lib/python3.10/site-packages (from catboost) (3.8.0)\nRequirement already satisfied: numpy>=1.16.0 in /local_disk0/.ephemeral_nfs/envs/pythonEnv-a6995c22-e37c-42bb-a6ec-513887c74cc9/lib/python3.10/site-packages (from catboost) (1.24.4)\nRequirement already satisfied: pandas>=0.24 in /local_disk0/.ephemeral_nfs/envs/pythonEnv-a6995c22-e37c-42bb-a6ec-513887c74cc9/lib/python3.10/site-packages (from catboost) (2.1.1)\nRequirement already satisfied: scipy in /databricks/python3/lib/python3.10/site-packages (from catboost) (1.9.1)\nRequirement already satisfied: plotly in /databricks/python3/lib/python3.10/site-packages (from catboost) (5.9.0)\nRequirement already satisfied: six in /usr/lib/python3/dist-packages (from catboost) (1.16.0)\nRequirement already satisfied: python-dateutil>=2.8.2 in /databricks/python3/lib/python3.10/site-packages (from pandas>=0.24->catboost) (2.8.2)\nRequirement already satisfied: pytz>=2020.1 in /databricks/python3/lib/python3.10/site-packages (from pandas>=0.24->catboost) (2022.1)\nRequirement already satisfied: tzdata>=2022.1 in /local_disk0/.ephemeral_nfs/envs/pythonEnv-a6995c22-e37c-42bb-a6ec-513887c74cc9/lib/python3.10/site-packages (from pandas>=0.24->catboost) (2023.3)\nRequirement already satisfied: contourpy>=1.0.1 in /local_disk0/.ephemeral_nfs/envs/pythonEnv-a6995c22-e37c-42bb-a6ec-513887c74cc9/lib/python3.10/site-packages (from matplotlib->catboost) (1.1.1)\nRequirement already satisfied: cycler>=0.10 in /databricks/python3/lib/python3.10/site-packages (from matplotlib->catboost) (0.11.0)\nRequirement already satisfied: fonttools>=4.22.0 in /databricks/python3/lib/python3.10/site-packages (from matplotlib->catboost) (4.25.0)\nRequirement already satisfied: kiwisolver>=1.0.1 in /databricks/python3/lib/python3.10/site-packages (from matplotlib->catboost) (1.4.2)\nRequirement already satisfied: packaging>=20.0 in /databricks/python3/lib/python3.10/site-packages (from matplotlib->catboost) (21.3)\nRequirement already satisfied: pillow>=6.2.0 in /databricks/python3/lib/python3.10/site-packages (from matplotlib->catboost) (9.2.0)\nRequirement already satisfied: pyparsing>=2.3.1 in /databricks/python3/lib/python3.10/site-packages (from matplotlib->catboost) (3.0.9)\nRequirement already satisfied: tenacity>=6.2.0 in /databricks/python3/lib/python3.10/site-packages (from plotly->catboost) (8.1.0)\n\u001B[43mNote: you may need to restart the kernel using dbutils.library.restartPython() to use updated packages.\u001B[0m\n"
     ]
    }
   ],
   "source": [
    "pip install catboost"
   ]
  },
  {
   "cell_type": "code",
   "execution_count": 0,
   "metadata": {
    "application/vnd.databricks.v1+cell": {
     "cellMetadata": {
      "byteLimit": 2048000,
      "rowLimit": 10000
     },
     "inputWidgets": {},
     "nuid": "f8a78d07-3524-4e61-acd1-88e529996298",
     "showTitle": false,
     "title": ""
    }
   },
   "outputs": [
    {
     "output_type": "stream",
     "name": "stdout",
     "output_type": "stream",
     "text": [
      "\u001B[43mNote: you may need to restart the kernel using dbutils.library.restartPython() to use updated packages.\u001B[0m\nRequirement already satisfied: numba in /local_disk0/.ephemeral_nfs/envs/pythonEnv-a6995c22-e37c-42bb-a6ec-513887c74cc9/lib/python3.10/site-packages (0.58.0)\nRequirement already satisfied: llvmlite<0.42,>=0.41.0dev0 in /local_disk0/.ephemeral_nfs/envs/pythonEnv-a6995c22-e37c-42bb-a6ec-513887c74cc9/lib/python3.10/site-packages (from numba) (0.41.0)\nRequirement already satisfied: numpy<1.26,>=1.21 in /local_disk0/.ephemeral_nfs/envs/pythonEnv-a6995c22-e37c-42bb-a6ec-513887c74cc9/lib/python3.10/site-packages (from numba) (1.24.4)\n\u001B[43mNote: you may need to restart the kernel using dbutils.library.restartPython() to use updated packages.\u001B[0m\n"
     ]
    }
   ],
   "source": [
    "pip install numba --upgrade"
   ]
  },
  {
   "cell_type": "code",
   "execution_count": 0,
   "metadata": {
    "application/vnd.databricks.v1+cell": {
     "cellMetadata": {
      "byteLimit": 2048000,
      "rowLimit": 10000
     },
     "inputWidgets": {},
     "nuid": "c596d469-7c9c-47e5-b2c0-aa07370b447f",
     "showTitle": false,
     "title": ""
    }
   },
   "outputs": [],
   "source": [
    "import numpy as np\n",
    "import pandas as pd\n",
    "import matplotlib.pyplot as plt\n",
    "import seaborn as sns\n",
    "from datetime import datetime\n",
    "from pyspark.sql import SparkSession\n",
    "from pyspark.sql.functions import when,current_date, expr,mean,col, sum as spark_sum,count,avg\n",
    "from pyspark.sql.types import DoubleType,IntegerType,StringType,NumericType\n",
    "from pyspark.ml.feature import OneHotEncoder, StringIndexer, Imputer, VectorAssembler\n",
    "import pandas as pd\n",
    "import plotly.express as px\n",
    "from sklearn.model_selection import train_test_split\n",
    "from h2o.automl import H2OAutoML\n",
    "from sklearn.metrics import mean_squared_error, r2_score\n",
    "import h2o\n",
    "from sklearn.linear_model import LinearRegression\n",
    "from sklearn.ensemble import RandomForestRegressor, GradientBoostingRegressor\n",
    "from sklearn.svm import SVR\n",
    "from xgboost import XGBRegressor\n",
    "#from lightgbm import LGBMRegressor\n",
    "from catboost import CatBoostRegressor\n",
    "from sklearn.neighbors import KNeighborsRegressor\n",
    "from sklearn.neural_network import MLPRegressor\n",
    "from sklearn.ensemble import AdaBoostRegressor\n",
    "from sklearn.linear_model import ElasticNet\n",
    "from sklearn.tree import DecisionTreeRegressor\n",
    "import random"
   ]
  },
  {
   "cell_type": "markdown",
   "metadata": {
    "application/vnd.databricks.v1+cell": {
     "cellMetadata": {
      "byteLimit": 2048000,
      "rowLimit": 10000
     },
     "inputWidgets": {},
     "nuid": "51c81a54-f10a-4285-b192-d67e8a279cb8",
     "showTitle": false,
     "title": ""
    }
   },
   "source": [
    "## Data Import"
   ]
  },
  {
   "cell_type": "code",
   "execution_count": 0,
   "metadata": {
    "application/vnd.databricks.v1+cell": {
     "cellMetadata": {
      "byteLimit": 2048000,
      "rowLimit": 10000
     },
     "inputWidgets": {},
     "nuid": "4da31ade-2575-4751-bc89-0e860d41fd9a",
     "showTitle": true,
     "title": "Import Synthetic Data"
    }
   },
   "outputs": [],
   "source": [
    "# Create empty lists for each column\n",
    "collection_period = []\n",
    "staff_name = []\n",
    "crm_file = []\n",
    "program = []\n",
    "budget_type = []\n",
    "activity_phase = []\n",
    "stage = []\n",
    "time_records = []\n",
    "\n",
    "# Generate 5000 rows of random data\n",
    "for _ in range(5000):\n",
    "    collection_period.append(random.choice(['Jan 2023', 'Feb 2023', 'Mar 2023', 'Apr 2023']))\n",
    "    staff_name.append(random.choice(['John Smith', 'Jane Doe', 'Bob Johnson', 'Mary Brown']))\n",
    "    crm_file.append('CRM' + str(random.randint(10000, 99999)))\n",
    "    program.append(random.choice(['Sales', 'Finance', 'Marketing', 'Operations']))\n",
    "    budget_type.append(random.choice(['Marketing', 'Operations', 'Finance', 'Sales']))\n",
    "    activity_phase.append(random.choice(['Planning', 'Execution', 'Monitoring', 'Closure']))\n",
    "    stage.append(random.choice(['Draft', 'Final', 'Review', 'Approved']))\n",
    "    time_records.append([random.randint(1, 60) for _ in range(10)])\n",
    "\n",
    "# Calculate Total Minutes for each row\n",
    "total_minutes = [sum(record) for record in time_records]\n",
    "\n",
    "# Create a DataFrame from the lists\n",
    "data = {\n",
    "    'Collection Period:': collection_period,\n",
    "    'Staff Name:': staff_name,\n",
    "    'CRM File #:': crm_file,\n",
    "    'Program:': program,\n",
    "    'Budget Type:': budget_type,\n",
    "    'Activity Phase:': activity_phase,\n",
    "    'Stage:': stage,\n",
    "}\n",
    "for i in range(10):\n",
    "    data[f'Time Record #{i + 1}'] = [record[i] for record in time_records]\n",
    "data['Total Minutes:'] = total_minutes\n",
    "\n",
    "TS = pd.DataFrame(data)"
   ]
  },
  {
   "cell_type": "code",
   "execution_count": 0,
   "metadata": {
    "application/vnd.databricks.v1+cell": {
     "cellMetadata": {
      "byteLimit": 2048000,
      "rowLimit": 10000
     },
     "inputWidgets": {},
     "nuid": "a9f80a01-f613-43c4-a1a2-d4d8af381278",
     "showTitle": false,
     "title": ""
    }
   },
   "outputs": [
    {
     "output_type": "execute_result",
     "data": {
      "text/html": [
       "<div>\n",
       "<style scoped>\n",
       "    .dataframe tbody tr th:only-of-type {\n",
       "        vertical-align: middle;\n",
       "    }\n",
       "\n",
       "    .dataframe tbody tr th {\n",
       "        vertical-align: top;\n",
       "    }\n",
       "\n",
       "    .dataframe thead th {\n",
       "        text-align: right;\n",
       "    }\n",
       "</style>\n",
       "<table border=\"1\" class=\"dataframe\">\n",
       "  <thead>\n",
       "    <tr style=\"text-align: right;\">\n",
       "      <th></th>\n",
       "      <th>Collection Period:</th>\n",
       "      <th>Staff Name:</th>\n",
       "      <th>CRM File #:</th>\n",
       "      <th>Program:</th>\n",
       "      <th>Budget Type:</th>\n",
       "      <th>Activity Phase:</th>\n",
       "      <th>Stage:</th>\n",
       "      <th>Time Record #1</th>\n",
       "      <th>Time Record #2</th>\n",
       "      <th>Time Record #3</th>\n",
       "      <th>Time Record #4</th>\n",
       "      <th>Time Record #5</th>\n",
       "      <th>Time Record #6</th>\n",
       "      <th>Time Record #7</th>\n",
       "      <th>Time Record #8</th>\n",
       "      <th>Time Record #9</th>\n",
       "      <th>Time Record #10</th>\n",
       "      <th>Total Minutes:</th>\n",
       "    </tr>\n",
       "  </thead>\n",
       "  <tbody>\n",
       "    <tr>\n",
       "      <th>0</th>\n",
       "      <td>Feb 2023</td>\n",
       "      <td>Mary Brown</td>\n",
       "      <td>CRM83943</td>\n",
       "      <td>Finance</td>\n",
       "      <td>Sales</td>\n",
       "      <td>Planning</td>\n",
       "      <td>Approved</td>\n",
       "      <td>57</td>\n",
       "      <td>15</td>\n",
       "      <td>32</td>\n",
       "      <td>5</td>\n",
       "      <td>51</td>\n",
       "      <td>57</td>\n",
       "      <td>25</td>\n",
       "      <td>59</td>\n",
       "      <td>1</td>\n",
       "      <td>28</td>\n",
       "      <td>330</td>\n",
       "    </tr>\n",
       "    <tr>\n",
       "      <th>1</th>\n",
       "      <td>Feb 2023</td>\n",
       "      <td>John Smith</td>\n",
       "      <td>CRM70509</td>\n",
       "      <td>Finance</td>\n",
       "      <td>Finance</td>\n",
       "      <td>Planning</td>\n",
       "      <td>Final</td>\n",
       "      <td>34</td>\n",
       "      <td>34</td>\n",
       "      <td>25</td>\n",
       "      <td>50</td>\n",
       "      <td>16</td>\n",
       "      <td>27</td>\n",
       "      <td>52</td>\n",
       "      <td>35</td>\n",
       "      <td>39</td>\n",
       "      <td>3</td>\n",
       "      <td>315</td>\n",
       "    </tr>\n",
       "    <tr>\n",
       "      <th>2</th>\n",
       "      <td>Jan 2023</td>\n",
       "      <td>John Smith</td>\n",
       "      <td>CRM36682</td>\n",
       "      <td>Finance</td>\n",
       "      <td>Operations</td>\n",
       "      <td>Closure</td>\n",
       "      <td>Final</td>\n",
       "      <td>22</td>\n",
       "      <td>42</td>\n",
       "      <td>23</td>\n",
       "      <td>55</td>\n",
       "      <td>18</td>\n",
       "      <td>46</td>\n",
       "      <td>56</td>\n",
       "      <td>54</td>\n",
       "      <td>30</td>\n",
       "      <td>2</td>\n",
       "      <td>348</td>\n",
       "    </tr>\n",
       "    <tr>\n",
       "      <th>3</th>\n",
       "      <td>Apr 2023</td>\n",
       "      <td>Mary Brown</td>\n",
       "      <td>CRM50994</td>\n",
       "      <td>Operations</td>\n",
       "      <td>Sales</td>\n",
       "      <td>Planning</td>\n",
       "      <td>Draft</td>\n",
       "      <td>27</td>\n",
       "      <td>15</td>\n",
       "      <td>28</td>\n",
       "      <td>11</td>\n",
       "      <td>6</td>\n",
       "      <td>48</td>\n",
       "      <td>59</td>\n",
       "      <td>1</td>\n",
       "      <td>48</td>\n",
       "      <td>16</td>\n",
       "      <td>259</td>\n",
       "    </tr>\n",
       "    <tr>\n",
       "      <th>4</th>\n",
       "      <td>Jan 2023</td>\n",
       "      <td>John Smith</td>\n",
       "      <td>CRM67508</td>\n",
       "      <td>Finance</td>\n",
       "      <td>Finance</td>\n",
       "      <td>Closure</td>\n",
       "      <td>Draft</td>\n",
       "      <td>11</td>\n",
       "      <td>31</td>\n",
       "      <td>35</td>\n",
       "      <td>13</td>\n",
       "      <td>54</td>\n",
       "      <td>16</td>\n",
       "      <td>43</td>\n",
       "      <td>54</td>\n",
       "      <td>53</td>\n",
       "      <td>45</td>\n",
       "      <td>355</td>\n",
       "    </tr>\n",
       "    <tr>\n",
       "      <th>...</th>\n",
       "      <td>...</td>\n",
       "      <td>...</td>\n",
       "      <td>...</td>\n",
       "      <td>...</td>\n",
       "      <td>...</td>\n",
       "      <td>...</td>\n",
       "      <td>...</td>\n",
       "      <td>...</td>\n",
       "      <td>...</td>\n",
       "      <td>...</td>\n",
       "      <td>...</td>\n",
       "      <td>...</td>\n",
       "      <td>...</td>\n",
       "      <td>...</td>\n",
       "      <td>...</td>\n",
       "      <td>...</td>\n",
       "      <td>...</td>\n",
       "      <td>...</td>\n",
       "    </tr>\n",
       "    <tr>\n",
       "      <th>4995</th>\n",
       "      <td>Jan 2023</td>\n",
       "      <td>Mary Brown</td>\n",
       "      <td>CRM22143</td>\n",
       "      <td>Marketing</td>\n",
       "      <td>Sales</td>\n",
       "      <td>Monitoring</td>\n",
       "      <td>Final</td>\n",
       "      <td>6</td>\n",
       "      <td>48</td>\n",
       "      <td>31</td>\n",
       "      <td>51</td>\n",
       "      <td>60</td>\n",
       "      <td>7</td>\n",
       "      <td>58</td>\n",
       "      <td>3</td>\n",
       "      <td>58</td>\n",
       "      <td>19</td>\n",
       "      <td>341</td>\n",
       "    </tr>\n",
       "    <tr>\n",
       "      <th>4996</th>\n",
       "      <td>Feb 2023</td>\n",
       "      <td>Bob Johnson</td>\n",
       "      <td>CRM79705</td>\n",
       "      <td>Marketing</td>\n",
       "      <td>Operations</td>\n",
       "      <td>Monitoring</td>\n",
       "      <td>Approved</td>\n",
       "      <td>19</td>\n",
       "      <td>21</td>\n",
       "      <td>57</td>\n",
       "      <td>54</td>\n",
       "      <td>48</td>\n",
       "      <td>29</td>\n",
       "      <td>51</td>\n",
       "      <td>21</td>\n",
       "      <td>11</td>\n",
       "      <td>45</td>\n",
       "      <td>356</td>\n",
       "    </tr>\n",
       "    <tr>\n",
       "      <th>4997</th>\n",
       "      <td>Jan 2023</td>\n",
       "      <td>Bob Johnson</td>\n",
       "      <td>CRM31185</td>\n",
       "      <td>Sales</td>\n",
       "      <td>Operations</td>\n",
       "      <td>Monitoring</td>\n",
       "      <td>Draft</td>\n",
       "      <td>17</td>\n",
       "      <td>35</td>\n",
       "      <td>4</td>\n",
       "      <td>22</td>\n",
       "      <td>1</td>\n",
       "      <td>29</td>\n",
       "      <td>60</td>\n",
       "      <td>28</td>\n",
       "      <td>34</td>\n",
       "      <td>21</td>\n",
       "      <td>251</td>\n",
       "    </tr>\n",
       "    <tr>\n",
       "      <th>4998</th>\n",
       "      <td>Apr 2023</td>\n",
       "      <td>Mary Brown</td>\n",
       "      <td>CRM97494</td>\n",
       "      <td>Finance</td>\n",
       "      <td>Finance</td>\n",
       "      <td>Monitoring</td>\n",
       "      <td>Review</td>\n",
       "      <td>59</td>\n",
       "      <td>17</td>\n",
       "      <td>34</td>\n",
       "      <td>27</td>\n",
       "      <td>54</td>\n",
       "      <td>48</td>\n",
       "      <td>57</td>\n",
       "      <td>59</td>\n",
       "      <td>9</td>\n",
       "      <td>49</td>\n",
       "      <td>413</td>\n",
       "    </tr>\n",
       "    <tr>\n",
       "      <th>4999</th>\n",
       "      <td>Apr 2023</td>\n",
       "      <td>Mary Brown</td>\n",
       "      <td>CRM16982</td>\n",
       "      <td>Marketing</td>\n",
       "      <td>Operations</td>\n",
       "      <td>Monitoring</td>\n",
       "      <td>Draft</td>\n",
       "      <td>40</td>\n",
       "      <td>48</td>\n",
       "      <td>52</td>\n",
       "      <td>52</td>\n",
       "      <td>42</td>\n",
       "      <td>23</td>\n",
       "      <td>13</td>\n",
       "      <td>56</td>\n",
       "      <td>51</td>\n",
       "      <td>4</td>\n",
       "      <td>381</td>\n",
       "    </tr>\n",
       "  </tbody>\n",
       "</table>\n",
       "<p>5000 rows × 18 columns</p>\n",
       "</div>"
      ],
      "text/plain": [
       "     Collection Period:  Staff Name:  ... Time Record #10 Total Minutes:\n",
       "0              Feb 2023   Mary Brown  ...              28            330\n",
       "1              Feb 2023   John Smith  ...               3            315\n",
       "2              Jan 2023   John Smith  ...               2            348\n",
       "3              Apr 2023   Mary Brown  ...              16            259\n",
       "4              Jan 2023   John Smith  ...              45            355\n",
       "...                 ...          ...  ...             ...            ...\n",
       "4995           Jan 2023   Mary Brown  ...              19            341\n",
       "4996           Feb 2023  Bob Johnson  ...              45            356\n",
       "4997           Jan 2023  Bob Johnson  ...              21            251\n",
       "4998           Apr 2023   Mary Brown  ...              49            413\n",
       "4999           Apr 2023   Mary Brown  ...               4            381\n",
       "\n",
       "[5000 rows x 18 columns]"
      ]
     },
     "execution_count": 534,
     "metadata": {},
     "output_type": "execute_result"
    }
   ],
   "source": [
    "TS"
   ]
  },
  {
   "cell_type": "markdown",
   "metadata": {
    "application/vnd.databricks.v1+cell": {
     "cellMetadata": {
      "byteLimit": 2048000,
      "rowLimit": 10000
     },
     "inputWidgets": {},
     "nuid": "e82c8846-aa6a-420c-80a2-c3e12698c27a",
     "showTitle": false,
     "title": ""
    }
   },
   "source": [
    "## Data Preprocessing"
   ]
  },
  {
   "cell_type": "code",
   "execution_count": 0,
   "metadata": {
    "application/vnd.databricks.v1+cell": {
     "cellMetadata": {
      "byteLimit": 2048000,
      "rowLimit": 10000
     },
     "inputWidgets": {},
     "nuid": "c8949b81-d4c4-4f9e-a92f-f67f2e1886cb",
     "showTitle": true,
     "title": "Impute Missing Values"
    }
   },
   "outputs": [
    {
     "output_type": "execute_result",
     "data": {
      "text/html": [
       "<div>\n",
       "<style scoped>\n",
       "    .dataframe tbody tr th:only-of-type {\n",
       "        vertical-align: middle;\n",
       "    }\n",
       "\n",
       "    .dataframe tbody tr th {\n",
       "        vertical-align: top;\n",
       "    }\n",
       "\n",
       "    .dataframe thead th {\n",
       "        text-align: right;\n",
       "    }\n",
       "</style>\n",
       "<table border=\"1\" class=\"dataframe\">\n",
       "  <thead>\n",
       "    <tr style=\"text-align: right;\">\n",
       "      <th></th>\n",
       "      <th>Collection Period:</th>\n",
       "      <th>Staff Name:</th>\n",
       "      <th>CRM File #:</th>\n",
       "      <th>Program:</th>\n",
       "      <th>Budget Type:</th>\n",
       "      <th>Activity Phase:</th>\n",
       "      <th>Stage:</th>\n",
       "      <th>Time Record #1</th>\n",
       "      <th>Time Record #2</th>\n",
       "      <th>Time Record #3</th>\n",
       "      <th>Time Record #4</th>\n",
       "      <th>Time Record #5</th>\n",
       "      <th>Time Record #6</th>\n",
       "      <th>Time Record #7</th>\n",
       "      <th>Time Record #8</th>\n",
       "      <th>Time Record #9</th>\n",
       "      <th>Time Record #10</th>\n",
       "      <th>Total Minutes:</th>\n",
       "    </tr>\n",
       "  </thead>\n",
       "  <tbody>\n",
       "    <tr>\n",
       "      <th>0</th>\n",
       "      <td>Feb 2023</td>\n",
       "      <td>Mary Brown</td>\n",
       "      <td>CRM83943</td>\n",
       "      <td>Finance</td>\n",
       "      <td>Sales</td>\n",
       "      <td>Planning</td>\n",
       "      <td>Approved</td>\n",
       "      <td>57</td>\n",
       "      <td>15</td>\n",
       "      <td>32</td>\n",
       "      <td>5</td>\n",
       "      <td>51</td>\n",
       "      <td>57</td>\n",
       "      <td>25</td>\n",
       "      <td>59</td>\n",
       "      <td>1</td>\n",
       "      <td>28</td>\n",
       "      <td>330</td>\n",
       "    </tr>\n",
       "    <tr>\n",
       "      <th>1</th>\n",
       "      <td>Feb 2023</td>\n",
       "      <td>John Smith</td>\n",
       "      <td>CRM70509</td>\n",
       "      <td>Finance</td>\n",
       "      <td>Finance</td>\n",
       "      <td>Planning</td>\n",
       "      <td>Final</td>\n",
       "      <td>34</td>\n",
       "      <td>34</td>\n",
       "      <td>25</td>\n",
       "      <td>50</td>\n",
       "      <td>16</td>\n",
       "      <td>27</td>\n",
       "      <td>52</td>\n",
       "      <td>35</td>\n",
       "      <td>39</td>\n",
       "      <td>3</td>\n",
       "      <td>315</td>\n",
       "    </tr>\n",
       "    <tr>\n",
       "      <th>2</th>\n",
       "      <td>Jan 2023</td>\n",
       "      <td>John Smith</td>\n",
       "      <td>CRM36682</td>\n",
       "      <td>Finance</td>\n",
       "      <td>Operations</td>\n",
       "      <td>Closure</td>\n",
       "      <td>Final</td>\n",
       "      <td>22</td>\n",
       "      <td>42</td>\n",
       "      <td>23</td>\n",
       "      <td>55</td>\n",
       "      <td>18</td>\n",
       "      <td>46</td>\n",
       "      <td>56</td>\n",
       "      <td>54</td>\n",
       "      <td>30</td>\n",
       "      <td>2</td>\n",
       "      <td>348</td>\n",
       "    </tr>\n",
       "    <tr>\n",
       "      <th>3</th>\n",
       "      <td>Apr 2023</td>\n",
       "      <td>Mary Brown</td>\n",
       "      <td>CRM50994</td>\n",
       "      <td>Operations</td>\n",
       "      <td>Sales</td>\n",
       "      <td>Planning</td>\n",
       "      <td>Draft</td>\n",
       "      <td>27</td>\n",
       "      <td>15</td>\n",
       "      <td>28</td>\n",
       "      <td>11</td>\n",
       "      <td>6</td>\n",
       "      <td>48</td>\n",
       "      <td>59</td>\n",
       "      <td>1</td>\n",
       "      <td>48</td>\n",
       "      <td>16</td>\n",
       "      <td>259</td>\n",
       "    </tr>\n",
       "    <tr>\n",
       "      <th>4</th>\n",
       "      <td>Jan 2023</td>\n",
       "      <td>John Smith</td>\n",
       "      <td>CRM67508</td>\n",
       "      <td>Finance</td>\n",
       "      <td>Finance</td>\n",
       "      <td>Closure</td>\n",
       "      <td>Draft</td>\n",
       "      <td>11</td>\n",
       "      <td>31</td>\n",
       "      <td>35</td>\n",
       "      <td>13</td>\n",
       "      <td>54</td>\n",
       "      <td>16</td>\n",
       "      <td>43</td>\n",
       "      <td>54</td>\n",
       "      <td>53</td>\n",
       "      <td>45</td>\n",
       "      <td>355</td>\n",
       "    </tr>\n",
       "    <tr>\n",
       "      <th>...</th>\n",
       "      <td>...</td>\n",
       "      <td>...</td>\n",
       "      <td>...</td>\n",
       "      <td>...</td>\n",
       "      <td>...</td>\n",
       "      <td>...</td>\n",
       "      <td>...</td>\n",
       "      <td>...</td>\n",
       "      <td>...</td>\n",
       "      <td>...</td>\n",
       "      <td>...</td>\n",
       "      <td>...</td>\n",
       "      <td>...</td>\n",
       "      <td>...</td>\n",
       "      <td>...</td>\n",
       "      <td>...</td>\n",
       "      <td>...</td>\n",
       "      <td>...</td>\n",
       "    </tr>\n",
       "    <tr>\n",
       "      <th>4995</th>\n",
       "      <td>Jan 2023</td>\n",
       "      <td>Mary Brown</td>\n",
       "      <td>CRM22143</td>\n",
       "      <td>Marketing</td>\n",
       "      <td>Sales</td>\n",
       "      <td>Monitoring</td>\n",
       "      <td>Final</td>\n",
       "      <td>6</td>\n",
       "      <td>48</td>\n",
       "      <td>31</td>\n",
       "      <td>51</td>\n",
       "      <td>60</td>\n",
       "      <td>7</td>\n",
       "      <td>58</td>\n",
       "      <td>3</td>\n",
       "      <td>58</td>\n",
       "      <td>19</td>\n",
       "      <td>341</td>\n",
       "    </tr>\n",
       "    <tr>\n",
       "      <th>4996</th>\n",
       "      <td>Feb 2023</td>\n",
       "      <td>Bob Johnson</td>\n",
       "      <td>CRM79705</td>\n",
       "      <td>Marketing</td>\n",
       "      <td>Operations</td>\n",
       "      <td>Monitoring</td>\n",
       "      <td>Approved</td>\n",
       "      <td>19</td>\n",
       "      <td>21</td>\n",
       "      <td>57</td>\n",
       "      <td>54</td>\n",
       "      <td>48</td>\n",
       "      <td>29</td>\n",
       "      <td>51</td>\n",
       "      <td>21</td>\n",
       "      <td>11</td>\n",
       "      <td>45</td>\n",
       "      <td>356</td>\n",
       "    </tr>\n",
       "    <tr>\n",
       "      <th>4997</th>\n",
       "      <td>Jan 2023</td>\n",
       "      <td>Bob Johnson</td>\n",
       "      <td>CRM31185</td>\n",
       "      <td>Sales</td>\n",
       "      <td>Operations</td>\n",
       "      <td>Monitoring</td>\n",
       "      <td>Draft</td>\n",
       "      <td>17</td>\n",
       "      <td>35</td>\n",
       "      <td>4</td>\n",
       "      <td>22</td>\n",
       "      <td>1</td>\n",
       "      <td>29</td>\n",
       "      <td>60</td>\n",
       "      <td>28</td>\n",
       "      <td>34</td>\n",
       "      <td>21</td>\n",
       "      <td>251</td>\n",
       "    </tr>\n",
       "    <tr>\n",
       "      <th>4998</th>\n",
       "      <td>Apr 2023</td>\n",
       "      <td>Mary Brown</td>\n",
       "      <td>CRM97494</td>\n",
       "      <td>Finance</td>\n",
       "      <td>Finance</td>\n",
       "      <td>Monitoring</td>\n",
       "      <td>Review</td>\n",
       "      <td>59</td>\n",
       "      <td>17</td>\n",
       "      <td>34</td>\n",
       "      <td>27</td>\n",
       "      <td>54</td>\n",
       "      <td>48</td>\n",
       "      <td>57</td>\n",
       "      <td>59</td>\n",
       "      <td>9</td>\n",
       "      <td>49</td>\n",
       "      <td>413</td>\n",
       "    </tr>\n",
       "    <tr>\n",
       "      <th>4999</th>\n",
       "      <td>Apr 2023</td>\n",
       "      <td>Mary Brown</td>\n",
       "      <td>CRM16982</td>\n",
       "      <td>Marketing</td>\n",
       "      <td>Operations</td>\n",
       "      <td>Monitoring</td>\n",
       "      <td>Draft</td>\n",
       "      <td>40</td>\n",
       "      <td>48</td>\n",
       "      <td>52</td>\n",
       "      <td>52</td>\n",
       "      <td>42</td>\n",
       "      <td>23</td>\n",
       "      <td>13</td>\n",
       "      <td>56</td>\n",
       "      <td>51</td>\n",
       "      <td>4</td>\n",
       "      <td>381</td>\n",
       "    </tr>\n",
       "  </tbody>\n",
       "</table>\n",
       "<p>5000 rows × 18 columns</p>\n",
       "</div>"
      ],
      "text/plain": [
       "     Collection Period:  Staff Name:  ... Time Record #10 Total Minutes:\n",
       "0              Feb 2023   Mary Brown  ...              28            330\n",
       "1              Feb 2023   John Smith  ...               3            315\n",
       "2              Jan 2023   John Smith  ...               2            348\n",
       "3              Apr 2023   Mary Brown  ...              16            259\n",
       "4              Jan 2023   John Smith  ...              45            355\n",
       "...                 ...          ...  ...             ...            ...\n",
       "4995           Jan 2023   Mary Brown  ...              19            341\n",
       "4996           Feb 2023  Bob Johnson  ...              45            356\n",
       "4997           Jan 2023  Bob Johnson  ...              21            251\n",
       "4998           Apr 2023   Mary Brown  ...              49            413\n",
       "4999           Apr 2023   Mary Brown  ...               4            381\n",
       "\n",
       "[5000 rows x 18 columns]"
      ]
     },
     "execution_count": 535,
     "metadata": {},
     "output_type": "execute_result"
    }
   ],
   "source": [
    "TS_c = TS.fillna(0,inplace=False)\n",
    "TS_c"
   ]
  },
  {
   "cell_type": "code",
   "execution_count": 0,
   "metadata": {
    "application/vnd.databricks.v1+cell": {
     "cellMetadata": {
      "byteLimit": 2048000,
      "rowLimit": 10000
     },
     "inputWidgets": {},
     "nuid": "13da111d-4765-43ce-be4f-7ef5bab928f4",
     "showTitle": true,
     "title": "Let's see how many samples we get here"
    }
   },
   "outputs": [
    {
     "output_type": "execute_result",
     "data": {
      "text/plain": [
       "(5000, 18)"
      ]
     },
     "execution_count": 536,
     "metadata": {},
     "output_type": "execute_result"
    }
   ],
   "source": [
    "TS_c.shape"
   ]
  },
  {
   "cell_type": "code",
   "execution_count": 0,
   "metadata": {
    "application/vnd.databricks.v1+cell": {
     "cellMetadata": {
      "byteLimit": 2048000,
      "rowLimit": 10000
     },
     "inputWidgets": {},
     "nuid": "d9fbabf1-f817-4fd7-8e25-75440fc0aba6",
     "showTitle": true,
     "title": "Transform Categorical Columns to Numerical"
    }
   },
   "outputs": [
    {
     "output_type": "stream",
     "name": "stdout",
     "output_type": "stream",
     "text": [
      "<class 'pandas.core.frame.DataFrame'>\nRangeIndex: 5000 entries, 0 to 4999\nData columns (total 18 columns):\n #   Column              Non-Null Count  Dtype \n---  ------              --------------  ----- \n 0   Collection Period:  5000 non-null   object\n 1   Staff Name:         5000 non-null   object\n 2   CRM File #:         5000 non-null   object\n 3   Program:            5000 non-null   object\n 4   Budget Type:        5000 non-null   object\n 5   Activity Phase:     5000 non-null   object\n 6   Stage:              5000 non-null   object\n 7   Time Record #1      5000 non-null   int64 \n 8   Time Record #2      5000 non-null   int64 \n 9   Time Record #3      5000 non-null   int64 \n 10  Time Record #4      5000 non-null   int64 \n 11  Time Record #5      5000 non-null   int64 \n 12  Time Record #6      5000 non-null   int64 \n 13  Time Record #7      5000 non-null   int64 \n 14  Time Record #8      5000 non-null   int64 \n 15  Time Record #9      5000 non-null   int64 \n 16  Time Record #10     5000 non-null   int64 \n 17  Total Minutes:      5000 non-null   int64 \ndtypes: int64(11), object(7)\nmemory usage: 703.2+ KB\n"
     ]
    }
   ],
   "source": [
    "#is there any categorical columns?\n",
    "TS_c.info()"
   ]
  },
  {
   "cell_type": "code",
   "execution_count": 0,
   "metadata": {
    "application/vnd.databricks.v1+cell": {
     "cellMetadata": {
      "byteLimit": 2048000,
      "rowLimit": 10000
     },
     "inputWidgets": {},
     "nuid": "63c1bb74-83aa-437f-824e-afa84a8d692e",
     "showTitle": true,
     "title": "Test and Drop Duplication !!!Is this step necessary?"
    }
   },
   "outputs": [
    {
     "output_type": "execute_result",
     "data": {
      "text/plain": [
       "0"
      ]
     },
     "execution_count": 538,
     "metadata": {},
     "output_type": "execute_result"
    }
   ],
   "source": [
    "TS_c.duplicated().sum()"
   ]
  },
  {
   "cell_type": "code",
   "execution_count": 0,
   "metadata": {
    "application/vnd.databricks.v1+cell": {
     "cellMetadata": {
      "byteLimit": 2048000,
      "rowLimit": 10000
     },
     "inputWidgets": {},
     "nuid": "e635684b-d054-4687-bc62-25c5c80f4d51",
     "showTitle": false,
     "title": ""
    }
   },
   "outputs": [
    {
     "output_type": "execute_result",
     "data": {
      "text/plain": [
       "0"
      ]
     },
     "execution_count": 539,
     "metadata": {},
     "output_type": "execute_result"
    }
   ],
   "source": [
    "TS_mask = TS_c.duplicated()\n",
    "if TS_mask.any():\n",
    "    TS_c = TS_c[~TS_mask]\n",
    "TS_c.duplicated().sum()"
   ]
  },
  {
   "cell_type": "markdown",
   "metadata": {
    "application/vnd.databricks.v1+cell": {
     "cellMetadata": {
      "byteLimit": 2048000,
      "rowLimit": 10000
     },
     "inputWidgets": {},
     "nuid": "892cc8ff-2131-4887-8a75-a62285471187",
     "showTitle": false,
     "title": ""
    }
   },
   "source": [
    "## Data Exploratory"
   ]
  },
  {
   "cell_type": "code",
   "execution_count": 0,
   "metadata": {
    "application/vnd.databricks.v1+cell": {
     "cellMetadata": {
      "byteLimit": 2048000,
      "rowLimit": 10000
     },
     "inputWidgets": {},
     "nuid": "2f9c79b9-652b-402c-ac2a-69b22f934801",
     "showTitle": false,
     "title": ""
    }
   },
   "outputs": [
    {
     "output_type": "execute_result",
     "data": {
      "text/plain": [
       "Index(['Collection Period:', 'Staff Name:', 'CRM File #:', 'Program:',\n",
       "       'Budget Type:', 'Activity Phase:', 'Stage:', 'Time Record #1',\n",
       "       'Time Record #2', 'Time Record #3', 'Time Record #4', 'Time Record #5',\n",
       "       'Time Record #6', 'Time Record #7', 'Time Record #8', 'Time Record #9',\n",
       "       'Time Record #10', 'Total Minutes:'],\n",
       "      dtype='object')"
      ]
     },
     "execution_count": 540,
     "metadata": {},
     "output_type": "execute_result"
    }
   ],
   "source": [
    "TS_c.columns"
   ]
  },
  {
   "cell_type": "code",
   "execution_count": 0,
   "metadata": {
    "application/vnd.databricks.v1+cell": {
     "cellMetadata": {
      "byteLimit": 2048000,
      "rowLimit": 10000
     },
     "inputWidgets": {},
     "nuid": "ed9197a0-deae-4907-af37-b775af4ed978",
     "showTitle": true,
     "title": "Categorical Variables Occurences"
    }
   },
   "outputs": [
    {
     "output_type": "stream",
     "name": "stdout",
     "output_type": "stream",
     "text": [
      "Value Counts for 'Collection Period:' is :\nApr 2023    1276\nMar 2023    1276\nFeb 2023    1230\nJan 2023    1218\nName: Collection Period:, dtype: int64\nValue Counts for 'Staff Name:' is :\nMary Brown     1290\nBob Johnson    1281\nJane Doe       1271\nJohn Smith     1158\nName: Staff Name:, dtype: int64\nValue Counts for 'CRM File #:' is :\nCRM14394    3\nCRM20497    2\nCRM34467    2\nCRM52679    2\nCRM37680    2\n           ..\nCRM35548    1\nCRM95378    1\nCRM27653    1\nCRM80004    1\nCRM16982    1\nName: CRM File #:, Length: 4877, dtype: int64\nValue Counts for 'Program:' is :\nMarketing     1273\nFinance       1272\nSales         1231\nOperations    1224\nName: Program:, dtype: int64\nValue Counts for 'Budget Type:' is :\nFinance       1286\nMarketing     1256\nOperations    1246\nSales         1212\nName: Budget Type:, dtype: int64\nValue Counts for 'Activity Phase:' is :\nMonitoring    1301\nClosure       1288\nExecution     1213\nPlanning      1198\nName: Activity Phase:, dtype: int64\nValue Counts for 'Stage:' is :\nFinal       1312\nReview      1287\nDraft       1206\nApproved    1195\nName: Stage:, dtype: int64\n"
     ]
    }
   ],
   "source": [
    "for col in TS_c.columns:\n",
    "    if TS_c[col].dtype == 'object':\n",
    "        counts = TS_c[col].value_counts()\n",
    "        print(f\"Value Counts for '{col}' is :\")\n",
    "        print(counts)"
   ]
  },
  {
   "cell_type": "code",
   "execution_count": 0,
   "metadata": {
    "application/vnd.databricks.v1+cell": {
     "cellMetadata": {
      "byteLimit": 2048000,
      "rowLimit": 10000
     },
     "inputWidgets": {},
     "nuid": "f4b19f4d-7df2-4f9b-be8e-bdd11f993ee2",
     "showTitle": true,
     "title": "Visualize Categorical Cols with High Cardinality"
    }
   },
   "outputs": [
    {
     "output_type": "display_data",
     "data": {
      "text/html": [
       "<html>\n",
       "<head><meta charset=\"utf-8\" /></head>\n",
       "<body>\n",
       "    <div>            <script src=\"https://cdnjs.cloudflare.com/ajax/libs/mathjax/2.7.5/MathJax.js?config=TeX-AMS-MML_SVG\"></script><script type=\"text/javascript\">if (window.MathJax && window.MathJax.Hub && window.MathJax.Hub.Config) {window.MathJax.Hub.Config({SVG: {font: \"STIX-Web\"}});}</script>                <script type=\"text/javascript\">window.PlotlyConfig = {MathJaxConfig: 'local'};</script>\n",
       "        <script src=\"https://cdn.plot.ly/plotly-2.12.1.min.js\"></script>                <div id=\"f2b472cb-c859-4cb3-a550-4719ce7be53d\" class=\"plotly-graph-div\" style=\"height:800px; width:100%;\"></div>            <script type=\"text/javascript\">                                    window.PLOTLYENV=window.PLOTLYENV || {};                                    if (document.getElementById(\"f2b472cb-c859-4cb3-a550-4719ce7be53d\")) {                    Plotly.newPlot(                        \"f2b472cb-c859-4cb3-a550-4719ce7be53d\",                        [{\"alignmentgroup\":\"True\",\"hovertemplate\":\"Staff Name=%{x}<br>Month=Apr 2023<br>Total Hours (Sum)=%{text}<extra></extra>\",\"legendgroup\":\"Bob Johnson\",\"marker\":{\"color\":\"#636efa\",\"pattern\":{\"shape\":\"\"}},\"name\":\"Bob Johnson\",\"offsetgroup\":\"Bob Johnson\",\"orientation\":\"v\",\"showlegend\":true,\"text\":[1758.78],\"textposition\":\"auto\",\"x\":[\"Bob Johnson\"],\"xaxis\":\"x4\",\"y\":[1758.78],\"yaxis\":\"y4\",\"type\":\"bar\"},{\"alignmentgroup\":\"True\",\"hovertemplate\":\"Staff Name=%{x}<br>Month=Feb 2023<br>Total Hours (Sum)=%{text}<extra></extra>\",\"legendgroup\":\"Bob Johnson\",\"marker\":{\"color\":\"#636efa\",\"pattern\":{\"shape\":\"\"}},\"name\":\"Bob Johnson\",\"offsetgroup\":\"Bob Johnson\",\"orientation\":\"v\",\"showlegend\":false,\"text\":[1618.55],\"textposition\":\"auto\",\"x\":[\"Bob Johnson\"],\"xaxis\":\"x3\",\"y\":[1618.55],\"yaxis\":\"y3\",\"type\":\"bar\"},{\"alignmentgroup\":\"True\",\"hovertemplate\":\"Staff Name=%{x}<br>Month=Jan 2023<br>Total Hours (Sum)=%{text}<extra></extra>\",\"legendgroup\":\"Bob Johnson\",\"marker\":{\"color\":\"#636efa\",\"pattern\":{\"shape\":\"\"}},\"name\":\"Bob Johnson\",\"offsetgroup\":\"Bob Johnson\",\"orientation\":\"v\",\"showlegend\":false,\"text\":[1483.98],\"textposition\":\"auto\",\"x\":[\"Bob Johnson\"],\"xaxis\":\"x2\",\"y\":[1483.98],\"yaxis\":\"y2\",\"type\":\"bar\"},{\"alignmentgroup\":\"True\",\"hovertemplate\":\"Staff Name=%{x}<br>Month=Mar 2023<br>Total Hours (Sum)=%{text}<extra></extra>\",\"legendgroup\":\"Bob Johnson\",\"marker\":{\"color\":\"#636efa\",\"pattern\":{\"shape\":\"\"}},\"name\":\"Bob Johnson\",\"offsetgroup\":\"Bob Johnson\",\"orientation\":\"v\",\"showlegend\":false,\"text\":[1694.43],\"textposition\":\"auto\",\"x\":[\"Bob Johnson\"],\"xaxis\":\"x\",\"y\":[1694.43],\"yaxis\":\"y\",\"type\":\"bar\"},{\"alignmentgroup\":\"True\",\"hovertemplate\":\"Staff Name=%{x}<br>Month=Apr 2023<br>Total Hours (Sum)=%{text}<extra></extra>\",\"legendgroup\":\"Jane Doe\",\"marker\":{\"color\":\"#EF553B\",\"pattern\":{\"shape\":\"\"}},\"name\":\"Jane Doe\",\"offsetgroup\":\"Jane Doe\",\"orientation\":\"v\",\"showlegend\":true,\"text\":[1702.35],\"textposition\":\"auto\",\"x\":[\"Jane Doe\"],\"xaxis\":\"x4\",\"y\":[1702.35],\"yaxis\":\"y4\",\"type\":\"bar\"},{\"alignmentgroup\":\"True\",\"hovertemplate\":\"Staff Name=%{x}<br>Month=Feb 2023<br>Total Hours (Sum)=%{text}<extra></extra>\",\"legendgroup\":\"Jane Doe\",\"marker\":{\"color\":\"#EF553B\",\"pattern\":{\"shape\":\"\"}},\"name\":\"Jane Doe\",\"offsetgroup\":\"Jane Doe\",\"orientation\":\"v\",\"showlegend\":false,\"text\":[1559.93],\"textposition\":\"auto\",\"x\":[\"Jane Doe\"],\"xaxis\":\"x3\",\"y\":[1559.93],\"yaxis\":\"y3\",\"type\":\"bar\"},{\"alignmentgroup\":\"True\",\"hovertemplate\":\"Staff Name=%{x}<br>Month=Jan 2023<br>Total Hours (Sum)=%{text}<extra></extra>\",\"legendgroup\":\"Jane Doe\",\"marker\":{\"color\":\"#EF553B\",\"pattern\":{\"shape\":\"\"}},\"name\":\"Jane Doe\",\"offsetgroup\":\"Jane Doe\",\"orientation\":\"v\",\"showlegend\":false,\"text\":[1612.47],\"textposition\":\"auto\",\"x\":[\"Jane Doe\"],\"xaxis\":\"x2\",\"y\":[1612.47],\"yaxis\":\"y2\",\"type\":\"bar\"},{\"alignmentgroup\":\"True\",\"hovertemplate\":\"Staff Name=%{x}<br>Month=Mar 2023<br>Total Hours (Sum)=%{text}<extra></extra>\",\"legendgroup\":\"Jane Doe\",\"marker\":{\"color\":\"#EF553B\",\"pattern\":{\"shape\":\"\"}},\"name\":\"Jane Doe\",\"offsetgroup\":\"Jane Doe\",\"orientation\":\"v\",\"showlegend\":false,\"text\":[1612.1],\"textposition\":\"auto\",\"x\":[\"Jane Doe\"],\"xaxis\":\"x\",\"y\":[1612.1],\"yaxis\":\"y\",\"type\":\"bar\"},{\"alignmentgroup\":\"True\",\"hovertemplate\":\"Staff Name=%{x}<br>Month=Apr 2023<br>Total Hours (Sum)=%{text}<extra></extra>\",\"legendgroup\":\"John Smith\",\"marker\":{\"color\":\"#00cc96\",\"pattern\":{\"shape\":\"\"}},\"name\":\"John Smith\",\"offsetgroup\":\"John Smith\",\"orientation\":\"v\",\"showlegend\":true,\"text\":[1397.67],\"textposition\":\"auto\",\"x\":[\"John Smith\"],\"xaxis\":\"x4\",\"y\":[1397.67],\"yaxis\":\"y4\",\"type\":\"bar\"},{\"alignmentgroup\":\"True\",\"hovertemplate\":\"Staff Name=%{x}<br>Month=Feb 2023<br>Total Hours (Sum)=%{text}<extra></extra>\",\"legendgroup\":\"John Smith\",\"marker\":{\"color\":\"#00cc96\",\"pattern\":{\"shape\":\"\"}},\"name\":\"John Smith\",\"offsetgroup\":\"John Smith\",\"orientation\":\"v\",\"showlegend\":false,\"text\":[1527.2],\"textposition\":\"auto\",\"x\":[\"John Smith\"],\"xaxis\":\"x3\",\"y\":[1527.2],\"yaxis\":\"y3\",\"type\":\"bar\"},{\"alignmentgroup\":\"True\",\"hovertemplate\":\"Staff Name=%{x}<br>Month=Jan 2023<br>Total Hours (Sum)=%{text}<extra></extra>\",\"legendgroup\":\"John Smith\",\"marker\":{\"color\":\"#00cc96\",\"pattern\":{\"shape\":\"\"}},\"name\":\"John Smith\",\"offsetgroup\":\"John Smith\",\"orientation\":\"v\",\"showlegend\":false,\"text\":[1549.78],\"textposition\":\"auto\",\"x\":[\"John Smith\"],\"xaxis\":\"x2\",\"y\":[1549.78],\"yaxis\":\"y2\",\"type\":\"bar\"},{\"alignmentgroup\":\"True\",\"hovertemplate\":\"Staff Name=%{x}<br>Month=Mar 2023<br>Total Hours (Sum)=%{text}<extra></extra>\",\"legendgroup\":\"John Smith\",\"marker\":{\"color\":\"#00cc96\",\"pattern\":{\"shape\":\"\"}},\"name\":\"John Smith\",\"offsetgroup\":\"John Smith\",\"orientation\":\"v\",\"showlegend\":false,\"text\":[1459.12],\"textposition\":\"auto\",\"x\":[\"John Smith\"],\"xaxis\":\"x\",\"y\":[1459.12],\"yaxis\":\"y\",\"type\":\"bar\"},{\"alignmentgroup\":\"True\",\"hovertemplate\":\"Staff Name=%{x}<br>Month=Apr 2023<br>Total Hours (Sum)=%{text}<extra></extra>\",\"legendgroup\":\"Mary Brown\",\"marker\":{\"color\":\"#ab63fa\",\"pattern\":{\"shape\":\"\"}},\"name\":\"Mary Brown\",\"offsetgroup\":\"Mary Brown\",\"orientation\":\"v\",\"showlegend\":true,\"text\":[1694.0],\"textposition\":\"auto\",\"x\":[\"Mary Brown\"],\"xaxis\":\"x4\",\"y\":[1694.0],\"yaxis\":\"y4\",\"type\":\"bar\"},{\"alignmentgroup\":\"True\",\"hovertemplate\":\"Staff Name=%{x}<br>Month=Feb 2023<br>Total Hours (Sum)=%{text}<extra></extra>\",\"legendgroup\":\"Mary Brown\",\"marker\":{\"color\":\"#ab63fa\",\"pattern\":{\"shape\":\"\"}},\"name\":\"Mary Brown\",\"offsetgroup\":\"Mary Brown\",\"orientation\":\"v\",\"showlegend\":false,\"text\":[1541.15],\"textposition\":\"auto\",\"x\":[\"Mary Brown\"],\"xaxis\":\"x3\",\"y\":[1541.15],\"yaxis\":\"y3\",\"type\":\"bar\"},{\"alignmentgroup\":\"True\",\"hovertemplate\":\"Staff Name=%{x}<br>Month=Jan 2023<br>Total Hours (Sum)=%{text}<extra></extra>\",\"legendgroup\":\"Mary Brown\",\"marker\":{\"color\":\"#ab63fa\",\"pattern\":{\"shape\":\"\"}},\"name\":\"Mary Brown\",\"offsetgroup\":\"Mary Brown\",\"orientation\":\"v\",\"showlegend\":false,\"text\":[1600.3],\"textposition\":\"auto\",\"x\":[\"Mary Brown\"],\"xaxis\":\"x2\",\"y\":[1600.3],\"yaxis\":\"y2\",\"type\":\"bar\"},{\"alignmentgroup\":\"True\",\"hovertemplate\":\"Staff Name=%{x}<br>Month=Mar 2023<br>Total Hours (Sum)=%{text}<extra></extra>\",\"legendgroup\":\"Mary Brown\",\"marker\":{\"color\":\"#ab63fa\",\"pattern\":{\"shape\":\"\"}},\"name\":\"Mary Brown\",\"offsetgroup\":\"Mary Brown\",\"orientation\":\"v\",\"showlegend\":false,\"text\":[1716.5],\"textposition\":\"auto\",\"x\":[\"Mary Brown\"],\"xaxis\":\"x\",\"y\":[1716.5],\"yaxis\":\"y\",\"type\":\"bar\"}],                        {\"template\":{\"data\":{\"histogram2dcontour\":[{\"type\":\"histogram2dcontour\",\"colorbar\":{\"outlinewidth\":0,\"ticks\":\"\"},\"colorscale\":[[0.0,\"#0d0887\"],[0.1111111111111111,\"#46039f\"],[0.2222222222222222,\"#7201a8\"],[0.3333333333333333,\"#9c179e\"],[0.4444444444444444,\"#bd3786\"],[0.5555555555555556,\"#d8576b\"],[0.6666666666666666,\"#ed7953\"],[0.7777777777777778,\"#fb9f3a\"],[0.8888888888888888,\"#fdca26\"],[1.0,\"#f0f921\"]]}],\"choropleth\":[{\"type\":\"choropleth\",\"colorbar\":{\"outlinewidth\":0,\"ticks\":\"\"}}],\"histogram2d\":[{\"type\":\"histogram2d\",\"colorbar\":{\"outlinewidth\":0,\"ticks\":\"\"},\"colorscale\":[[0.0,\"#0d0887\"],[0.1111111111111111,\"#46039f\"],[0.2222222222222222,\"#7201a8\"],[0.3333333333333333,\"#9c179e\"],[0.4444444444444444,\"#bd3786\"],[0.5555555555555556,\"#d8576b\"],[0.6666666666666666,\"#ed7953\"],[0.7777777777777778,\"#fb9f3a\"],[0.8888888888888888,\"#fdca26\"],[1.0,\"#f0f921\"]]}],\"heatmap\":[{\"type\":\"heatmap\",\"colorbar\":{\"outlinewidth\":0,\"ticks\":\"\"},\"colorscale\":[[0.0,\"#0d0887\"],[0.1111111111111111,\"#46039f\"],[0.2222222222222222,\"#7201a8\"],[0.3333333333333333,\"#9c179e\"],[0.4444444444444444,\"#bd3786\"],[0.5555555555555556,\"#d8576b\"],[0.6666666666666666,\"#ed7953\"],[0.7777777777777778,\"#fb9f3a\"],[0.8888888888888888,\"#fdca26\"],[1.0,\"#f0f921\"]]}],\"heatmapgl\":[{\"type\":\"heatmapgl\",\"colorbar\":{\"outlinewidth\":0,\"ticks\":\"\"},\"colorscale\":[[0.0,\"#0d0887\"],[0.1111111111111111,\"#46039f\"],[0.2222222222222222,\"#7201a8\"],[0.3333333333333333,\"#9c179e\"],[0.4444444444444444,\"#bd3786\"],[0.5555555555555556,\"#d8576b\"],[0.6666666666666666,\"#ed7953\"],[0.7777777777777778,\"#fb9f3a\"],[0.8888888888888888,\"#fdca26\"],[1.0,\"#f0f921\"]]}],\"contourcarpet\":[{\"type\":\"contourcarpet\",\"colorbar\":{\"outlinewidth\":0,\"ticks\":\"\"}}],\"contour\":[{\"type\":\"contour\",\"colorbar\":{\"outlinewidth\":0,\"ticks\":\"\"},\"colorscale\":[[0.0,\"#0d0887\"],[0.1111111111111111,\"#46039f\"],[0.2222222222222222,\"#7201a8\"],[0.3333333333333333,\"#9c179e\"],[0.4444444444444444,\"#bd3786\"],[0.5555555555555556,\"#d8576b\"],[0.6666666666666666,\"#ed7953\"],[0.7777777777777778,\"#fb9f3a\"],[0.8888888888888888,\"#fdca26\"],[1.0,\"#f0f921\"]]}],\"surface\":[{\"type\":\"surface\",\"colorbar\":{\"outlinewidth\":0,\"ticks\":\"\"},\"colorscale\":[[0.0,\"#0d0887\"],[0.1111111111111111,\"#46039f\"],[0.2222222222222222,\"#7201a8\"],[0.3333333333333333,\"#9c179e\"],[0.4444444444444444,\"#bd3786\"],[0.5555555555555556,\"#d8576b\"],[0.6666666666666666,\"#ed7953\"],[0.7777777777777778,\"#fb9f3a\"],[0.8888888888888888,\"#fdca26\"],[1.0,\"#f0f921\"]]}],\"mesh3d\":[{\"type\":\"mesh3d\",\"colorbar\":{\"outlinewidth\":0,\"ticks\":\"\"}}],\"scatter\":[{\"fillpattern\":{\"fillmode\":\"overlay\",\"size\":10,\"solidity\":0.2},\"type\":\"scatter\"}],\"parcoords\":[{\"type\":\"parcoords\",\"line\":{\"colorbar\":{\"outlinewidth\":0,\"ticks\":\"\"}}}],\"scatterpolargl\":[{\"type\":\"scatterpolargl\",\"marker\":{\"colorbar\":{\"outlinewidth\":0,\"ticks\":\"\"}}}],\"bar\":[{\"error_x\":{\"color\":\"#2a3f5f\"},\"error_y\":{\"color\":\"#2a3f5f\"},\"marker\":{\"line\":{\"color\":\"#E5ECF6\",\"width\":0.5},\"pattern\":{\"fillmode\":\"overlay\",\"size\":10,\"solidity\":0.2}},\"type\":\"bar\"}],\"scattergeo\":[{\"type\":\"scattergeo\",\"marker\":{\"colorbar\":{\"outlinewidth\":0,\"ticks\":\"\"}}}],\"scatterpolar\":[{\"type\":\"scatterpolar\",\"marker\":{\"colorbar\":{\"outlinewidth\":0,\"ticks\":\"\"}}}],\"histogram\":[{\"marker\":{\"pattern\":{\"fillmode\":\"overlay\",\"size\":10,\"solidity\":0.2}},\"type\":\"histogram\"}],\"scattergl\":[{\"type\":\"scattergl\",\"marker\":{\"colorbar\":{\"outlinewidth\":0,\"ticks\":\"\"}}}],\"scatter3d\":[{\"type\":\"scatter3d\",\"line\":{\"colorbar\":{\"outlinewidth\":0,\"ticks\":\"\"}},\"marker\":{\"colorbar\":{\"outlinewidth\":0,\"ticks\":\"\"}}}],\"scattermapbox\":[{\"type\":\"scattermapbox\",\"marker\":{\"colorbar\":{\"outlinewidth\":0,\"ticks\":\"\"}}}],\"scatterternary\":[{\"type\":\"scatterternary\",\"marker\":{\"colorbar\":{\"outlinewidth\":0,\"ticks\":\"\"}}}],\"scattercarpet\":[{\"type\":\"scattercarpet\",\"marker\":{\"colorbar\":{\"outlinewidth\":0,\"ticks\":\"\"}}}],\"carpet\":[{\"aaxis\":{\"endlinecolor\":\"#2a3f5f\",\"gridcolor\":\"white\",\"linecolor\":\"white\",\"minorgridcolor\":\"white\",\"startlinecolor\":\"#2a3f5f\"},\"baxis\":{\"endlinecolor\":\"#2a3f5f\",\"gridcolor\":\"white\",\"linecolor\":\"white\",\"minorgridcolor\":\"white\",\"startlinecolor\":\"#2a3f5f\"},\"type\":\"carpet\"}],\"table\":[{\"cells\":{\"fill\":{\"color\":\"#EBF0F8\"},\"line\":{\"color\":\"white\"}},\"header\":{\"fill\":{\"color\":\"#C8D4E3\"},\"line\":{\"color\":\"white\"}},\"type\":\"table\"}],\"barpolar\":[{\"marker\":{\"line\":{\"color\":\"#E5ECF6\",\"width\":0.5},\"pattern\":{\"fillmode\":\"overlay\",\"size\":10,\"solidity\":0.2}},\"type\":\"barpolar\"}],\"pie\":[{\"automargin\":true,\"type\":\"pie\"}]},\"layout\":{\"autotypenumbers\":\"strict\",\"colorway\":[\"#636efa\",\"#EF553B\",\"#00cc96\",\"#ab63fa\",\"#FFA15A\",\"#19d3f3\",\"#FF6692\",\"#B6E880\",\"#FF97FF\",\"#FECB52\"],\"font\":{\"color\":\"#2a3f5f\"},\"hovermode\":\"closest\",\"hoverlabel\":{\"align\":\"left\"},\"paper_bgcolor\":\"white\",\"plot_bgcolor\":\"#E5ECF6\",\"polar\":{\"bgcolor\":\"#E5ECF6\",\"angularaxis\":{\"gridcolor\":\"white\",\"linecolor\":\"white\",\"ticks\":\"\"},\"radialaxis\":{\"gridcolor\":\"white\",\"linecolor\":\"white\",\"ticks\":\"\"}},\"ternary\":{\"bgcolor\":\"#E5ECF6\",\"aaxis\":{\"gridcolor\":\"white\",\"linecolor\":\"white\",\"ticks\":\"\"},\"baxis\":{\"gridcolor\":\"white\",\"linecolor\":\"white\",\"ticks\":\"\"},\"caxis\":{\"gridcolor\":\"white\",\"linecolor\":\"white\",\"ticks\":\"\"}},\"coloraxis\":{\"colorbar\":{\"outlinewidth\":0,\"ticks\":\"\"}},\"colorscale\":{\"sequential\":[[0.0,\"#0d0887\"],[0.1111111111111111,\"#46039f\"],[0.2222222222222222,\"#7201a8\"],[0.3333333333333333,\"#9c179e\"],[0.4444444444444444,\"#bd3786\"],[0.5555555555555556,\"#d8576b\"],[0.6666666666666666,\"#ed7953\"],[0.7777777777777778,\"#fb9f3a\"],[0.8888888888888888,\"#fdca26\"],[1.0,\"#f0f921\"]],\"sequentialminus\":[[0.0,\"#0d0887\"],[0.1111111111111111,\"#46039f\"],[0.2222222222222222,\"#7201a8\"],[0.3333333333333333,\"#9c179e\"],[0.4444444444444444,\"#bd3786\"],[0.5555555555555556,\"#d8576b\"],[0.6666666666666666,\"#ed7953\"],[0.7777777777777778,\"#fb9f3a\"],[0.8888888888888888,\"#fdca26\"],[1.0,\"#f0f921\"]],\"diverging\":[[0,\"#8e0152\"],[0.1,\"#c51b7d\"],[0.2,\"#de77ae\"],[0.3,\"#f1b6da\"],[0.4,\"#fde0ef\"],[0.5,\"#f7f7f7\"],[0.6,\"#e6f5d0\"],[0.7,\"#b8e186\"],[0.8,\"#7fbc41\"],[0.9,\"#4d9221\"],[1,\"#276419\"]]},\"xaxis\":{\"gridcolor\":\"white\",\"linecolor\":\"white\",\"ticks\":\"\",\"title\":{\"standoff\":15},\"zerolinecolor\":\"white\",\"automargin\":true,\"zerolinewidth\":2},\"yaxis\":{\"gridcolor\":\"white\",\"linecolor\":\"white\",\"ticks\":\"\",\"title\":{\"standoff\":15},\"zerolinecolor\":\"white\",\"automargin\":true,\"zerolinewidth\":2},\"scene\":{\"xaxis\":{\"backgroundcolor\":\"#E5ECF6\",\"gridcolor\":\"white\",\"linecolor\":\"white\",\"showbackground\":true,\"ticks\":\"\",\"zerolinecolor\":\"white\",\"gridwidth\":2},\"yaxis\":{\"backgroundcolor\":\"#E5ECF6\",\"gridcolor\":\"white\",\"linecolor\":\"white\",\"showbackground\":true,\"ticks\":\"\",\"zerolinecolor\":\"white\",\"gridwidth\":2},\"zaxis\":{\"backgroundcolor\":\"#E5ECF6\",\"gridcolor\":\"white\",\"linecolor\":\"white\",\"showbackground\":true,\"ticks\":\"\",\"zerolinecolor\":\"white\",\"gridwidth\":2}},\"shapedefaults\":{\"line\":{\"color\":\"#2a3f5f\"}},\"annotationdefaults\":{\"arrowcolor\":\"#2a3f5f\",\"arrowhead\":0,\"arrowwidth\":1},\"geo\":{\"bgcolor\":\"white\",\"landcolor\":\"#E5ECF6\",\"subunitcolor\":\"white\",\"showland\":true,\"showlakes\":true,\"lakecolor\":\"white\"},\"title\":{\"x\":0.05},\"mapbox\":{\"style\":\"light\"}}},\"xaxis\":{\"anchor\":\"y\",\"domain\":[0.0,0.98],\"title\":{\"text\":\"Staff Name\"},\"categoryorder\":\"array\",\"categoryarray\":[\"Bob Johnson\",\"Jane Doe\",\"John Smith\",\"Mary Brown\"],\"tickangle\":-45},\"yaxis\":{\"anchor\":\"x\",\"domain\":[0.0,0.2275],\"title\":{\"text\":\"Total Hours\"}},\"xaxis2\":{\"anchor\":\"y2\",\"domain\":[0.0,0.98],\"matches\":\"x\",\"showticklabels\":false},\"yaxis2\":{\"anchor\":\"x2\",\"domain\":[0.2575,0.485],\"matches\":\"y\",\"title\":{\"text\":\"Total Hours (Sum)\"}},\"xaxis3\":{\"anchor\":\"y3\",\"domain\":[0.0,0.98],\"matches\":\"x\",\"showticklabels\":false},\"yaxis3\":{\"anchor\":\"x3\",\"domain\":[0.515,0.7425],\"matches\":\"y\",\"title\":{\"text\":\"Total Hours (Sum)\"}},\"xaxis4\":{\"anchor\":\"y4\",\"domain\":[0.0,0.98],\"matches\":\"x\",\"showticklabels\":false},\"yaxis4\":{\"anchor\":\"x4\",\"domain\":[0.7725,1.0],\"matches\":\"y\",\"title\":{\"text\":\"Total Hours (Sum)\"}},\"annotations\":[{\"font\":{},\"showarrow\":false,\"text\":\"Month=Mar 2023\",\"textangle\":90,\"x\":0.98,\"xanchor\":\"left\",\"xref\":\"paper\",\"y\":0.11375,\"yanchor\":\"middle\",\"yref\":\"paper\"},{\"font\":{},\"showarrow\":false,\"text\":\"Month=Jan 2023\",\"textangle\":90,\"x\":0.98,\"xanchor\":\"left\",\"xref\":\"paper\",\"y\":0.37124999999999997,\"yanchor\":\"middle\",\"yref\":\"paper\"},{\"font\":{},\"showarrow\":false,\"text\":\"Month=Feb 2023\",\"textangle\":90,\"x\":0.98,\"xanchor\":\"left\",\"xref\":\"paper\",\"y\":0.62875,\"yanchor\":\"middle\",\"yref\":\"paper\"},{\"font\":{},\"showarrow\":false,\"text\":\"Month=Apr 2023\",\"textangle\":90,\"x\":0.98,\"xanchor\":\"left\",\"xref\":\"paper\",\"y\":0.88625,\"yanchor\":\"middle\",\"yref\":\"paper\"}],\"legend\":{\"title\":{\"text\":\"Staff Name\"},\"tracegroupgap\":0},\"title\":{\"text\":\"Total Hours per Staff by Collection Period\"},\"barmode\":\"relative\",\"shapes\":[{\"line\":{\"color\":\"red\",\"width\":2},\"type\":\"line\",\"x0\":-0.5,\"x1\":15.5,\"y0\":[5.1354231974921625,5.078726287262873,5.1285166940339355,5.08005485893417],\"y1\":[5.1354231974921625,5.078726287262873,5.1285166940339355,5.08005485893417]}],\"showlegend\":false,\"height\":800},                        {\"responsive\": true}                    )                };                            </script>        </div>\n",
       "</body>\n",
       "</html>"
      ]
     },
     "metadata": {},
     "output_type": "display_data"
    }
   ],
   "source": [
    "# Calculate the sum of 'Total Minutes' for each staff in each collection period\n",
    "staff_sum_df = TS_c.groupby(['Staff Name:', 'Collection Period:'])['Total Minutes:'].sum().reset_index()\n",
    "\n",
    "# Convert the sum of 'Total Minutes' to hours by dividing by 60 and round to two decimal places\n",
    "staff_sum_df['Total Minutes:'] = (staff_sum_df['Total Minutes:'] / 60).round(2)\n",
    "\n",
    "# Calculate the overall average of 'Total Minutes' across all staff and all collection periods\n",
    "overall_avg_minutes = TS_c.groupby('Collection Period:')['Total Minutes:'].mean() / 60  # Convert to hours and calculate mean\n",
    "\n",
    "# Create the Plotly bar plot\n",
    "fig = px.bar(staff_sum_df, x='Staff Name:', y='Total Minutes:', color='Staff Name:',\n",
    "             color_continuous_scale='Viridis',\n",
    "             labels={'Total Minutes:': 'Total Hours (Sum)', 'Staff Name:': 'Staff Name', 'Collection Period:': 'Month'},\n",
    "             title='Total Hours per Staff by Collection Period',\n",
    "             text='Total Minutes:',\n",
    "             facet_row='Collection Period:')\n",
    "\n",
    "# Add a line trace for the overall average\n",
    "fig.add_shape(type='line',\n",
    "              x0=-0.5, x1=len(staff_sum_df['Staff Name:']) - 0.5,\n",
    "              y0=overall_avg_minutes, y1=overall_avg_minutes,\n",
    "              line=dict(color='red', width=2))\n",
    "\n",
    "# Customize the layout\n",
    "fig.update_layout(xaxis_tickangle=-45, xaxis_title='Staff Name', yaxis_title='Total Hours', showlegend=False, height=800)\n",
    "\n",
    "fig.show()"
   ]
  },
  {
   "cell_type": "code",
   "execution_count": 0,
   "metadata": {
    "application/vnd.databricks.v1+cell": {
     "cellMetadata": {
      "byteLimit": 2048000,
      "rowLimit": 10000
     },
     "inputWidgets": {},
     "nuid": "d3235503-7506-43e6-8460-dcfc57e87c6a",
     "showTitle": false,
     "title": ""
    }
   },
   "outputs": [
    {
     "output_type": "display_data",
     "data": {
      "text/html": [
       "<html>\n",
       "<head><meta charset=\"utf-8\" /></head>\n",
       "<body>\n",
       "    <div>            <script src=\"https://cdnjs.cloudflare.com/ajax/libs/mathjax/2.7.5/MathJax.js?config=TeX-AMS-MML_SVG\"></script><script type=\"text/javascript\">if (window.MathJax && window.MathJax.Hub && window.MathJax.Hub.Config) {window.MathJax.Hub.Config({SVG: {font: \"STIX-Web\"}});}</script>                <script type=\"text/javascript\">window.PlotlyConfig = {MathJaxConfig: 'local'};</script>\n",
       "        <script src=\"https://cdn.plot.ly/plotly-2.12.1.min.js\"></script>                <div id=\"3962fa63-aa81-42a3-916c-e3f842f017fc\" class=\"plotly-graph-div\" style=\"height:800px; width:100%;\"></div>            <script type=\"text/javascript\">                                    window.PLOTLYENV=window.PLOTLYENV || {};                                    if (document.getElementById(\"3962fa63-aa81-42a3-916c-e3f842f017fc\")) {                    Plotly.newPlot(                        \"3962fa63-aa81-42a3-916c-e3f842f017fc\",                        [{\"alignmentgroup\":\"True\",\"hovertemplate\":\"Program=%{x}<br>Month=Apr 2023<br>Total Hours (Sum)=%{text}<extra></extra>\",\"legendgroup\":\"Finance\",\"marker\":{\"color\":\"#636efa\",\"pattern\":{\"shape\":\"\"}},\"name\":\"Finance\",\"offsetgroup\":\"Finance\",\"orientation\":\"v\",\"showlegend\":true,\"text\":[306.9548192771084],\"textposition\":\"auto\",\"x\":[\"Finance\"],\"xaxis\":\"x4\",\"y\":[306.9548192771084],\"yaxis\":\"y4\",\"type\":\"bar\"},{\"alignmentgroup\":\"True\",\"hovertemplate\":\"Program=%{x}<br>Month=Feb 2023<br>Total Hours (Sum)=%{text}<extra></extra>\",\"legendgroup\":\"Finance\",\"marker\":{\"color\":\"#636efa\",\"pattern\":{\"shape\":\"\"}},\"name\":\"Finance\",\"offsetgroup\":\"Finance\",\"orientation\":\"v\",\"showlegend\":false,\"text\":[302.9296636085627],\"textposition\":\"auto\",\"x\":[\"Finance\"],\"xaxis\":\"x3\",\"y\":[302.9296636085627],\"yaxis\":\"y3\",\"type\":\"bar\"},{\"alignmentgroup\":\"True\",\"hovertemplate\":\"Program=%{x}<br>Month=Jan 2023<br>Total Hours (Sum)=%{text}<extra></extra>\",\"legendgroup\":\"Finance\",\"marker\":{\"color\":\"#636efa\",\"pattern\":{\"shape\":\"\"}},\"name\":\"Finance\",\"offsetgroup\":\"Finance\",\"orientation\":\"v\",\"showlegend\":false,\"text\":[308.8980263157895],\"textposition\":\"auto\",\"x\":[\"Finance\"],\"xaxis\":\"x2\",\"y\":[308.8980263157895],\"yaxis\":\"y2\",\"type\":\"bar\"},{\"alignmentgroup\":\"True\",\"hovertemplate\":\"Program=%{x}<br>Month=Mar 2023<br>Total Hours (Sum)=%{text}<extra></extra>\",\"legendgroup\":\"Finance\",\"marker\":{\"color\":\"#636efa\",\"pattern\":{\"shape\":\"\"}},\"name\":\"Finance\",\"offsetgroup\":\"Finance\",\"orientation\":\"v\",\"showlegend\":false,\"text\":[304.4012944983819],\"textposition\":\"auto\",\"x\":[\"Finance\"],\"xaxis\":\"x\",\"y\":[304.4012944983819],\"yaxis\":\"y\",\"type\":\"bar\"},{\"alignmentgroup\":\"True\",\"hovertemplate\":\"Program=%{x}<br>Month=Apr 2023<br>Total Hours (Sum)=%{text}<extra></extra>\",\"legendgroup\":\"Marketing\",\"marker\":{\"color\":\"#EF553B\",\"pattern\":{\"shape\":\"\"}},\"name\":\"Marketing\",\"offsetgroup\":\"Marketing\",\"orientation\":\"v\",\"showlegend\":true,\"text\":[303.8511904761905],\"textposition\":\"auto\",\"x\":[\"Marketing\"],\"xaxis\":\"x4\",\"y\":[303.8511904761905],\"yaxis\":\"y4\",\"type\":\"bar\"},{\"alignmentgroup\":\"True\",\"hovertemplate\":\"Program=%{x}<br>Month=Feb 2023<br>Total Hours (Sum)=%{text}<extra></extra>\",\"legendgroup\":\"Marketing\",\"marker\":{\"color\":\"#EF553B\",\"pattern\":{\"shape\":\"\"}},\"name\":\"Marketing\",\"offsetgroup\":\"Marketing\",\"orientation\":\"v\",\"showlegend\":false,\"text\":[306.80204778156997],\"textposition\":\"auto\",\"x\":[\"Marketing\"],\"xaxis\":\"x3\",\"y\":[306.80204778156997],\"yaxis\":\"y3\",\"type\":\"bar\"},{\"alignmentgroup\":\"True\",\"hovertemplate\":\"Program=%{x}<br>Month=Jan 2023<br>Total Hours (Sum)=%{text}<extra></extra>\",\"legendgroup\":\"Marketing\",\"marker\":{\"color\":\"#EF553B\",\"pattern\":{\"shape\":\"\"}},\"name\":\"Marketing\",\"offsetgroup\":\"Marketing\",\"orientation\":\"v\",\"showlegend\":false,\"text\":[306.8715596330275],\"textposition\":\"auto\",\"x\":[\"Marketing\"],\"xaxis\":\"x2\",\"y\":[306.8715596330275],\"yaxis\":\"y2\",\"type\":\"bar\"},{\"alignmentgroup\":\"True\",\"hovertemplate\":\"Program=%{x}<br>Month=Mar 2023<br>Total Hours (Sum)=%{text}<extra></extra>\",\"legendgroup\":\"Marketing\",\"marker\":{\"color\":\"#EF553B\",\"pattern\":{\"shape\":\"\"}},\"name\":\"Marketing\",\"offsetgroup\":\"Marketing\",\"orientation\":\"v\",\"showlegend\":false,\"text\":[303.5331230283912],\"textposition\":\"auto\",\"x\":[\"Marketing\"],\"xaxis\":\"x\",\"y\":[303.5331230283912],\"yaxis\":\"y\",\"type\":\"bar\"},{\"alignmentgroup\":\"True\",\"hovertemplate\":\"Program=%{x}<br>Month=Apr 2023<br>Total Hours (Sum)=%{text}<extra></extra>\",\"legendgroup\":\"Operations\",\"marker\":{\"color\":\"#00cc96\",\"pattern\":{\"shape\":\"\"}},\"name\":\"Operations\",\"offsetgroup\":\"Operations\",\"orientation\":\"v\",\"showlegend\":true,\"text\":[312.9767441860465],\"textposition\":\"auto\",\"x\":[\"Operations\"],\"xaxis\":\"x4\",\"y\":[312.9767441860465],\"yaxis\":\"y4\",\"type\":\"bar\"},{\"alignmentgroup\":\"True\",\"hovertemplate\":\"Program=%{x}<br>Month=Feb 2023<br>Total Hours (Sum)=%{text}<extra></extra>\",\"legendgroup\":\"Operations\",\"marker\":{\"color\":\"#00cc96\",\"pattern\":{\"shape\":\"\"}},\"name\":\"Operations\",\"offsetgroup\":\"Operations\",\"orientation\":\"v\",\"showlegend\":false,\"text\":[308.38795986622074],\"textposition\":\"auto\",\"x\":[\"Operations\"],\"xaxis\":\"x3\",\"y\":[308.38795986622074],\"yaxis\":\"y3\",\"type\":\"bar\"},{\"alignmentgroup\":\"True\",\"hovertemplate\":\"Program=%{x}<br>Month=Jan 2023<br>Total Hours (Sum)=%{text}<extra></extra>\",\"legendgroup\":\"Operations\",\"marker\":{\"color\":\"#00cc96\",\"pattern\":{\"shape\":\"\"}},\"name\":\"Operations\",\"offsetgroup\":\"Operations\",\"orientation\":\"v\",\"showlegend\":false,\"text\":[305.99661016949153],\"textposition\":\"auto\",\"x\":[\"Operations\"],\"xaxis\":\"x2\",\"y\":[305.99661016949153],\"yaxis\":\"y2\",\"type\":\"bar\"},{\"alignmentgroup\":\"True\",\"hovertemplate\":\"Program=%{x}<br>Month=Mar 2023<br>Total Hours (Sum)=%{text}<extra></extra>\",\"legendgroup\":\"Operations\",\"marker\":{\"color\":\"#00cc96\",\"pattern\":{\"shape\":\"\"}},\"name\":\"Operations\",\"offsetgroup\":\"Operations\",\"orientation\":\"v\",\"showlegend\":false,\"text\":[306.629179331307],\"textposition\":\"auto\",\"x\":[\"Operations\"],\"xaxis\":\"x\",\"y\":[306.629179331307],\"yaxis\":\"y\",\"type\":\"bar\"},{\"alignmentgroup\":\"True\",\"hovertemplate\":\"Program=%{x}<br>Month=Apr 2023<br>Total Hours (Sum)=%{text}<extra></extra>\",\"legendgroup\":\"Sales\",\"marker\":{\"color\":\"#ab63fa\",\"pattern\":{\"shape\":\"\"}},\"name\":\"Sales\",\"offsetgroup\":\"Sales\",\"orientation\":\"v\",\"showlegend\":true,\"text\":[309.3127035830619],\"textposition\":\"auto\",\"x\":[\"Sales\"],\"xaxis\":\"x4\",\"y\":[309.3127035830619],\"yaxis\":\"y4\",\"type\":\"bar\"},{\"alignmentgroup\":\"True\",\"hovertemplate\":\"Program=%{x}<br>Month=Feb 2023<br>Total Hours (Sum)=%{text}<extra></extra>\",\"legendgroup\":\"Sales\",\"marker\":{\"color\":\"#ab63fa\",\"pattern\":{\"shape\":\"\"}},\"name\":\"Sales\",\"offsetgroup\":\"Sales\",\"orientation\":\"v\",\"showlegend\":false,\"text\":[301.12861736334406],\"textposition\":\"auto\",\"x\":[\"Sales\"],\"xaxis\":\"x3\",\"y\":[301.12861736334406],\"yaxis\":\"y3\",\"type\":\"bar\"},{\"alignmentgroup\":\"True\",\"hovertemplate\":\"Program=%{x}<br>Month=Jan 2023<br>Total Hours (Sum)=%{text}<extra></extra>\",\"legendgroup\":\"Sales\",\"marker\":{\"color\":\"#ab63fa\",\"pattern\":{\"shape\":\"\"}},\"name\":\"Sales\",\"offsetgroup\":\"Sales\",\"orientation\":\"v\",\"showlegend\":false,\"text\":[309.1472602739726],\"textposition\":\"auto\",\"x\":[\"Sales\"],\"xaxis\":\"x2\",\"y\":[309.1472602739726],\"yaxis\":\"y2\",\"type\":\"bar\"},{\"alignmentgroup\":\"True\",\"hovertemplate\":\"Program=%{x}<br>Month=Mar 2023<br>Total Hours (Sum)=%{text}<extra></extra>\",\"legendgroup\":\"Sales\",\"marker\":{\"color\":\"#ab63fa\",\"pattern\":{\"shape\":\"\"}},\"name\":\"Sales\",\"offsetgroup\":\"Sales\",\"orientation\":\"v\",\"showlegend\":false,\"text\":[304.5732087227414],\"textposition\":\"auto\",\"x\":[\"Sales\"],\"xaxis\":\"x\",\"y\":[304.5732087227414],\"yaxis\":\"y\",\"type\":\"bar\"}],                        {\"template\":{\"data\":{\"histogram2dcontour\":[{\"type\":\"histogram2dcontour\",\"colorbar\":{\"outlinewidth\":0,\"ticks\":\"\"},\"colorscale\":[[0.0,\"#0d0887\"],[0.1111111111111111,\"#46039f\"],[0.2222222222222222,\"#7201a8\"],[0.3333333333333333,\"#9c179e\"],[0.4444444444444444,\"#bd3786\"],[0.5555555555555556,\"#d8576b\"],[0.6666666666666666,\"#ed7953\"],[0.7777777777777778,\"#fb9f3a\"],[0.8888888888888888,\"#fdca26\"],[1.0,\"#f0f921\"]]}],\"choropleth\":[{\"type\":\"choropleth\",\"colorbar\":{\"outlinewidth\":0,\"ticks\":\"\"}}],\"histogram2d\":[{\"type\":\"histogram2d\",\"colorbar\":{\"outlinewidth\":0,\"ticks\":\"\"},\"colorscale\":[[0.0,\"#0d0887\"],[0.1111111111111111,\"#46039f\"],[0.2222222222222222,\"#7201a8\"],[0.3333333333333333,\"#9c179e\"],[0.4444444444444444,\"#bd3786\"],[0.5555555555555556,\"#d8576b\"],[0.6666666666666666,\"#ed7953\"],[0.7777777777777778,\"#fb9f3a\"],[0.8888888888888888,\"#fdca26\"],[1.0,\"#f0f921\"]]}],\"heatmap\":[{\"type\":\"heatmap\",\"colorbar\":{\"outlinewidth\":0,\"ticks\":\"\"},\"colorscale\":[[0.0,\"#0d0887\"],[0.1111111111111111,\"#46039f\"],[0.2222222222222222,\"#7201a8\"],[0.3333333333333333,\"#9c179e\"],[0.4444444444444444,\"#bd3786\"],[0.5555555555555556,\"#d8576b\"],[0.6666666666666666,\"#ed7953\"],[0.7777777777777778,\"#fb9f3a\"],[0.8888888888888888,\"#fdca26\"],[1.0,\"#f0f921\"]]}],\"heatmapgl\":[{\"type\":\"heatmapgl\",\"colorbar\":{\"outlinewidth\":0,\"ticks\":\"\"},\"colorscale\":[[0.0,\"#0d0887\"],[0.1111111111111111,\"#46039f\"],[0.2222222222222222,\"#7201a8\"],[0.3333333333333333,\"#9c179e\"],[0.4444444444444444,\"#bd3786\"],[0.5555555555555556,\"#d8576b\"],[0.6666666666666666,\"#ed7953\"],[0.7777777777777778,\"#fb9f3a\"],[0.8888888888888888,\"#fdca26\"],[1.0,\"#f0f921\"]]}],\"contourcarpet\":[{\"type\":\"contourcarpet\",\"colorbar\":{\"outlinewidth\":0,\"ticks\":\"\"}}],\"contour\":[{\"type\":\"contour\",\"colorbar\":{\"outlinewidth\":0,\"ticks\":\"\"},\"colorscale\":[[0.0,\"#0d0887\"],[0.1111111111111111,\"#46039f\"],[0.2222222222222222,\"#7201a8\"],[0.3333333333333333,\"#9c179e\"],[0.4444444444444444,\"#bd3786\"],[0.5555555555555556,\"#d8576b\"],[0.6666666666666666,\"#ed7953\"],[0.7777777777777778,\"#fb9f3a\"],[0.8888888888888888,\"#fdca26\"],[1.0,\"#f0f921\"]]}],\"surface\":[{\"type\":\"surface\",\"colorbar\":{\"outlinewidth\":0,\"ticks\":\"\"},\"colorscale\":[[0.0,\"#0d0887\"],[0.1111111111111111,\"#46039f\"],[0.2222222222222222,\"#7201a8\"],[0.3333333333333333,\"#9c179e\"],[0.4444444444444444,\"#bd3786\"],[0.5555555555555556,\"#d8576b\"],[0.6666666666666666,\"#ed7953\"],[0.7777777777777778,\"#fb9f3a\"],[0.8888888888888888,\"#fdca26\"],[1.0,\"#f0f921\"]]}],\"mesh3d\":[{\"type\":\"mesh3d\",\"colorbar\":{\"outlinewidth\":0,\"ticks\":\"\"}}],\"scatter\":[{\"fillpattern\":{\"fillmode\":\"overlay\",\"size\":10,\"solidity\":0.2},\"type\":\"scatter\"}],\"parcoords\":[{\"type\":\"parcoords\",\"line\":{\"colorbar\":{\"outlinewidth\":0,\"ticks\":\"\"}}}],\"scatterpolargl\":[{\"type\":\"scatterpolargl\",\"marker\":{\"colorbar\":{\"outlinewidth\":0,\"ticks\":\"\"}}}],\"bar\":[{\"error_x\":{\"color\":\"#2a3f5f\"},\"error_y\":{\"color\":\"#2a3f5f\"},\"marker\":{\"line\":{\"color\":\"#E5ECF6\",\"width\":0.5},\"pattern\":{\"fillmode\":\"overlay\",\"size\":10,\"solidity\":0.2}},\"type\":\"bar\"}],\"scattergeo\":[{\"type\":\"scattergeo\",\"marker\":{\"colorbar\":{\"outlinewidth\":0,\"ticks\":\"\"}}}],\"scatterpolar\":[{\"type\":\"scatterpolar\",\"marker\":{\"colorbar\":{\"outlinewidth\":0,\"ticks\":\"\"}}}],\"histogram\":[{\"marker\":{\"pattern\":{\"fillmode\":\"overlay\",\"size\":10,\"solidity\":0.2}},\"type\":\"histogram\"}],\"scattergl\":[{\"type\":\"scattergl\",\"marker\":{\"colorbar\":{\"outlinewidth\":0,\"ticks\":\"\"}}}],\"scatter3d\":[{\"type\":\"scatter3d\",\"line\":{\"colorbar\":{\"outlinewidth\":0,\"ticks\":\"\"}},\"marker\":{\"colorbar\":{\"outlinewidth\":0,\"ticks\":\"\"}}}],\"scattermapbox\":[{\"type\":\"scattermapbox\",\"marker\":{\"colorbar\":{\"outlinewidth\":0,\"ticks\":\"\"}}}],\"scatterternary\":[{\"type\":\"scatterternary\",\"marker\":{\"colorbar\":{\"outlinewidth\":0,\"ticks\":\"\"}}}],\"scattercarpet\":[{\"type\":\"scattercarpet\",\"marker\":{\"colorbar\":{\"outlinewidth\":0,\"ticks\":\"\"}}}],\"carpet\":[{\"aaxis\":{\"endlinecolor\":\"#2a3f5f\",\"gridcolor\":\"white\",\"linecolor\":\"white\",\"minorgridcolor\":\"white\",\"startlinecolor\":\"#2a3f5f\"},\"baxis\":{\"endlinecolor\":\"#2a3f5f\",\"gridcolor\":\"white\",\"linecolor\":\"white\",\"minorgridcolor\":\"white\",\"startlinecolor\":\"#2a3f5f\"},\"type\":\"carpet\"}],\"table\":[{\"cells\":{\"fill\":{\"color\":\"#EBF0F8\"},\"line\":{\"color\":\"white\"}},\"header\":{\"fill\":{\"color\":\"#C8D4E3\"},\"line\":{\"color\":\"white\"}},\"type\":\"table\"}],\"barpolar\":[{\"marker\":{\"line\":{\"color\":\"#E5ECF6\",\"width\":0.5},\"pattern\":{\"fillmode\":\"overlay\",\"size\":10,\"solidity\":0.2}},\"type\":\"barpolar\"}],\"pie\":[{\"automargin\":true,\"type\":\"pie\"}]},\"layout\":{\"autotypenumbers\":\"strict\",\"colorway\":[\"#636efa\",\"#EF553B\",\"#00cc96\",\"#ab63fa\",\"#FFA15A\",\"#19d3f3\",\"#FF6692\",\"#B6E880\",\"#FF97FF\",\"#FECB52\"],\"font\":{\"color\":\"#2a3f5f\"},\"hovermode\":\"closest\",\"hoverlabel\":{\"align\":\"left\"},\"paper_bgcolor\":\"white\",\"plot_bgcolor\":\"#E5ECF6\",\"polar\":{\"bgcolor\":\"#E5ECF6\",\"angularaxis\":{\"gridcolor\":\"white\",\"linecolor\":\"white\",\"ticks\":\"\"},\"radialaxis\":{\"gridcolor\":\"white\",\"linecolor\":\"white\",\"ticks\":\"\"}},\"ternary\":{\"bgcolor\":\"#E5ECF6\",\"aaxis\":{\"gridcolor\":\"white\",\"linecolor\":\"white\",\"ticks\":\"\"},\"baxis\":{\"gridcolor\":\"white\",\"linecolor\":\"white\",\"ticks\":\"\"},\"caxis\":{\"gridcolor\":\"white\",\"linecolor\":\"white\",\"ticks\":\"\"}},\"coloraxis\":{\"colorbar\":{\"outlinewidth\":0,\"ticks\":\"\"}},\"colorscale\":{\"sequential\":[[0.0,\"#0d0887\"],[0.1111111111111111,\"#46039f\"],[0.2222222222222222,\"#7201a8\"],[0.3333333333333333,\"#9c179e\"],[0.4444444444444444,\"#bd3786\"],[0.5555555555555556,\"#d8576b\"],[0.6666666666666666,\"#ed7953\"],[0.7777777777777778,\"#fb9f3a\"],[0.8888888888888888,\"#fdca26\"],[1.0,\"#f0f921\"]],\"sequentialminus\":[[0.0,\"#0d0887\"],[0.1111111111111111,\"#46039f\"],[0.2222222222222222,\"#7201a8\"],[0.3333333333333333,\"#9c179e\"],[0.4444444444444444,\"#bd3786\"],[0.5555555555555556,\"#d8576b\"],[0.6666666666666666,\"#ed7953\"],[0.7777777777777778,\"#fb9f3a\"],[0.8888888888888888,\"#fdca26\"],[1.0,\"#f0f921\"]],\"diverging\":[[0,\"#8e0152\"],[0.1,\"#c51b7d\"],[0.2,\"#de77ae\"],[0.3,\"#f1b6da\"],[0.4,\"#fde0ef\"],[0.5,\"#f7f7f7\"],[0.6,\"#e6f5d0\"],[0.7,\"#b8e186\"],[0.8,\"#7fbc41\"],[0.9,\"#4d9221\"],[1,\"#276419\"]]},\"xaxis\":{\"gridcolor\":\"white\",\"linecolor\":\"white\",\"ticks\":\"\",\"title\":{\"standoff\":15},\"zerolinecolor\":\"white\",\"automargin\":true,\"zerolinewidth\":2},\"yaxis\":{\"gridcolor\":\"white\",\"linecolor\":\"white\",\"ticks\":\"\",\"title\":{\"standoff\":15},\"zerolinecolor\":\"white\",\"automargin\":true,\"zerolinewidth\":2},\"scene\":{\"xaxis\":{\"backgroundcolor\":\"#E5ECF6\",\"gridcolor\":\"white\",\"linecolor\":\"white\",\"showbackground\":true,\"ticks\":\"\",\"zerolinecolor\":\"white\",\"gridwidth\":2},\"yaxis\":{\"backgroundcolor\":\"#E5ECF6\",\"gridcolor\":\"white\",\"linecolor\":\"white\",\"showbackground\":true,\"ticks\":\"\",\"zerolinecolor\":\"white\",\"gridwidth\":2},\"zaxis\":{\"backgroundcolor\":\"#E5ECF6\",\"gridcolor\":\"white\",\"linecolor\":\"white\",\"showbackground\":true,\"ticks\":\"\",\"zerolinecolor\":\"white\",\"gridwidth\":2}},\"shapedefaults\":{\"line\":{\"color\":\"#2a3f5f\"}},\"annotationdefaults\":{\"arrowcolor\":\"#2a3f5f\",\"arrowhead\":0,\"arrowwidth\":1},\"geo\":{\"bgcolor\":\"white\",\"landcolor\":\"#E5ECF6\",\"subunitcolor\":\"white\",\"showland\":true,\"showlakes\":true,\"lakecolor\":\"white\"},\"title\":{\"x\":0.05},\"mapbox\":{\"style\":\"light\"}}},\"xaxis\":{\"anchor\":\"y\",\"domain\":[0.0,0.98],\"title\":{\"text\":\"Program\"},\"categoryorder\":\"array\",\"categoryarray\":[\"Finance\",\"Marketing\",\"Operations\",\"Sales\"],\"tickangle\":-45},\"yaxis\":{\"anchor\":\"x\",\"domain\":[0.0,0.2275],\"title\":{\"text\":\"Total Hours\"}},\"xaxis2\":{\"anchor\":\"y2\",\"domain\":[0.0,0.98],\"matches\":\"x\",\"showticklabels\":false},\"yaxis2\":{\"anchor\":\"x2\",\"domain\":[0.2575,0.485],\"matches\":\"y\",\"title\":{\"text\":\"Total Hours (Sum)\"}},\"xaxis3\":{\"anchor\":\"y3\",\"domain\":[0.0,0.98],\"matches\":\"x\",\"showticklabels\":false},\"yaxis3\":{\"anchor\":\"x3\",\"domain\":[0.515,0.7425],\"matches\":\"y\",\"title\":{\"text\":\"Total Hours (Sum)\"}},\"xaxis4\":{\"anchor\":\"y4\",\"domain\":[0.0,0.98],\"matches\":\"x\",\"showticklabels\":false},\"yaxis4\":{\"anchor\":\"x4\",\"domain\":[0.7725,1.0],\"matches\":\"y\",\"title\":{\"text\":\"Total Hours (Sum)\"}},\"annotations\":[{\"font\":{},\"showarrow\":false,\"text\":\"Month=Mar 2023\",\"textangle\":90,\"x\":0.98,\"xanchor\":\"left\",\"xref\":\"paper\",\"y\":0.11375,\"yanchor\":\"middle\",\"yref\":\"paper\"},{\"font\":{},\"showarrow\":false,\"text\":\"Month=Jan 2023\",\"textangle\":90,\"x\":0.98,\"xanchor\":\"left\",\"xref\":\"paper\",\"y\":0.37124999999999997,\"yanchor\":\"middle\",\"yref\":\"paper\"},{\"font\":{},\"showarrow\":false,\"text\":\"Month=Feb 2023\",\"textangle\":90,\"x\":0.98,\"xanchor\":\"left\",\"xref\":\"paper\",\"y\":0.62875,\"yanchor\":\"middle\",\"yref\":\"paper\"},{\"font\":{},\"showarrow\":false,\"text\":\"Month=Apr 2023\",\"textangle\":90,\"x\":0.98,\"xanchor\":\"left\",\"xref\":\"paper\",\"y\":0.88625,\"yanchor\":\"middle\",\"yref\":\"paper\"}],\"legend\":{\"title\":{\"text\":\"Program\"},\"tracegroupgap\":0},\"title\":{\"text\":\"Total Hours per Program by Collection Period\"},\"barmode\":\"relative\",\"shapes\":[{\"line\":{\"color\":\"red\",\"width\":2},\"type\":\"line\",\"x0\":-0.5,\"x1\":15.5,\"y0\":[5.1354231974921625,5.078726287262873,5.1285166940339355,5.08005485893417],\"y1\":[5.1354231974921625,5.078726287262873,5.1285166940339355,5.08005485893417]}],\"showlegend\":false,\"height\":800},                        {\"responsive\": true}                    )                };                            </script>        </div>\n",
       "</body>\n",
       "</html>"
      ]
     },
     "metadata": {},
     "output_type": "display_data"
    }
   ],
   "source": [
    "# Calculate the sum of 'Total Minutes' for each staff in each collection period\n",
    "staff_sum_df = TS_c.groupby([\"Program:\", 'Collection Period:'])['Total Minutes:'].mean().reset_index()\n",
    "\n",
    "# Convert the sum of 'Total Minutes' to hours by dividing by 60 and round to two decimal places\n",
    "staff_sum_df['Average Minutes:'] = (staff_sum_df['Total Minutes:'] / 60).round(2)\n",
    "\n",
    "# Create the Plotly bar plot\n",
    "fig = px.bar(staff_sum_df, x='Program:', y='Total Minutes:', color='Program:',\n",
    "             color_continuous_scale='Viridis',\n",
    "             labels={'Total Minutes:': 'Total Hours (Sum)', 'Program:': 'Program', 'Collection Period:': 'Month'},\n",
    "             title='Total Hours per Program by Collection Period',\n",
    "             text='Total Minutes:',\n",
    "             facet_row='Collection Period:')\n",
    "\n",
    "# Add a line trace for the overall average\n",
    "fig.add_shape(type='line',\n",
    "              x0=-0.5, x1=len(staff_sum_df['Program:']) - 0.5,\n",
    "              y0=overall_avg_minutes, y1=overall_avg_minutes,\n",
    "              line=dict(color='red', width=2))\n",
    "\n",
    "# Customize the layout\n",
    "fig.update_layout(xaxis_tickangle=-45, xaxis_title='Program', yaxis_title='Total Hours', showlegend=False, height=800)\n",
    "\n",
    "fig.show()"
   ]
  },
  {
   "cell_type": "code",
   "execution_count": 0,
   "metadata": {
    "application/vnd.databricks.v1+cell": {
     "cellMetadata": {
      "byteLimit": 2048000,
      "rowLimit": 10000
     },
     "inputWidgets": {},
     "nuid": "11c6b579-d7cd-49c4-ad60-0a13f4fad836",
     "showTitle": false,
     "title": ""
    }
   },
   "outputs": [
    {
     "output_type": "display_data",
     "data": {
      "text/html": [
       "<html>\n",
       "<head><meta charset=\"utf-8\" /></head>\n",
       "<body>\n",
       "    <div>            <script src=\"https://cdnjs.cloudflare.com/ajax/libs/mathjax/2.7.5/MathJax.js?config=TeX-AMS-MML_SVG\"></script><script type=\"text/javascript\">if (window.MathJax && window.MathJax.Hub && window.MathJax.Hub.Config) {window.MathJax.Hub.Config({SVG: {font: \"STIX-Web\"}});}</script>                <script type=\"text/javascript\">window.PlotlyConfig = {MathJaxConfig: 'local'};</script>\n",
       "        <script src=\"https://cdn.plot.ly/plotly-2.12.1.min.js\"></script>                <div id=\"231e659b-ca0f-4c1a-afce-0fb55daf8edd\" class=\"plotly-graph-div\" style=\"height:600px; width:100%;\"></div>            <script type=\"text/javascript\">                                    window.PLOTLYENV=window.PLOTLYENV || {};                                    if (document.getElementById(\"231e659b-ca0f-4c1a-afce-0fb55daf8edd\")) {                    Plotly.newPlot(                        \"231e659b-ca0f-4c1a-afce-0fb55daf8edd\",                        [{\"alignmentgroup\":\"True\",\"hovertemplate\":\"Program=%{x}<br>Total Hours (Sum)=%{y}<br>Total Minutes:=%{text}<extra></extra>\",\"legendgroup\":\"Finance\",\"marker\":{\"color\":\"#636efa\",\"pattern\":{\"shape\":\"\"}},\"name\":\"Finance\",\"offsetgroup\":\"Finance\",\"orientation\":\"v\",\"showlegend\":true,\"text\":[305.7641509433962],\"textposition\":\"auto\",\"x\":[\"Finance\"],\"xaxis\":\"x\",\"y\":[5.1],\"yaxis\":\"y\",\"type\":\"bar\"},{\"alignmentgroup\":\"True\",\"hovertemplate\":\"Program=%{x}<br>Total Hours (Sum)=%{y}<br>Total Minutes:=%{text}<extra></extra>\",\"legendgroup\":\"Marketing\",\"marker\":{\"color\":\"#EF553B\",\"pattern\":{\"shape\":\"\"}},\"name\":\"Marketing\",\"offsetgroup\":\"Marketing\",\"orientation\":\"v\",\"showlegend\":true,\"text\":[305.22702278083267],\"textposition\":\"auto\",\"x\":[\"Marketing\"],\"xaxis\":\"x\",\"y\":[5.09],\"yaxis\":\"y\",\"type\":\"bar\"},{\"alignmentgroup\":\"True\",\"hovertemplate\":\"Program=%{x}<br>Total Hours (Sum)=%{y}<br>Total Minutes:=%{text}<extra></extra>\",\"legendgroup\":\"Operations\",\"marker\":{\"color\":\"#00cc96\",\"pattern\":{\"shape\":\"\"}},\"name\":\"Operations\",\"offsetgroup\":\"Operations\",\"orientation\":\"v\",\"showlegend\":true,\"text\":[308.4673202614379],\"textposition\":\"auto\",\"x\":[\"Operations\"],\"xaxis\":\"x\",\"y\":[5.14],\"yaxis\":\"y\",\"type\":\"bar\"},{\"alignmentgroup\":\"True\",\"hovertemplate\":\"Program=%{x}<br>Total Hours (Sum)=%{y}<br>Total Minutes:=%{text}<extra></extra>\",\"legendgroup\":\"Sales\",\"marker\":{\"color\":\"#ab63fa\",\"pattern\":{\"shape\":\"\"}},\"name\":\"Sales\",\"offsetgroup\":\"Sales\",\"orientation\":\"v\",\"showlegend\":true,\"text\":[305.96994313566205],\"textposition\":\"auto\",\"x\":[\"Sales\"],\"xaxis\":\"x\",\"y\":[5.1],\"yaxis\":\"y\",\"type\":\"bar\"}],                        {\"template\":{\"data\":{\"histogram2dcontour\":[{\"type\":\"histogram2dcontour\",\"colorbar\":{\"outlinewidth\":0,\"ticks\":\"\"},\"colorscale\":[[0.0,\"#0d0887\"],[0.1111111111111111,\"#46039f\"],[0.2222222222222222,\"#7201a8\"],[0.3333333333333333,\"#9c179e\"],[0.4444444444444444,\"#bd3786\"],[0.5555555555555556,\"#d8576b\"],[0.6666666666666666,\"#ed7953\"],[0.7777777777777778,\"#fb9f3a\"],[0.8888888888888888,\"#fdca26\"],[1.0,\"#f0f921\"]]}],\"choropleth\":[{\"type\":\"choropleth\",\"colorbar\":{\"outlinewidth\":0,\"ticks\":\"\"}}],\"histogram2d\":[{\"type\":\"histogram2d\",\"colorbar\":{\"outlinewidth\":0,\"ticks\":\"\"},\"colorscale\":[[0.0,\"#0d0887\"],[0.1111111111111111,\"#46039f\"],[0.2222222222222222,\"#7201a8\"],[0.3333333333333333,\"#9c179e\"],[0.4444444444444444,\"#bd3786\"],[0.5555555555555556,\"#d8576b\"],[0.6666666666666666,\"#ed7953\"],[0.7777777777777778,\"#fb9f3a\"],[0.8888888888888888,\"#fdca26\"],[1.0,\"#f0f921\"]]}],\"heatmap\":[{\"type\":\"heatmap\",\"colorbar\":{\"outlinewidth\":0,\"ticks\":\"\"},\"colorscale\":[[0.0,\"#0d0887\"],[0.1111111111111111,\"#46039f\"],[0.2222222222222222,\"#7201a8\"],[0.3333333333333333,\"#9c179e\"],[0.4444444444444444,\"#bd3786\"],[0.5555555555555556,\"#d8576b\"],[0.6666666666666666,\"#ed7953\"],[0.7777777777777778,\"#fb9f3a\"],[0.8888888888888888,\"#fdca26\"],[1.0,\"#f0f921\"]]}],\"heatmapgl\":[{\"type\":\"heatmapgl\",\"colorbar\":{\"outlinewidth\":0,\"ticks\":\"\"},\"colorscale\":[[0.0,\"#0d0887\"],[0.1111111111111111,\"#46039f\"],[0.2222222222222222,\"#7201a8\"],[0.3333333333333333,\"#9c179e\"],[0.4444444444444444,\"#bd3786\"],[0.5555555555555556,\"#d8576b\"],[0.6666666666666666,\"#ed7953\"],[0.7777777777777778,\"#fb9f3a\"],[0.8888888888888888,\"#fdca26\"],[1.0,\"#f0f921\"]]}],\"contourcarpet\":[{\"type\":\"contourcarpet\",\"colorbar\":{\"outlinewidth\":0,\"ticks\":\"\"}}],\"contour\":[{\"type\":\"contour\",\"colorbar\":{\"outlinewidth\":0,\"ticks\":\"\"},\"colorscale\":[[0.0,\"#0d0887\"],[0.1111111111111111,\"#46039f\"],[0.2222222222222222,\"#7201a8\"],[0.3333333333333333,\"#9c179e\"],[0.4444444444444444,\"#bd3786\"],[0.5555555555555556,\"#d8576b\"],[0.6666666666666666,\"#ed7953\"],[0.7777777777777778,\"#fb9f3a\"],[0.8888888888888888,\"#fdca26\"],[1.0,\"#f0f921\"]]}],\"surface\":[{\"type\":\"surface\",\"colorbar\":{\"outlinewidth\":0,\"ticks\":\"\"},\"colorscale\":[[0.0,\"#0d0887\"],[0.1111111111111111,\"#46039f\"],[0.2222222222222222,\"#7201a8\"],[0.3333333333333333,\"#9c179e\"],[0.4444444444444444,\"#bd3786\"],[0.5555555555555556,\"#d8576b\"],[0.6666666666666666,\"#ed7953\"],[0.7777777777777778,\"#fb9f3a\"],[0.8888888888888888,\"#fdca26\"],[1.0,\"#f0f921\"]]}],\"mesh3d\":[{\"type\":\"mesh3d\",\"colorbar\":{\"outlinewidth\":0,\"ticks\":\"\"}}],\"scatter\":[{\"fillpattern\":{\"fillmode\":\"overlay\",\"size\":10,\"solidity\":0.2},\"type\":\"scatter\"}],\"parcoords\":[{\"type\":\"parcoords\",\"line\":{\"colorbar\":{\"outlinewidth\":0,\"ticks\":\"\"}}}],\"scatterpolargl\":[{\"type\":\"scatterpolargl\",\"marker\":{\"colorbar\":{\"outlinewidth\":0,\"ticks\":\"\"}}}],\"bar\":[{\"error_x\":{\"color\":\"#2a3f5f\"},\"error_y\":{\"color\":\"#2a3f5f\"},\"marker\":{\"line\":{\"color\":\"#E5ECF6\",\"width\":0.5},\"pattern\":{\"fillmode\":\"overlay\",\"size\":10,\"solidity\":0.2}},\"type\":\"bar\"}],\"scattergeo\":[{\"type\":\"scattergeo\",\"marker\":{\"colorbar\":{\"outlinewidth\":0,\"ticks\":\"\"}}}],\"scatterpolar\":[{\"type\":\"scatterpolar\",\"marker\":{\"colorbar\":{\"outlinewidth\":0,\"ticks\":\"\"}}}],\"histogram\":[{\"marker\":{\"pattern\":{\"fillmode\":\"overlay\",\"size\":10,\"solidity\":0.2}},\"type\":\"histogram\"}],\"scattergl\":[{\"type\":\"scattergl\",\"marker\":{\"colorbar\":{\"outlinewidth\":0,\"ticks\":\"\"}}}],\"scatter3d\":[{\"type\":\"scatter3d\",\"line\":{\"colorbar\":{\"outlinewidth\":0,\"ticks\":\"\"}},\"marker\":{\"colorbar\":{\"outlinewidth\":0,\"ticks\":\"\"}}}],\"scattermapbox\":[{\"type\":\"scattermapbox\",\"marker\":{\"colorbar\":{\"outlinewidth\":0,\"ticks\":\"\"}}}],\"scatterternary\":[{\"type\":\"scatterternary\",\"marker\":{\"colorbar\":{\"outlinewidth\":0,\"ticks\":\"\"}}}],\"scattercarpet\":[{\"type\":\"scattercarpet\",\"marker\":{\"colorbar\":{\"outlinewidth\":0,\"ticks\":\"\"}}}],\"carpet\":[{\"aaxis\":{\"endlinecolor\":\"#2a3f5f\",\"gridcolor\":\"white\",\"linecolor\":\"white\",\"minorgridcolor\":\"white\",\"startlinecolor\":\"#2a3f5f\"},\"baxis\":{\"endlinecolor\":\"#2a3f5f\",\"gridcolor\":\"white\",\"linecolor\":\"white\",\"minorgridcolor\":\"white\",\"startlinecolor\":\"#2a3f5f\"},\"type\":\"carpet\"}],\"table\":[{\"cells\":{\"fill\":{\"color\":\"#EBF0F8\"},\"line\":{\"color\":\"white\"}},\"header\":{\"fill\":{\"color\":\"#C8D4E3\"},\"line\":{\"color\":\"white\"}},\"type\":\"table\"}],\"barpolar\":[{\"marker\":{\"line\":{\"color\":\"#E5ECF6\",\"width\":0.5},\"pattern\":{\"fillmode\":\"overlay\",\"size\":10,\"solidity\":0.2}},\"type\":\"barpolar\"}],\"pie\":[{\"automargin\":true,\"type\":\"pie\"}]},\"layout\":{\"autotypenumbers\":\"strict\",\"colorway\":[\"#636efa\",\"#EF553B\",\"#00cc96\",\"#ab63fa\",\"#FFA15A\",\"#19d3f3\",\"#FF6692\",\"#B6E880\",\"#FF97FF\",\"#FECB52\"],\"font\":{\"color\":\"#2a3f5f\"},\"hovermode\":\"closest\",\"hoverlabel\":{\"align\":\"left\"},\"paper_bgcolor\":\"white\",\"plot_bgcolor\":\"#E5ECF6\",\"polar\":{\"bgcolor\":\"#E5ECF6\",\"angularaxis\":{\"gridcolor\":\"white\",\"linecolor\":\"white\",\"ticks\":\"\"},\"radialaxis\":{\"gridcolor\":\"white\",\"linecolor\":\"white\",\"ticks\":\"\"}},\"ternary\":{\"bgcolor\":\"#E5ECF6\",\"aaxis\":{\"gridcolor\":\"white\",\"linecolor\":\"white\",\"ticks\":\"\"},\"baxis\":{\"gridcolor\":\"white\",\"linecolor\":\"white\",\"ticks\":\"\"},\"caxis\":{\"gridcolor\":\"white\",\"linecolor\":\"white\",\"ticks\":\"\"}},\"coloraxis\":{\"colorbar\":{\"outlinewidth\":0,\"ticks\":\"\"}},\"colorscale\":{\"sequential\":[[0.0,\"#0d0887\"],[0.1111111111111111,\"#46039f\"],[0.2222222222222222,\"#7201a8\"],[0.3333333333333333,\"#9c179e\"],[0.4444444444444444,\"#bd3786\"],[0.5555555555555556,\"#d8576b\"],[0.6666666666666666,\"#ed7953\"],[0.7777777777777778,\"#fb9f3a\"],[0.8888888888888888,\"#fdca26\"],[1.0,\"#f0f921\"]],\"sequentialminus\":[[0.0,\"#0d0887\"],[0.1111111111111111,\"#46039f\"],[0.2222222222222222,\"#7201a8\"],[0.3333333333333333,\"#9c179e\"],[0.4444444444444444,\"#bd3786\"],[0.5555555555555556,\"#d8576b\"],[0.6666666666666666,\"#ed7953\"],[0.7777777777777778,\"#fb9f3a\"],[0.8888888888888888,\"#fdca26\"],[1.0,\"#f0f921\"]],\"diverging\":[[0,\"#8e0152\"],[0.1,\"#c51b7d\"],[0.2,\"#de77ae\"],[0.3,\"#f1b6da\"],[0.4,\"#fde0ef\"],[0.5,\"#f7f7f7\"],[0.6,\"#e6f5d0\"],[0.7,\"#b8e186\"],[0.8,\"#7fbc41\"],[0.9,\"#4d9221\"],[1,\"#276419\"]]},\"xaxis\":{\"gridcolor\":\"white\",\"linecolor\":\"white\",\"ticks\":\"\",\"title\":{\"standoff\":15},\"zerolinecolor\":\"white\",\"automargin\":true,\"zerolinewidth\":2},\"yaxis\":{\"gridcolor\":\"white\",\"linecolor\":\"white\",\"ticks\":\"\",\"title\":{\"standoff\":15},\"zerolinecolor\":\"white\",\"automargin\":true,\"zerolinewidth\":2},\"scene\":{\"xaxis\":{\"backgroundcolor\":\"#E5ECF6\",\"gridcolor\":\"white\",\"linecolor\":\"white\",\"showbackground\":true,\"ticks\":\"\",\"zerolinecolor\":\"white\",\"gridwidth\":2},\"yaxis\":{\"backgroundcolor\":\"#E5ECF6\",\"gridcolor\":\"white\",\"linecolor\":\"white\",\"showbackground\":true,\"ticks\":\"\",\"zerolinecolor\":\"white\",\"gridwidth\":2},\"zaxis\":{\"backgroundcolor\":\"#E5ECF6\",\"gridcolor\":\"white\",\"linecolor\":\"white\",\"showbackground\":true,\"ticks\":\"\",\"zerolinecolor\":\"white\",\"gridwidth\":2}},\"shapedefaults\":{\"line\":{\"color\":\"#2a3f5f\"}},\"annotationdefaults\":{\"arrowcolor\":\"#2a3f5f\",\"arrowhead\":0,\"arrowwidth\":1},\"geo\":{\"bgcolor\":\"white\",\"landcolor\":\"#E5ECF6\",\"subunitcolor\":\"white\",\"showland\":true,\"showlakes\":true,\"lakecolor\":\"white\"},\"title\":{\"x\":0.05},\"mapbox\":{\"style\":\"light\"}}},\"xaxis\":{\"anchor\":\"y\",\"domain\":[0.0,1.0],\"title\":{\"text\":\"Program\"},\"categoryorder\":\"array\",\"categoryarray\":[\"Finance\",\"Marketing\",\"Operations\",\"Sales\"],\"tickangle\":-45},\"yaxis\":{\"anchor\":\"x\",\"domain\":[0.0,1.0],\"title\":{\"text\":\"Total Hours (Sum)\"}},\"legend\":{\"title\":{\"text\":\"Program\"},\"tracegroupgap\":0},\"title\":{\"text\":\"Total Hours Spent by Program\"},\"barmode\":\"relative\",\"showlegend\":false,\"height\":600},                        {\"responsive\": true}                    )                };                            </script>        </div>\n",
       "</body>\n",
       "</html>"
      ]
     },
     "metadata": {},
     "output_type": "display_data"
    }
   ],
   "source": [
    "import plotly.express as px\n",
    "\n",
    "# Calculate the sum of 'Total Minutes' for each staff in each program\n",
    "staff_sum_df = TS_c.groupby([\"Program:\"])['Total Minutes:'].mean().reset_index()\n",
    "\n",
    "# Convert the sum of 'Total Minutes' to hours by dividing by 60 and round to two decimal places\n",
    "staff_sum_df['Total Hours (Sum)'] = (staff_sum_df['Total Minutes:'] / 60).round(2)\n",
    "\n",
    "# Create the Plotly bar plot\n",
    "fig = px.bar(staff_sum_df, x='Program:', y='Total Hours (Sum)', color='Program:',\n",
    "             color_continuous_scale='Viridis',\n",
    "             labels={'Total Hours (Sum)': 'Total Hours (Sum)', 'Program:': 'Program'},\n",
    "             text='Total Minutes:',\n",
    "             title='Total Hours Spent by Program')\n",
    "\n",
    "# Customize the layout\n",
    "fig.update_layout(xaxis_tickangle=-45, xaxis_title='Program', yaxis_title='Total Hours (Sum)', showlegend=False, height=600)\n",
    "\n",
    "fig.show()"
   ]
  },
  {
   "cell_type": "code",
   "execution_count": 0,
   "metadata": {
    "application/vnd.databricks.v1+cell": {
     "cellMetadata": {
      "byteLimit": 2048000,
      "rowLimit": 10000
     },
     "inputWidgets": {},
     "nuid": "a5bb04c3-a5de-4175-a4b5-223bb03d646f",
     "showTitle": false,
     "title": ""
    }
   },
   "outputs": [
    {
     "output_type": "display_data",
     "data": {
      "text/plain": [
       "\u001B[0;31m---------------------------------------------------------------------------\u001B[0m\n",
       "\u001B[0;31mModuleNotFoundError\u001B[0m                       Traceback (most recent call last)\n",
       "File \u001B[0;32m<command-2642800944650149>, line 2\u001B[0m\n",
       "\u001B[1;32m      1\u001B[0m \u001B[38;5;28;01mfrom\u001B[39;00m \u001B[38;5;21;01mplotnine\u001B[39;00m \u001B[38;5;28;01mimport\u001B[39;00m ggplot, aes, geom_histogram,facet_grid,theme,element_text,geom_text,ylab\n",
       "\u001B[0;32m----> 2\u001B[0m \u001B[38;5;28mprint\u001B[39m(ggplot(TS_c)\u001B[38;5;241m+\u001B[39maes(x\u001B[38;5;241m=\u001B[39m\u001B[38;5;124m\"\u001B[39m\u001B[38;5;124mStaff Name:\u001B[39m\u001B[38;5;124m\"\u001B[39m)\u001B[38;5;241m+\u001B[39mylab(\u001B[38;5;124m\"\u001B[39m\u001B[38;5;124mNum of Advancing Sloven\u001B[39m\u001B[38;5;124m\"\u001B[39m)\u001B[38;5;241m+\u001B[39mgeom_histogram(binwidth\u001B[38;5;241m=\u001B[39m\u001B[38;5;241m0.5\u001B[39m)\u001B[38;5;241m+\u001B[39mfacet_grid(facets\u001B[38;5;241m=\u001B[39m\u001B[38;5;124m'\u001B[39m\u001B[38;5;124m~Collection Period:\u001B[39m\u001B[38;5;124m'\u001B[39m)\u001B[38;5;241m+\u001B[39mtheme(axis_text_x\u001B[38;5;241m=\u001B[39melement_text(angle\u001B[38;5;241m=\u001B[39m\u001B[38;5;241m45\u001B[39m, ha\u001B[38;5;241m=\u001B[39m\u001B[38;5;124m'\u001B[39m\u001B[38;5;124mright\u001B[39m\u001B[38;5;124m'\u001B[39m,size\u001B[38;5;241m=\u001B[39m\u001B[38;5;241m6\u001B[39m))\u001B[38;5;241m+\u001B[39mgeom_text(aes(label\u001B[38;5;241m=\u001B[39m\u001B[38;5;124m'\u001B[39m\u001B[38;5;124mstat(count)\u001B[39m\u001B[38;5;124m'\u001B[39m), stat\u001B[38;5;241m=\u001B[39m\u001B[38;5;124m'\u001B[39m\u001B[38;5;124mcount\u001B[39m\u001B[38;5;124m'\u001B[39m, va\u001B[38;5;241m=\u001B[39m\u001B[38;5;124m'\u001B[39m\u001B[38;5;124mbottom\u001B[39m\u001B[38;5;124m'\u001B[39m, format_string\u001B[38;5;241m=\u001B[39m\u001B[38;5;124m\"\u001B[39m\u001B[38;5;132;01m{:.0f}\u001B[39;00m\u001B[38;5;124m\"\u001B[39m,size\u001B[38;5;241m=\u001B[39m\u001B[38;5;241m5\u001B[39m))\n",
       "\u001B[1;32m      3\u001B[0m \u001B[38;5;66;03m#make the pic larger\u001B[39;00m\n",
       "\u001B[1;32m      4\u001B[0m \u001B[38;5;66;03m#distinguish the owner and creator\u001B[39;00m\n",
       "\n",
       "File \u001B[0;32m/local_disk0/.ephemeral_nfs/envs/pythonEnv-a6995c22-e37c-42bb-a6ec-513887c74cc9/lib/python3.10/site-packages/plotnine/ggplot.py:105\u001B[0m, in \u001B[0;36mggplot.__str__\u001B[0;34m(self)\u001B[0m\n",
       "\u001B[1;32m    101\u001B[0m \u001B[38;5;28;01mdef\u001B[39;00m \u001B[38;5;21m__str__\u001B[39m(\u001B[38;5;28mself\u001B[39m) \u001B[38;5;241m-\u001B[39m\u001B[38;5;241m>\u001B[39m \u001B[38;5;28mstr\u001B[39m:\n",
       "\u001B[1;32m    102\u001B[0m     \u001B[38;5;124;03m\"\"\"\u001B[39;00m\n",
       "\u001B[1;32m    103\u001B[0m \u001B[38;5;124;03m    Print/show the plot\u001B[39;00m\n",
       "\u001B[1;32m    104\u001B[0m \u001B[38;5;124;03m    \"\"\"\u001B[39;00m\n",
       "\u001B[0;32m--> 105\u001B[0m     \u001B[38;5;28;43mself\u001B[39;49m\u001B[38;5;241;43m.\u001B[39;49m\u001B[43mdraw\u001B[49m\u001B[43m(\u001B[49m\u001B[43mshow\u001B[49m\u001B[38;5;241;43m=\u001B[39;49m\u001B[38;5;28;43;01mTrue\u001B[39;49;00m\u001B[43m)\u001B[49m\n",
       "\u001B[1;32m    107\u001B[0m     \u001B[38;5;66;03m# Return and empty string so that print(p) is \"pretty\"\u001B[39;00m\n",
       "\u001B[1;32m    108\u001B[0m     \u001B[38;5;28;01mreturn\u001B[39;00m \u001B[38;5;124m\"\u001B[39m\u001B[38;5;124m\"\u001B[39m\n",
       "\n",
       "File \u001B[0;32m/local_disk0/.ephemeral_nfs/envs/pythonEnv-a6995c22-e37c-42bb-a6ec-513887c74cc9/lib/python3.10/site-packages/plotnine/ggplot.py:211\u001B[0m, in \u001B[0;36mggplot.draw\u001B[0;34m(self, show)\u001B[0m\n",
       "\u001B[1;32m    197\u001B[0m \u001B[38;5;28;01mdef\u001B[39;00m \u001B[38;5;21mdraw\u001B[39m(\u001B[38;5;28mself\u001B[39m, show: \u001B[38;5;28mbool\u001B[39m \u001B[38;5;241m=\u001B[39m \u001B[38;5;28;01mFalse\u001B[39;00m) \u001B[38;5;241m-\u001B[39m\u001B[38;5;241m>\u001B[39m Figure:\n",
       "\u001B[1;32m    198\u001B[0m     \u001B[38;5;124;03m\"\"\"\u001B[39;00m\n",
       "\u001B[1;32m    199\u001B[0m \u001B[38;5;124;03m    Render the complete plot\u001B[39;00m\n",
       "\u001B[1;32m    200\u001B[0m \n",
       "\u001B[0;32m   (...)\u001B[0m\n",
       "\u001B[1;32m    209\u001B[0m \u001B[38;5;124;03m        Matplotlib figure\u001B[39;00m\n",
       "\u001B[1;32m    210\u001B[0m \u001B[38;5;124;03m    \"\"\"\u001B[39;00m\n",
       "\u001B[0;32m--> 211\u001B[0m     \u001B[38;5;28;01mfrom\u001B[39;00m \u001B[38;5;21;01m.\u001B[39;00m\u001B[38;5;21;01m_mpl\u001B[39;00m\u001B[38;5;21;01m.\u001B[39;00m\u001B[38;5;21;01mlayout_engine\u001B[39;00m \u001B[38;5;28;01mimport\u001B[39;00m PlotnineLayoutEngine\n",
       "\u001B[1;32m    213\u001B[0m     \u001B[38;5;66;03m# Do not draw if drawn already.\u001B[39;00m\n",
       "\u001B[1;32m    214\u001B[0m     \u001B[38;5;66;03m# This prevents a needless error when reusing\u001B[39;00m\n",
       "\u001B[1;32m    215\u001B[0m     \u001B[38;5;66;03m# figure & axes in the jupyter notebook.\u001B[39;00m\n",
       "\u001B[1;32m    216\u001B[0m     \u001B[38;5;28;01mif\u001B[39;00m \u001B[38;5;28mhasattr\u001B[39m(\u001B[38;5;28mself\u001B[39m, \u001B[38;5;124m\"\u001B[39m\u001B[38;5;124mfigure\u001B[39m\u001B[38;5;124m\"\u001B[39m):\n",
       "\n",
       "File \u001B[0;32m/local_disk0/.ephemeral_nfs/envs/pythonEnv-a6995c22-e37c-42bb-a6ec-513887c74cc9/lib/python3.10/site-packages/plotnine/_mpl/layout_engine.py:6\u001B[0m\n",
       "\u001B[1;32m      3\u001B[0m \u001B[38;5;28;01mimport\u001B[39;00m \u001B[38;5;21;01mtyping\u001B[39;00m\n",
       "\u001B[1;32m      4\u001B[0m \u001B[38;5;28;01mfrom\u001B[39;00m \u001B[38;5;21;01mdataclasses\u001B[39;00m \u001B[38;5;28;01mimport\u001B[39;00m asdict, dataclass\n",
       "\u001B[0;32m----> 6\u001B[0m \u001B[38;5;28;01mfrom\u001B[39;00m \u001B[38;5;21;01mmatplotlib\u001B[39;00m\u001B[38;5;21;01m.\u001B[39;00m\u001B[38;5;21;01mlayout_engine\u001B[39;00m \u001B[38;5;28;01mimport\u001B[39;00m LayoutEngine\n",
       "\u001B[1;32m      8\u001B[0m \u001B[38;5;28;01mif\u001B[39;00m typing\u001B[38;5;241m.\u001B[39mTYPE_CHECKING:\n",
       "\u001B[1;32m      9\u001B[0m     \u001B[38;5;28;01mfrom\u001B[39;00m \u001B[38;5;21;01mtyping\u001B[39;00m \u001B[38;5;28;01mimport\u001B[39;00m Optional\n",
       "\n",
       "\u001B[0;31mModuleNotFoundError\u001B[0m: No module named 'matplotlib.layout_engine'"
      ]
     },
     "metadata": {
      "application/vnd.databricks.v1+output": {
       "arguments": {},
       "data": "\u001B[0;31m---------------------------------------------------------------------------\u001B[0m\n\u001B[0;31mModuleNotFoundError\u001B[0m                       Traceback (most recent call last)\nFile \u001B[0;32m<command-2642800944650149>, line 2\u001B[0m\n\u001B[1;32m      1\u001B[0m \u001B[38;5;28;01mfrom\u001B[39;00m \u001B[38;5;21;01mplotnine\u001B[39;00m \u001B[38;5;28;01mimport\u001B[39;00m ggplot, aes, geom_histogram,facet_grid,theme,element_text,geom_text,ylab\n\u001B[0;32m----> 2\u001B[0m \u001B[38;5;28mprint\u001B[39m(ggplot(TS_c)\u001B[38;5;241m+\u001B[39maes(x\u001B[38;5;241m=\u001B[39m\u001B[38;5;124m\"\u001B[39m\u001B[38;5;124mStaff Name:\u001B[39m\u001B[38;5;124m\"\u001B[39m)\u001B[38;5;241m+\u001B[39mylab(\u001B[38;5;124m\"\u001B[39m\u001B[38;5;124mNum of Advancing Sloven\u001B[39m\u001B[38;5;124m\"\u001B[39m)\u001B[38;5;241m+\u001B[39mgeom_histogram(binwidth\u001B[38;5;241m=\u001B[39m\u001B[38;5;241m0.5\u001B[39m)\u001B[38;5;241m+\u001B[39mfacet_grid(facets\u001B[38;5;241m=\u001B[39m\u001B[38;5;124m'\u001B[39m\u001B[38;5;124m~Collection Period:\u001B[39m\u001B[38;5;124m'\u001B[39m)\u001B[38;5;241m+\u001B[39mtheme(axis_text_x\u001B[38;5;241m=\u001B[39melement_text(angle\u001B[38;5;241m=\u001B[39m\u001B[38;5;241m45\u001B[39m, ha\u001B[38;5;241m=\u001B[39m\u001B[38;5;124m'\u001B[39m\u001B[38;5;124mright\u001B[39m\u001B[38;5;124m'\u001B[39m,size\u001B[38;5;241m=\u001B[39m\u001B[38;5;241m6\u001B[39m))\u001B[38;5;241m+\u001B[39mgeom_text(aes(label\u001B[38;5;241m=\u001B[39m\u001B[38;5;124m'\u001B[39m\u001B[38;5;124mstat(count)\u001B[39m\u001B[38;5;124m'\u001B[39m), stat\u001B[38;5;241m=\u001B[39m\u001B[38;5;124m'\u001B[39m\u001B[38;5;124mcount\u001B[39m\u001B[38;5;124m'\u001B[39m, va\u001B[38;5;241m=\u001B[39m\u001B[38;5;124m'\u001B[39m\u001B[38;5;124mbottom\u001B[39m\u001B[38;5;124m'\u001B[39m, format_string\u001B[38;5;241m=\u001B[39m\u001B[38;5;124m\"\u001B[39m\u001B[38;5;132;01m{:.0f}\u001B[39;00m\u001B[38;5;124m\"\u001B[39m,size\u001B[38;5;241m=\u001B[39m\u001B[38;5;241m5\u001B[39m))\n\u001B[1;32m      3\u001B[0m \u001B[38;5;66;03m#make the pic larger\u001B[39;00m\n\u001B[1;32m      4\u001B[0m \u001B[38;5;66;03m#distinguish the owner and creator\u001B[39;00m\n\nFile \u001B[0;32m/local_disk0/.ephemeral_nfs/envs/pythonEnv-a6995c22-e37c-42bb-a6ec-513887c74cc9/lib/python3.10/site-packages/plotnine/ggplot.py:105\u001B[0m, in \u001B[0;36mggplot.__str__\u001B[0;34m(self)\u001B[0m\n\u001B[1;32m    101\u001B[0m \u001B[38;5;28;01mdef\u001B[39;00m \u001B[38;5;21m__str__\u001B[39m(\u001B[38;5;28mself\u001B[39m) \u001B[38;5;241m-\u001B[39m\u001B[38;5;241m>\u001B[39m \u001B[38;5;28mstr\u001B[39m:\n\u001B[1;32m    102\u001B[0m     \u001B[38;5;124;03m\"\"\"\u001B[39;00m\n\u001B[1;32m    103\u001B[0m \u001B[38;5;124;03m    Print/show the plot\u001B[39;00m\n\u001B[1;32m    104\u001B[0m \u001B[38;5;124;03m    \"\"\"\u001B[39;00m\n\u001B[0;32m--> 105\u001B[0m     \u001B[38;5;28;43mself\u001B[39;49m\u001B[38;5;241;43m.\u001B[39;49m\u001B[43mdraw\u001B[49m\u001B[43m(\u001B[49m\u001B[43mshow\u001B[49m\u001B[38;5;241;43m=\u001B[39;49m\u001B[38;5;28;43;01mTrue\u001B[39;49;00m\u001B[43m)\u001B[49m\n\u001B[1;32m    107\u001B[0m     \u001B[38;5;66;03m# Return and empty string so that print(p) is \"pretty\"\u001B[39;00m\n\u001B[1;32m    108\u001B[0m     \u001B[38;5;28;01mreturn\u001B[39;00m \u001B[38;5;124m\"\u001B[39m\u001B[38;5;124m\"\u001B[39m\n\nFile \u001B[0;32m/local_disk0/.ephemeral_nfs/envs/pythonEnv-a6995c22-e37c-42bb-a6ec-513887c74cc9/lib/python3.10/site-packages/plotnine/ggplot.py:211\u001B[0m, in \u001B[0;36mggplot.draw\u001B[0;34m(self, show)\u001B[0m\n\u001B[1;32m    197\u001B[0m \u001B[38;5;28;01mdef\u001B[39;00m \u001B[38;5;21mdraw\u001B[39m(\u001B[38;5;28mself\u001B[39m, show: \u001B[38;5;28mbool\u001B[39m \u001B[38;5;241m=\u001B[39m \u001B[38;5;28;01mFalse\u001B[39;00m) \u001B[38;5;241m-\u001B[39m\u001B[38;5;241m>\u001B[39m Figure:\n\u001B[1;32m    198\u001B[0m     \u001B[38;5;124;03m\"\"\"\u001B[39;00m\n\u001B[1;32m    199\u001B[0m \u001B[38;5;124;03m    Render the complete plot\u001B[39;00m\n\u001B[1;32m    200\u001B[0m \n\u001B[0;32m   (...)\u001B[0m\n\u001B[1;32m    209\u001B[0m \u001B[38;5;124;03m        Matplotlib figure\u001B[39;00m\n\u001B[1;32m    210\u001B[0m \u001B[38;5;124;03m    \"\"\"\u001B[39;00m\n\u001B[0;32m--> 211\u001B[0m     \u001B[38;5;28;01mfrom\u001B[39;00m \u001B[38;5;21;01m.\u001B[39;00m\u001B[38;5;21;01m_mpl\u001B[39;00m\u001B[38;5;21;01m.\u001B[39;00m\u001B[38;5;21;01mlayout_engine\u001B[39;00m \u001B[38;5;28;01mimport\u001B[39;00m PlotnineLayoutEngine\n\u001B[1;32m    213\u001B[0m     \u001B[38;5;66;03m# Do not draw if drawn already.\u001B[39;00m\n\u001B[1;32m    214\u001B[0m     \u001B[38;5;66;03m# This prevents a needless error when reusing\u001B[39;00m\n\u001B[1;32m    215\u001B[0m     \u001B[38;5;66;03m# figure & axes in the jupyter notebook.\u001B[39;00m\n\u001B[1;32m    216\u001B[0m     \u001B[38;5;28;01mif\u001B[39;00m \u001B[38;5;28mhasattr\u001B[39m(\u001B[38;5;28mself\u001B[39m, \u001B[38;5;124m\"\u001B[39m\u001B[38;5;124mfigure\u001B[39m\u001B[38;5;124m\"\u001B[39m):\n\nFile \u001B[0;32m/local_disk0/.ephemeral_nfs/envs/pythonEnv-a6995c22-e37c-42bb-a6ec-513887c74cc9/lib/python3.10/site-packages/plotnine/_mpl/layout_engine.py:6\u001B[0m\n\u001B[1;32m      3\u001B[0m \u001B[38;5;28;01mimport\u001B[39;00m \u001B[38;5;21;01mtyping\u001B[39;00m\n\u001B[1;32m      4\u001B[0m \u001B[38;5;28;01mfrom\u001B[39;00m \u001B[38;5;21;01mdataclasses\u001B[39;00m \u001B[38;5;28;01mimport\u001B[39;00m asdict, dataclass\n\u001B[0;32m----> 6\u001B[0m \u001B[38;5;28;01mfrom\u001B[39;00m \u001B[38;5;21;01mmatplotlib\u001B[39;00m\u001B[38;5;21;01m.\u001B[39;00m\u001B[38;5;21;01mlayout_engine\u001B[39;00m \u001B[38;5;28;01mimport\u001B[39;00m LayoutEngine\n\u001B[1;32m      8\u001B[0m \u001B[38;5;28;01mif\u001B[39;00m typing\u001B[38;5;241m.\u001B[39mTYPE_CHECKING:\n\u001B[1;32m      9\u001B[0m     \u001B[38;5;28;01mfrom\u001B[39;00m \u001B[38;5;21;01mtyping\u001B[39;00m \u001B[38;5;28;01mimport\u001B[39;00m Optional\n\n\u001B[0;31mModuleNotFoundError\u001B[0m: No module named 'matplotlib.layout_engine'",
       "errorSummary": "<span class='ansi-red-fg'>ModuleNotFoundError</span>: No module named 'matplotlib.layout_engine'",
       "errorTraceType": "ansi",
       "metadata": {},
       "type": "ipynbError"
      }
     },
     "output_type": "display_data"
    }
   ],
   "source": [
    "from plotnine import ggplot, aes, geom_histogram,facet_grid,theme,element_text,geom_text,ylab\n",
    "print(ggplot(TS_c)+aes(x=\"Staff Name:\")+ylab(\"Num of Advancing Sloven\")+geom_histogram(binwidth=0.5)+facet_grid(facets='~Collection Period:')+theme(axis_text_x=element_text(angle=45, ha='right',size=6))+geom_text(aes(label='stat(count)'), stat='count', va='bottom', format_string=\"{:.0f}\",size=5))\n",
    "#make the pic larger\n",
    "#distinguish the owner and creator"
   ]
  },
  {
   "cell_type": "code",
   "execution_count": 0,
   "metadata": {
    "application/vnd.databricks.v1+cell": {
     "cellMetadata": {
      "byteLimit": 2048000,
      "rowLimit": 10000
     },
     "inputWidgets": {},
     "nuid": "25d949a2-c93b-4152-a171-3e0127433dc9",
     "showTitle": true,
     "title": "Data Transformation"
    }
   },
   "outputs": [],
   "source": [
    "#Uniform values in \"Stage\" and 'Budget type\" by lowercasing certain letters\n",
    "# Convert the values in \"Stage\" column to lowercase\n",
    "TS_c['Stage:'] = TS_c['Stage:'].str.lower()\n",
    "TS_c['Budget Type:'] = TS_c['Budget Type:'].str.lower()\n",
    "TS_c['Program:'] = TS_c['Program:'].str.lower()"
   ]
  },
  {
   "cell_type": "code",
   "execution_count": 0,
   "metadata": {
    "application/vnd.databricks.v1+cell": {
     "cellMetadata": {
      "byteLimit": 2048000,
      "rowLimit": 10000
     },
     "inputWidgets": {},
     "nuid": "e1c433d1-3378-43cc-9881-6c190e86867a",
     "showTitle": false,
     "title": ""
    }
   },
   "outputs": [
    {
     "output_type": "execute_result",
     "data": {
      "text/plain": [
       "marketing     1273\n",
       "finance       1272\n",
       "sales         1231\n",
       "operations    1224\n",
       "Name: Program:, dtype: int64"
      ]
     },
     "execution_count": 547,
     "metadata": {},
     "output_type": "execute_result"
    }
   ],
   "source": [
    "TS_c['Stage:'].value_counts()\n",
    "TS_c['Budget Type:'].value_counts()\n",
    "TS_c['Program:'].value_counts()"
   ]
  },
  {
   "cell_type": "code",
   "execution_count": 0,
   "metadata": {
    "application/vnd.databricks.v1+cell": {
     "cellMetadata": {
      "byteLimit": 2048000,
      "rowLimit": 10000
     },
     "inputWidgets": {},
     "nuid": "60f0df51-7eb9-4d01-951a-8766a44ab716",
     "showTitle": false,
     "title": ""
    }
   },
   "outputs": [],
   "source": [
    "# Count the occurrences of each \"CRM File #\" and create a new column \"CRM File # Count\"\n",
    "TS_c['CRM File # Count'] = TS_c.groupby('CRM File #:')['CRM File #:'].transform('count')\n",
    "\n",
    "# Set rows where \"CRM File #\" occurs less than 3 as \"other\"\n",
    "TS_c.loc[TS_c['CRM File # Count'] < 15, 'CRM File #:'] = 'other'\n",
    "\n",
    "# Drop the temporary \"CRM File # Count\" column if you don't need it anymore\n",
    "TS_c.drop(columns=['CRM File # Count'], inplace=True)"
   ]
  },
  {
   "cell_type": "code",
   "execution_count": 0,
   "metadata": {
    "application/vnd.databricks.v1+cell": {
     "cellMetadata": {
      "byteLimit": 2048000,
      "rowLimit": 10000
     },
     "inputWidgets": {},
     "nuid": "3378a32f-4184-43b5-b12a-e114920f9cc0",
     "showTitle": false,
     "title": ""
    }
   },
   "outputs": [
    {
     "output_type": "execute_result",
     "data": {
      "text/plain": [
       "other    5000\n",
       "Name: CRM File #:, dtype: int64"
      ]
     },
     "execution_count": 549,
     "metadata": {},
     "output_type": "execute_result"
    }
   ],
   "source": [
    "TS_c['CRM File #:'].value_counts()"
   ]
  },
  {
   "cell_type": "code",
   "execution_count": 0,
   "metadata": {
    "application/vnd.databricks.v1+cell": {
     "cellMetadata": {
      "byteLimit": 2048000,
      "rowLimit": 10000
     },
     "inputWidgets": {},
     "nuid": "b727682f-b298-418f-b060-cc7cfe4e9f9e",
     "showTitle": false,
     "title": ""
    }
   },
   "outputs": [
    {
     "output_type": "stream",
     "name": "stdout",
     "output_type": "stream",
     "text": [
      "Number of unique values: 4\n"
     ]
    }
   ],
   "source": [
    "unique_values_count = TS_c['Program:'].nunique()\n",
    "print(\"Number of unique values:\", unique_values_count)"
   ]
  },
  {
   "cell_type": "code",
   "execution_count": 0,
   "metadata": {
    "application/vnd.databricks.v1+cell": {
     "cellMetadata": {
      "byteLimit": 2048000,
      "rowLimit": 10000
     },
     "inputWidgets": {},
     "nuid": "5afb8258-b61b-4166-8167-3388932d4887",
     "showTitle": false,
     "title": ""
    }
   },
   "outputs": [
    {
     "output_type": "execute_result",
     "data": {
      "text/html": [
       "<div>\n",
       "<style scoped>\n",
       "    .dataframe tbody tr th:only-of-type {\n",
       "        vertical-align: middle;\n",
       "    }\n",
       "\n",
       "    .dataframe tbody tr th {\n",
       "        vertical-align: top;\n",
       "    }\n",
       "\n",
       "    .dataframe thead th {\n",
       "        text-align: right;\n",
       "    }\n",
       "</style>\n",
       "<table border=\"1\" class=\"dataframe\">\n",
       "  <thead>\n",
       "    <tr style=\"text-align: right;\">\n",
       "      <th></th>\n",
       "      <th>Collection Period:</th>\n",
       "      <th>Staff Name:</th>\n",
       "      <th>CRM File #:</th>\n",
       "      <th>Program:</th>\n",
       "      <th>Budget Type:</th>\n",
       "      <th>Activity Phase:</th>\n",
       "      <th>Stage:</th>\n",
       "      <th>Time Record #1</th>\n",
       "      <th>Time Record #2</th>\n",
       "      <th>Time Record #3</th>\n",
       "      <th>Time Record #4</th>\n",
       "      <th>Time Record #5</th>\n",
       "      <th>Time Record #6</th>\n",
       "      <th>Time Record #7</th>\n",
       "      <th>Time Record #8</th>\n",
       "      <th>Time Record #9</th>\n",
       "      <th>Time Record #10</th>\n",
       "      <th>Total Minutes:</th>\n",
       "    </tr>\n",
       "  </thead>\n",
       "  <tbody>\n",
       "    <tr>\n",
       "      <th>0</th>\n",
       "      <td>Feb 2023</td>\n",
       "      <td>Mary Brown</td>\n",
       "      <td>other</td>\n",
       "      <td>finance</td>\n",
       "      <td>sales</td>\n",
       "      <td>Planning</td>\n",
       "      <td>approved</td>\n",
       "      <td>57</td>\n",
       "      <td>15</td>\n",
       "      <td>32</td>\n",
       "      <td>5</td>\n",
       "      <td>51</td>\n",
       "      <td>57</td>\n",
       "      <td>25</td>\n",
       "      <td>59</td>\n",
       "      <td>1</td>\n",
       "      <td>28</td>\n",
       "      <td>330</td>\n",
       "    </tr>\n",
       "    <tr>\n",
       "      <th>1</th>\n",
       "      <td>Feb 2023</td>\n",
       "      <td>John Smith</td>\n",
       "      <td>other</td>\n",
       "      <td>finance</td>\n",
       "      <td>finance</td>\n",
       "      <td>Planning</td>\n",
       "      <td>final</td>\n",
       "      <td>34</td>\n",
       "      <td>34</td>\n",
       "      <td>25</td>\n",
       "      <td>50</td>\n",
       "      <td>16</td>\n",
       "      <td>27</td>\n",
       "      <td>52</td>\n",
       "      <td>35</td>\n",
       "      <td>39</td>\n",
       "      <td>3</td>\n",
       "      <td>315</td>\n",
       "    </tr>\n",
       "    <tr>\n",
       "      <th>2</th>\n",
       "      <td>Jan 2023</td>\n",
       "      <td>John Smith</td>\n",
       "      <td>other</td>\n",
       "      <td>finance</td>\n",
       "      <td>operations</td>\n",
       "      <td>Closure</td>\n",
       "      <td>final</td>\n",
       "      <td>22</td>\n",
       "      <td>42</td>\n",
       "      <td>23</td>\n",
       "      <td>55</td>\n",
       "      <td>18</td>\n",
       "      <td>46</td>\n",
       "      <td>56</td>\n",
       "      <td>54</td>\n",
       "      <td>30</td>\n",
       "      <td>2</td>\n",
       "      <td>348</td>\n",
       "    </tr>\n",
       "    <tr>\n",
       "      <th>3</th>\n",
       "      <td>Apr 2023</td>\n",
       "      <td>Mary Brown</td>\n",
       "      <td>other</td>\n",
       "      <td>operations</td>\n",
       "      <td>sales</td>\n",
       "      <td>Planning</td>\n",
       "      <td>draft</td>\n",
       "      <td>27</td>\n",
       "      <td>15</td>\n",
       "      <td>28</td>\n",
       "      <td>11</td>\n",
       "      <td>6</td>\n",
       "      <td>48</td>\n",
       "      <td>59</td>\n",
       "      <td>1</td>\n",
       "      <td>48</td>\n",
       "      <td>16</td>\n",
       "      <td>259</td>\n",
       "    </tr>\n",
       "    <tr>\n",
       "      <th>4</th>\n",
       "      <td>Jan 2023</td>\n",
       "      <td>John Smith</td>\n",
       "      <td>other</td>\n",
       "      <td>finance</td>\n",
       "      <td>finance</td>\n",
       "      <td>Closure</td>\n",
       "      <td>draft</td>\n",
       "      <td>11</td>\n",
       "      <td>31</td>\n",
       "      <td>35</td>\n",
       "      <td>13</td>\n",
       "      <td>54</td>\n",
       "      <td>16</td>\n",
       "      <td>43</td>\n",
       "      <td>54</td>\n",
       "      <td>53</td>\n",
       "      <td>45</td>\n",
       "      <td>355</td>\n",
       "    </tr>\n",
       "    <tr>\n",
       "      <th>...</th>\n",
       "      <td>...</td>\n",
       "      <td>...</td>\n",
       "      <td>...</td>\n",
       "      <td>...</td>\n",
       "      <td>...</td>\n",
       "      <td>...</td>\n",
       "      <td>...</td>\n",
       "      <td>...</td>\n",
       "      <td>...</td>\n",
       "      <td>...</td>\n",
       "      <td>...</td>\n",
       "      <td>...</td>\n",
       "      <td>...</td>\n",
       "      <td>...</td>\n",
       "      <td>...</td>\n",
       "      <td>...</td>\n",
       "      <td>...</td>\n",
       "      <td>...</td>\n",
       "    </tr>\n",
       "    <tr>\n",
       "      <th>4995</th>\n",
       "      <td>Jan 2023</td>\n",
       "      <td>Mary Brown</td>\n",
       "      <td>other</td>\n",
       "      <td>marketing</td>\n",
       "      <td>sales</td>\n",
       "      <td>Monitoring</td>\n",
       "      <td>final</td>\n",
       "      <td>6</td>\n",
       "      <td>48</td>\n",
       "      <td>31</td>\n",
       "      <td>51</td>\n",
       "      <td>60</td>\n",
       "      <td>7</td>\n",
       "      <td>58</td>\n",
       "      <td>3</td>\n",
       "      <td>58</td>\n",
       "      <td>19</td>\n",
       "      <td>341</td>\n",
       "    </tr>\n",
       "    <tr>\n",
       "      <th>4996</th>\n",
       "      <td>Feb 2023</td>\n",
       "      <td>Bob Johnson</td>\n",
       "      <td>other</td>\n",
       "      <td>marketing</td>\n",
       "      <td>operations</td>\n",
       "      <td>Monitoring</td>\n",
       "      <td>approved</td>\n",
       "      <td>19</td>\n",
       "      <td>21</td>\n",
       "      <td>57</td>\n",
       "      <td>54</td>\n",
       "      <td>48</td>\n",
       "      <td>29</td>\n",
       "      <td>51</td>\n",
       "      <td>21</td>\n",
       "      <td>11</td>\n",
       "      <td>45</td>\n",
       "      <td>356</td>\n",
       "    </tr>\n",
       "    <tr>\n",
       "      <th>4997</th>\n",
       "      <td>Jan 2023</td>\n",
       "      <td>Bob Johnson</td>\n",
       "      <td>other</td>\n",
       "      <td>sales</td>\n",
       "      <td>operations</td>\n",
       "      <td>Monitoring</td>\n",
       "      <td>draft</td>\n",
       "      <td>17</td>\n",
       "      <td>35</td>\n",
       "      <td>4</td>\n",
       "      <td>22</td>\n",
       "      <td>1</td>\n",
       "      <td>29</td>\n",
       "      <td>60</td>\n",
       "      <td>28</td>\n",
       "      <td>34</td>\n",
       "      <td>21</td>\n",
       "      <td>251</td>\n",
       "    </tr>\n",
       "    <tr>\n",
       "      <th>4998</th>\n",
       "      <td>Apr 2023</td>\n",
       "      <td>Mary Brown</td>\n",
       "      <td>other</td>\n",
       "      <td>finance</td>\n",
       "      <td>finance</td>\n",
       "      <td>Monitoring</td>\n",
       "      <td>review</td>\n",
       "      <td>59</td>\n",
       "      <td>17</td>\n",
       "      <td>34</td>\n",
       "      <td>27</td>\n",
       "      <td>54</td>\n",
       "      <td>48</td>\n",
       "      <td>57</td>\n",
       "      <td>59</td>\n",
       "      <td>9</td>\n",
       "      <td>49</td>\n",
       "      <td>413</td>\n",
       "    </tr>\n",
       "    <tr>\n",
       "      <th>4999</th>\n",
       "      <td>Apr 2023</td>\n",
       "      <td>Mary Brown</td>\n",
       "      <td>other</td>\n",
       "      <td>marketing</td>\n",
       "      <td>operations</td>\n",
       "      <td>Monitoring</td>\n",
       "      <td>draft</td>\n",
       "      <td>40</td>\n",
       "      <td>48</td>\n",
       "      <td>52</td>\n",
       "      <td>52</td>\n",
       "      <td>42</td>\n",
       "      <td>23</td>\n",
       "      <td>13</td>\n",
       "      <td>56</td>\n",
       "      <td>51</td>\n",
       "      <td>4</td>\n",
       "      <td>381</td>\n",
       "    </tr>\n",
       "  </tbody>\n",
       "</table>\n",
       "<p>5000 rows × 18 columns</p>\n",
       "</div>"
      ],
      "text/plain": [
       "     Collection Period:  Staff Name:  ... Time Record #10 Total Minutes:\n",
       "0              Feb 2023   Mary Brown  ...              28            330\n",
       "1              Feb 2023   John Smith  ...               3            315\n",
       "2              Jan 2023   John Smith  ...               2            348\n",
       "3              Apr 2023   Mary Brown  ...              16            259\n",
       "4              Jan 2023   John Smith  ...              45            355\n",
       "...                 ...          ...  ...             ...            ...\n",
       "4995           Jan 2023   Mary Brown  ...              19            341\n",
       "4996           Feb 2023  Bob Johnson  ...              45            356\n",
       "4997           Jan 2023  Bob Johnson  ...              21            251\n",
       "4998           Apr 2023   Mary Brown  ...              49            413\n",
       "4999           Apr 2023   Mary Brown  ...               4            381\n",
       "\n",
       "[5000 rows x 18 columns]"
      ]
     },
     "execution_count": 551,
     "metadata": {},
     "output_type": "execute_result"
    }
   ],
   "source": [
    "TS_c"
   ]
  },
  {
   "cell_type": "code",
   "execution_count": 0,
   "metadata": {
    "application/vnd.databricks.v1+cell": {
     "cellMetadata": {
      "byteLimit": 2048000,
      "rowLimit": 10000
     },
     "inputWidgets": {},
     "nuid": "2e153215-6f83-49a6-8ea1-e656ea321a44",
     "showTitle": false,
     "title": ""
    }
   },
   "outputs": [],
   "source": [
    "pd_con = TS_c['Program:'].str.get_dummies().drop('finance', axis=1)\n",
    "#set finance as the default column to be dropped bcs it occurs least frequently"
   ]
  },
  {
   "cell_type": "code",
   "execution_count": 0,
   "metadata": {
    "application/vnd.databricks.v1+cell": {
     "cellMetadata": {
      "byteLimit": 2048000,
      "rowLimit": 10000
     },
     "inputWidgets": {},
     "nuid": "4caecd7e-40b0-4716-9823-fcce8e416d0e",
     "showTitle": false,
     "title": ""
    }
   },
   "outputs": [],
   "source": [
    "pd_con = pd_con.add_prefix('Program:_')"
   ]
  },
  {
   "cell_type": "code",
   "execution_count": 0,
   "metadata": {
    "application/vnd.databricks.v1+cell": {
     "cellMetadata": {
      "byteLimit": 2048000,
      "rowLimit": 10000
     },
     "inputWidgets": {},
     "nuid": "bb1114da-5d9e-44f7-a3d9-8dc2e8f2344f",
     "showTitle": false,
     "title": ""
    }
   },
   "outputs": [],
   "source": [
    "TS_c_dropped = TS_c.drop(columns=['Program:'])\n",
    "\n",
    "# Get dummies for the DataFrame after dropping the 'Program:' column\n",
    "TS_f = pd.get_dummies(TS_c_dropped, drop_first=True)"
   ]
  },
  {
   "cell_type": "code",
   "execution_count": 0,
   "metadata": {
    "application/vnd.databricks.v1+cell": {
     "cellMetadata": {
      "byteLimit": 2048000,
      "rowLimit": 10000
     },
     "inputWidgets": {},
     "nuid": "9b42ac19-21b8-4f99-8f40-f145a523d846",
     "showTitle": false,
     "title": ""
    }
   },
   "outputs": [],
   "source": [
    "combined_df = pd.concat([pd_con, TS_f], axis=1)"
   ]
  },
  {
   "cell_type": "code",
   "execution_count": 0,
   "metadata": {
    "application/vnd.databricks.v1+cell": {
     "cellMetadata": {
      "byteLimit": 2048000,
      "rowLimit": 10000
     },
     "inputWidgets": {},
     "nuid": "f0a25c6c-a2ce-4981-bfcb-65a153c3ce7c",
     "showTitle": false,
     "title": ""
    }
   },
   "outputs": [
    {
     "output_type": "execute_result",
     "data": {
      "text/plain": [
       "Index(['Program:_marketing', 'Program:_operations', 'Program:_sales',\n",
       "       'Time Record #1', 'Time Record #2', 'Time Record #3', 'Time Record #4',\n",
       "       'Time Record #5', 'Time Record #6', 'Time Record #7', 'Time Record #8',\n",
       "       'Time Record #9', 'Time Record #10', 'Total Minutes:',\n",
       "       'Collection Period:_Feb 2023', 'Collection Period:_Jan 2023',\n",
       "       'Collection Period:_Mar 2023', 'Staff Name:_Jane Doe',\n",
       "       'Staff Name:_John Smith', 'Staff Name:_Mary Brown',\n",
       "       'Budget Type:_marketing', 'Budget Type:_operations',\n",
       "       'Budget Type:_sales', 'Activity Phase:_Execution',\n",
       "       'Activity Phase:_Monitoring', 'Activity Phase:_Planning',\n",
       "       'Stage:_draft', 'Stage:_final', 'Stage:_review'],\n",
       "      dtype='object')"
      ]
     },
     "execution_count": 556,
     "metadata": {},
     "output_type": "execute_result"
    }
   ],
   "source": [
    "combined_df.columns"
   ]
  },
  {
   "cell_type": "code",
   "execution_count": 0,
   "metadata": {
    "application/vnd.databricks.v1+cell": {
     "cellMetadata": {
      "byteLimit": 2048000,
      "rowLimit": 10000
     },
     "inputWidgets": {},
     "nuid": "51ff8fae-09f8-4e57-aeb3-139f8d55722b",
     "showTitle": false,
     "title": ""
    }
   },
   "outputs": [],
   "source": [
    "TS_f = combined_df"
   ]
  },
  {
   "cell_type": "code",
   "execution_count": 0,
   "metadata": {
    "application/vnd.databricks.v1+cell": {
     "cellMetadata": {
      "byteLimit": 2048000,
      "rowLimit": 10000
     },
     "inputWidgets": {},
     "nuid": "1b5157b5-f51d-4d11-b17b-315e47bf6d45",
     "showTitle": true,
     "title": "Highly Correlated Var Test"
    }
   },
   "outputs": [
    {
     "output_type": "stream",
     "name": "stdout",
     "output_type": "stream",
     "text": [
      "No highly correlated variables found.\n"
     ]
    }
   ],
   "source": [
    "# Calculate the correlation matrix\n",
    "corr_matrix = TS_f.corr()\n",
    "\n",
    "# Set the threshold for high correlation (you can adjust this value as needed)\n",
    "threshold = 0.5\n",
    "\n",
    "# Initialize a list to store highly correlated variable pairs\n",
    "highly_correlated_pairs = []\n",
    "\n",
    "# Iterate through the correlation matrix and identify highly correlated variables\n",
    "for i in range(len(corr_matrix.columns)):\n",
    "    for j in range(i+1, len(corr_matrix.columns)):\n",
    "        correlation = corr_matrix.iloc[i, j]\n",
    "        if abs(correlation) > threshold:\n",
    "            var1 = corr_matrix.columns[i]\n",
    "            var2 = corr_matrix.columns[j]\n",
    "            highly_correlated_pairs.append((var1, var2, correlation))\n",
    "\n",
    "# Print the highly correlated variable pairs\n",
    "if highly_correlated_pairs:\n",
    "    print(\"Highly correlated variable pairs:\")\n",
    "    for pair in highly_correlated_pairs:\n",
    "        var1, var2, correlation = pair\n",
    "        print(f\"{var1} and {var2}: {correlation:.2f}\")\n",
    "else:\n",
    "    print(\"No highly correlated variables found.\")\n",
    "    #keep activity phase and program"
   ]
  },
  {
   "cell_type": "code",
   "execution_count": 0,
   "metadata": {
    "application/vnd.databricks.v1+cell": {
     "cellMetadata": {
      "byteLimit": 2048000,
      "rowLimit": 10000
     },
     "inputWidgets": {},
     "nuid": "6115a91f-60ef-4c8c-91fe-b13c7c5f5f23",
     "showTitle": false,
     "title": ""
    }
   },
   "outputs": [
    {
     "output_type": "execute_result",
     "data": {
      "text/plain": [
       "Index(['Program:_marketing', 'Program:_operations', 'Program:_sales',\n",
       "       'Time Record #1', 'Time Record #2', 'Time Record #3', 'Time Record #4',\n",
       "       'Time Record #5', 'Time Record #6', 'Time Record #7', 'Time Record #8',\n",
       "       'Time Record #9', 'Time Record #10', 'Total Minutes:',\n",
       "       'Collection Period:_Feb 2023', 'Collection Period:_Jan 2023',\n",
       "       'Collection Period:_Mar 2023', 'Staff Name:_Jane Doe',\n",
       "       'Staff Name:_John Smith', 'Staff Name:_Mary Brown',\n",
       "       'Budget Type:_marketing', 'Budget Type:_operations',\n",
       "       'Budget Type:_sales', 'Activity Phase:_Execution',\n",
       "       'Activity Phase:_Monitoring', 'Activity Phase:_Planning',\n",
       "       'Stage:_draft', 'Stage:_final', 'Stage:_review'],\n",
       "      dtype='object')"
      ]
     },
     "execution_count": 559,
     "metadata": {},
     "output_type": "execute_result"
    }
   ],
   "source": [
    "TS_f.columns"
   ]
  },
  {
   "cell_type": "code",
   "execution_count": 0,
   "metadata": {
    "application/vnd.databricks.v1+cell": {
     "cellMetadata": {
      "byteLimit": 2048000,
      "rowLimit": 10000
     },
     "inputWidgets": {},
     "nuid": "c2a3bf0b-7879-407c-ada3-2000047f4f7a",
     "showTitle": false,
     "title": ""
    }
   },
   "outputs": [],
   "source": [
    "columns_to_drop = [f'Time Record #{i + 1}' for i in range(5)]\n",
    "TS_f = TS_f.drop(columns=columns_to_drop)"
   ]
  },
  {
   "cell_type": "code",
   "execution_count": 0,
   "metadata": {
    "application/vnd.databricks.v1+cell": {
     "cellMetadata": {
      "byteLimit": 2048000,
      "rowLimit": 10000
     },
     "inputWidgets": {},
     "nuid": "fa0a4e02-4cd0-4c7f-a01f-2338a54d900f",
     "showTitle": true,
     "title": "Split Test and Train Data Set"
    }
   },
   "outputs": [],
   "source": [
    "# Split your data into training and testing sets\n",
    "y = TS_f['Total Minutes:']\n",
    "X = TS_f.drop('Total Minutes:',axis=1)\n",
    "X_train, X_test, y_train, y_test = train_test_split(X, y, test_size=0.2, random_state=42)"
   ]
  },
  {
   "cell_type": "code",
   "execution_count": 0,
   "metadata": {
    "application/vnd.databricks.v1+cell": {
     "cellMetadata": {
      "byteLimit": 2048000,
      "rowLimit": 10000
     },
     "inputWidgets": {},
     "nuid": "59835882-930c-4ad4-a06e-f61b55813a7c",
     "showTitle": false,
     "title": ""
    }
   },
   "outputs": [
    {
     "output_type": "execute_result",
     "data": {
      "text/html": [
       "<div>\n",
       "<style scoped>\n",
       "    .dataframe tbody tr th:only-of-type {\n",
       "        vertical-align: middle;\n",
       "    }\n",
       "\n",
       "    .dataframe tbody tr th {\n",
       "        vertical-align: top;\n",
       "    }\n",
       "\n",
       "    .dataframe thead th {\n",
       "        text-align: right;\n",
       "    }\n",
       "</style>\n",
       "<table border=\"1\" class=\"dataframe\">\n",
       "  <thead>\n",
       "    <tr style=\"text-align: right;\">\n",
       "      <th></th>\n",
       "      <th>Program:_marketing</th>\n",
       "      <th>Program:_operations</th>\n",
       "      <th>Program:_sales</th>\n",
       "      <th>Time Record #6</th>\n",
       "      <th>Time Record #7</th>\n",
       "      <th>Time Record #8</th>\n",
       "      <th>Time Record #9</th>\n",
       "      <th>Time Record #10</th>\n",
       "      <th>Collection Period:_Feb 2023</th>\n",
       "      <th>Collection Period:_Jan 2023</th>\n",
       "      <th>Collection Period:_Mar 2023</th>\n",
       "      <th>Staff Name:_Jane Doe</th>\n",
       "      <th>Staff Name:_John Smith</th>\n",
       "      <th>Staff Name:_Mary Brown</th>\n",
       "      <th>Budget Type:_marketing</th>\n",
       "      <th>Budget Type:_operations</th>\n",
       "      <th>Budget Type:_sales</th>\n",
       "      <th>Activity Phase:_Execution</th>\n",
       "      <th>Activity Phase:_Monitoring</th>\n",
       "      <th>Activity Phase:_Planning</th>\n",
       "      <th>Stage:_draft</th>\n",
       "      <th>Stage:_final</th>\n",
       "      <th>Stage:_review</th>\n",
       "    </tr>\n",
       "  </thead>\n",
       "  <tbody>\n",
       "    <tr>\n",
       "      <th>0</th>\n",
       "      <td>0</td>\n",
       "      <td>0</td>\n",
       "      <td>0</td>\n",
       "      <td>57</td>\n",
       "      <td>25</td>\n",
       "      <td>59</td>\n",
       "      <td>1</td>\n",
       "      <td>28</td>\n",
       "      <td>1</td>\n",
       "      <td>0</td>\n",
       "      <td>0</td>\n",
       "      <td>0</td>\n",
       "      <td>0</td>\n",
       "      <td>1</td>\n",
       "      <td>0</td>\n",
       "      <td>0</td>\n",
       "      <td>1</td>\n",
       "      <td>0</td>\n",
       "      <td>0</td>\n",
       "      <td>1</td>\n",
       "      <td>0</td>\n",
       "      <td>0</td>\n",
       "      <td>0</td>\n",
       "    </tr>\n",
       "    <tr>\n",
       "      <th>1</th>\n",
       "      <td>0</td>\n",
       "      <td>0</td>\n",
       "      <td>0</td>\n",
       "      <td>27</td>\n",
       "      <td>52</td>\n",
       "      <td>35</td>\n",
       "      <td>39</td>\n",
       "      <td>3</td>\n",
       "      <td>1</td>\n",
       "      <td>0</td>\n",
       "      <td>0</td>\n",
       "      <td>0</td>\n",
       "      <td>1</td>\n",
       "      <td>0</td>\n",
       "      <td>0</td>\n",
       "      <td>0</td>\n",
       "      <td>0</td>\n",
       "      <td>0</td>\n",
       "      <td>0</td>\n",
       "      <td>1</td>\n",
       "      <td>0</td>\n",
       "      <td>1</td>\n",
       "      <td>0</td>\n",
       "    </tr>\n",
       "    <tr>\n",
       "      <th>2</th>\n",
       "      <td>0</td>\n",
       "      <td>0</td>\n",
       "      <td>0</td>\n",
       "      <td>46</td>\n",
       "      <td>56</td>\n",
       "      <td>54</td>\n",
       "      <td>30</td>\n",
       "      <td>2</td>\n",
       "      <td>0</td>\n",
       "      <td>1</td>\n",
       "      <td>0</td>\n",
       "      <td>0</td>\n",
       "      <td>1</td>\n",
       "      <td>0</td>\n",
       "      <td>0</td>\n",
       "      <td>1</td>\n",
       "      <td>0</td>\n",
       "      <td>0</td>\n",
       "      <td>0</td>\n",
       "      <td>0</td>\n",
       "      <td>0</td>\n",
       "      <td>1</td>\n",
       "      <td>0</td>\n",
       "    </tr>\n",
       "    <tr>\n",
       "      <th>3</th>\n",
       "      <td>0</td>\n",
       "      <td>1</td>\n",
       "      <td>0</td>\n",
       "      <td>48</td>\n",
       "      <td>59</td>\n",
       "      <td>1</td>\n",
       "      <td>48</td>\n",
       "      <td>16</td>\n",
       "      <td>0</td>\n",
       "      <td>0</td>\n",
       "      <td>0</td>\n",
       "      <td>0</td>\n",
       "      <td>0</td>\n",
       "      <td>1</td>\n",
       "      <td>0</td>\n",
       "      <td>0</td>\n",
       "      <td>1</td>\n",
       "      <td>0</td>\n",
       "      <td>0</td>\n",
       "      <td>1</td>\n",
       "      <td>1</td>\n",
       "      <td>0</td>\n",
       "      <td>0</td>\n",
       "    </tr>\n",
       "    <tr>\n",
       "      <th>4</th>\n",
       "      <td>0</td>\n",
       "      <td>0</td>\n",
       "      <td>0</td>\n",
       "      <td>16</td>\n",
       "      <td>43</td>\n",
       "      <td>54</td>\n",
       "      <td>53</td>\n",
       "      <td>45</td>\n",
       "      <td>0</td>\n",
       "      <td>1</td>\n",
       "      <td>0</td>\n",
       "      <td>0</td>\n",
       "      <td>1</td>\n",
       "      <td>0</td>\n",
       "      <td>0</td>\n",
       "      <td>0</td>\n",
       "      <td>0</td>\n",
       "      <td>0</td>\n",
       "      <td>0</td>\n",
       "      <td>0</td>\n",
       "      <td>1</td>\n",
       "      <td>0</td>\n",
       "      <td>0</td>\n",
       "    </tr>\n",
       "    <tr>\n",
       "      <th>...</th>\n",
       "      <td>...</td>\n",
       "      <td>...</td>\n",
       "      <td>...</td>\n",
       "      <td>...</td>\n",
       "      <td>...</td>\n",
       "      <td>...</td>\n",
       "      <td>...</td>\n",
       "      <td>...</td>\n",
       "      <td>...</td>\n",
       "      <td>...</td>\n",
       "      <td>...</td>\n",
       "      <td>...</td>\n",
       "      <td>...</td>\n",
       "      <td>...</td>\n",
       "      <td>...</td>\n",
       "      <td>...</td>\n",
       "      <td>...</td>\n",
       "      <td>...</td>\n",
       "      <td>...</td>\n",
       "      <td>...</td>\n",
       "      <td>...</td>\n",
       "      <td>...</td>\n",
       "      <td>...</td>\n",
       "    </tr>\n",
       "    <tr>\n",
       "      <th>4995</th>\n",
       "      <td>1</td>\n",
       "      <td>0</td>\n",
       "      <td>0</td>\n",
       "      <td>7</td>\n",
       "      <td>58</td>\n",
       "      <td>3</td>\n",
       "      <td>58</td>\n",
       "      <td>19</td>\n",
       "      <td>0</td>\n",
       "      <td>1</td>\n",
       "      <td>0</td>\n",
       "      <td>0</td>\n",
       "      <td>0</td>\n",
       "      <td>1</td>\n",
       "      <td>0</td>\n",
       "      <td>0</td>\n",
       "      <td>1</td>\n",
       "      <td>0</td>\n",
       "      <td>1</td>\n",
       "      <td>0</td>\n",
       "      <td>0</td>\n",
       "      <td>1</td>\n",
       "      <td>0</td>\n",
       "    </tr>\n",
       "    <tr>\n",
       "      <th>4996</th>\n",
       "      <td>1</td>\n",
       "      <td>0</td>\n",
       "      <td>0</td>\n",
       "      <td>29</td>\n",
       "      <td>51</td>\n",
       "      <td>21</td>\n",
       "      <td>11</td>\n",
       "      <td>45</td>\n",
       "      <td>1</td>\n",
       "      <td>0</td>\n",
       "      <td>0</td>\n",
       "      <td>0</td>\n",
       "      <td>0</td>\n",
       "      <td>0</td>\n",
       "      <td>0</td>\n",
       "      <td>1</td>\n",
       "      <td>0</td>\n",
       "      <td>0</td>\n",
       "      <td>1</td>\n",
       "      <td>0</td>\n",
       "      <td>0</td>\n",
       "      <td>0</td>\n",
       "      <td>0</td>\n",
       "    </tr>\n",
       "    <tr>\n",
       "      <th>4997</th>\n",
       "      <td>0</td>\n",
       "      <td>0</td>\n",
       "      <td>1</td>\n",
       "      <td>29</td>\n",
       "      <td>60</td>\n",
       "      <td>28</td>\n",
       "      <td>34</td>\n",
       "      <td>21</td>\n",
       "      <td>0</td>\n",
       "      <td>1</td>\n",
       "      <td>0</td>\n",
       "      <td>0</td>\n",
       "      <td>0</td>\n",
       "      <td>0</td>\n",
       "      <td>0</td>\n",
       "      <td>1</td>\n",
       "      <td>0</td>\n",
       "      <td>0</td>\n",
       "      <td>1</td>\n",
       "      <td>0</td>\n",
       "      <td>1</td>\n",
       "      <td>0</td>\n",
       "      <td>0</td>\n",
       "    </tr>\n",
       "    <tr>\n",
       "      <th>4998</th>\n",
       "      <td>0</td>\n",
       "      <td>0</td>\n",
       "      <td>0</td>\n",
       "      <td>48</td>\n",
       "      <td>57</td>\n",
       "      <td>59</td>\n",
       "      <td>9</td>\n",
       "      <td>49</td>\n",
       "      <td>0</td>\n",
       "      <td>0</td>\n",
       "      <td>0</td>\n",
       "      <td>0</td>\n",
       "      <td>0</td>\n",
       "      <td>1</td>\n",
       "      <td>0</td>\n",
       "      <td>0</td>\n",
       "      <td>0</td>\n",
       "      <td>0</td>\n",
       "      <td>1</td>\n",
       "      <td>0</td>\n",
       "      <td>0</td>\n",
       "      <td>0</td>\n",
       "      <td>1</td>\n",
       "    </tr>\n",
       "    <tr>\n",
       "      <th>4999</th>\n",
       "      <td>1</td>\n",
       "      <td>0</td>\n",
       "      <td>0</td>\n",
       "      <td>23</td>\n",
       "      <td>13</td>\n",
       "      <td>56</td>\n",
       "      <td>51</td>\n",
       "      <td>4</td>\n",
       "      <td>0</td>\n",
       "      <td>0</td>\n",
       "      <td>0</td>\n",
       "      <td>0</td>\n",
       "      <td>0</td>\n",
       "      <td>1</td>\n",
       "      <td>0</td>\n",
       "      <td>1</td>\n",
       "      <td>0</td>\n",
       "      <td>0</td>\n",
       "      <td>1</td>\n",
       "      <td>0</td>\n",
       "      <td>1</td>\n",
       "      <td>0</td>\n",
       "      <td>0</td>\n",
       "    </tr>\n",
       "  </tbody>\n",
       "</table>\n",
       "<p>5000 rows × 23 columns</p>\n",
       "</div>"
      ],
      "text/plain": [
       "      Program:_marketing  Program:_operations  ...  Stage:_final  Stage:_review\n",
       "0                      0                    0  ...             0              0\n",
       "1                      0                    0  ...             1              0\n",
       "2                      0                    0  ...             1              0\n",
       "3                      0                    1  ...             0              0\n",
       "4                      0                    0  ...             0              0\n",
       "...                  ...                  ...  ...           ...            ...\n",
       "4995                   1                    0  ...             1              0\n",
       "4996                   1                    0  ...             0              0\n",
       "4997                   0                    0  ...             0              0\n",
       "4998                   0                    0  ...             0              1\n",
       "4999                   1                    0  ...             0              0\n",
       "\n",
       "[5000 rows x 23 columns]"
      ]
     },
     "execution_count": 562,
     "metadata": {},
     "output_type": "execute_result"
    }
   ],
   "source": [
    "X"
   ]
  },
  {
   "cell_type": "code",
   "execution_count": 0,
   "metadata": {
    "application/vnd.databricks.v1+cell": {
     "cellMetadata": {
      "byteLimit": 2048000,
      "rowLimit": 10000
     },
     "inputWidgets": {},
     "nuid": "bc4d7996-082f-4ac6-a5c1-1053db748d7a",
     "showTitle": false,
     "title": ""
    }
   },
   "outputs": [
    {
     "output_type": "execute_result",
     "data": {
      "text/plain": [
       "Index(['Program:_marketing', 'Program:_operations', 'Program:_sales',\n",
       "       'Time Record #6', 'Time Record #7', 'Time Record #8', 'Time Record #9',\n",
       "       'Time Record #10', 'Collection Period:_Feb 2023',\n",
       "       'Collection Period:_Jan 2023', 'Collection Period:_Mar 2023',\n",
       "       'Staff Name:_Jane Doe', 'Staff Name:_John Smith',\n",
       "       'Staff Name:_Mary Brown', 'Budget Type:_marketing',\n",
       "       'Budget Type:_operations', 'Budget Type:_sales',\n",
       "       'Activity Phase:_Execution', 'Activity Phase:_Monitoring',\n",
       "       'Activity Phase:_Planning', 'Stage:_draft', 'Stage:_final',\n",
       "       'Stage:_review'],\n",
       "      dtype='object')"
      ]
     },
     "execution_count": 563,
     "metadata": {},
     "output_type": "execute_result"
    }
   ],
   "source": [
    "X.columns"
   ]
  },
  {
   "cell_type": "code",
   "execution_count": 0,
   "metadata": {
    "application/vnd.databricks.v1+cell": {
     "cellMetadata": {
      "byteLimit": 2048000,
      "rowLimit": 10000
     },
     "inputWidgets": {},
     "nuid": "c487682c-bf36-4dd2-a77f-312be9b30bab",
     "showTitle": false,
     "title": ""
    }
   },
   "outputs": [
    {
     "output_type": "display_data",
     "data": {
      "text/plain": [
       "\u001B[0;31m---------------------------------------------------------------------------\u001B[0m\n",
       "\u001B[0;31mModuleNotFoundError\u001B[0m                       Traceback (most recent call last)\n",
       "File \u001B[0;32m<command-2642800944650170>, line 1\u001B[0m\n",
       "\u001B[0;32m----> 1\u001B[0m \u001B[38;5;28;01mfrom\u001B[39;00m \u001B[38;5;21;01mautosklearn\u001B[39;00m\u001B[38;5;21;01m.\u001B[39;00m\u001B[38;5;21;01mregression\u001B[39;00m \u001B[38;5;28;01mimport\u001B[39;00m AutoSklearnRegressor\n",
       "\u001B[1;32m      2\u001B[0m \u001B[38;5;66;03m# Create the AutoML regression model\u001B[39;00m\n",
       "\u001B[1;32m      3\u001B[0m automl_regressor \u001B[38;5;241m=\u001B[39m AutoSklearnRegressor(time_left_for_this_task\u001B[38;5;241m=\u001B[39m\u001B[38;5;241m120\u001B[39m, per_run_time_limit\u001B[38;5;241m=\u001B[39m\u001B[38;5;241m30\u001B[39m)\n",
       "\n",
       "\u001B[0;31mModuleNotFoundError\u001B[0m: No module named 'autosklearn'"
      ]
     },
     "metadata": {
      "application/vnd.databricks.v1+output": {
       "arguments": {},
       "data": "\u001B[0;31m---------------------------------------------------------------------------\u001B[0m\n\u001B[0;31mModuleNotFoundError\u001B[0m                       Traceback (most recent call last)\nFile \u001B[0;32m<command-2642800944650170>, line 1\u001B[0m\n\u001B[0;32m----> 1\u001B[0m \u001B[38;5;28;01mfrom\u001B[39;00m \u001B[38;5;21;01mautosklearn\u001B[39;00m\u001B[38;5;21;01m.\u001B[39;00m\u001B[38;5;21;01mregression\u001B[39;00m \u001B[38;5;28;01mimport\u001B[39;00m AutoSklearnRegressor\n\u001B[1;32m      2\u001B[0m \u001B[38;5;66;03m# Create the AutoML regression model\u001B[39;00m\n\u001B[1;32m      3\u001B[0m automl_regressor \u001B[38;5;241m=\u001B[39m AutoSklearnRegressor(time_left_for_this_task\u001B[38;5;241m=\u001B[39m\u001B[38;5;241m120\u001B[39m, per_run_time_limit\u001B[38;5;241m=\u001B[39m\u001B[38;5;241m30\u001B[39m)\n\n\u001B[0;31mModuleNotFoundError\u001B[0m: No module named 'autosklearn'",
       "errorSummary": "<span class='ansi-red-fg'>ModuleNotFoundError</span>: No module named 'autosklearn'",
       "errorTraceType": "ansi",
       "metadata": {},
       "type": "ipynbError"
      }
     },
     "output_type": "display_data"
    }
   ],
   "source": [
    "from autosklearn.regression import AutoSklearnRegressor\n",
    "# Create the AutoML regression model\n",
    "automl_regressor = AutoSklearnRegressor(time_left_for_this_task=120, per_run_time_limit=30)\n",
    "\n",
    "# Fit the model to the training data\n",
    "automl_regressor.fit(X_train, y_train)\n",
    "\n",
    "# Make predictions on the test set\n",
    "y_pred = automl_regressor.predict(X_test)\n",
    "\n",
    "# Evaluate the model performance\n",
    "mse = mean_squared_error(y_test, y_pred)\n",
    "r2 = r2_score(y_test, y_pred)\n",
    "\n",
    "print(f\"Mean Squared Error: {mse:.2f}\")\n",
    "print(f\"R-squared: {r2:.2f}\")"
   ]
  },
  {
   "cell_type": "code",
   "execution_count": 0,
   "metadata": {
    "application/vnd.databricks.v1+cell": {
     "cellMetadata": {
      "byteLimit": 2048000,
      "rowLimit": 10000
     },
     "inputWidgets": {},
     "nuid": "4d7f490e-1198-4e82-b5ec-776215d0abe5",
     "showTitle": false,
     "title": ""
    }
   },
   "outputs": [
    {
     "output_type": "stream",
     "name": "stdout",
     "output_type": "stream",
     "text": [
      "Linear Regression RMSE: 37.80\nRandom Forest RMSE: 38.92\nGradient Boosting RMSE: 38.71\nSupport Vector Machine RMSE: 37.98\nXGBoost RMSE: 42.34\nCatBoost RMSE: 39.20\nK-Nearest Neighbors RMSE: 40.83\nDecision Tree RMSE: 56.18\n"
     ]
    },
    {
     "output_type": "stream",
     "name": "stderr",
     "output_type": "stream",
     "text": [
      "/databricks/python/lib/python3.10/site-packages/sklearn/neural_network/_multilayer_perceptron.py:702: ConvergenceWarning:\n\nStochastic Optimizer: Maximum iterations (200) reached and the optimization hasn't converged yet.\n\n"
     ]
    },
    {
     "output_type": "stream",
     "name": "stdout",
     "output_type": "stream",
     "text": [
      "MLP Neural Network RMSE: 41.82\nAdaBoost RMSE: 39.53\nElastic Net RMSE: 37.74\nBest Model: ElasticNet with RMSE: 37.74\n"
     ]
    }
   ],
   "source": [
    "# Define a dictionary to store the models and their corresponding RMSEs\n",
    "models = {\n",
    "     'Linear Regression': LinearRegression(),\n",
    "    'Random Forest': RandomForestRegressor(),\n",
    "    'Gradient Boosting': GradientBoostingRegressor(),\n",
    "    'Support Vector Machine': SVR(),\n",
    "    'XGBoost': XGBRegressor(),\n",
    "    #'LightGBM': LGBMRegressor(),\n",
    "    'CatBoost': CatBoostRegressor(logging_level='Silent'),\n",
    "    'K-Nearest Neighbors': KNeighborsRegressor(),\n",
    "    'Decision Tree': DecisionTreeRegressor(),\n",
    "    'MLP Neural Network': MLPRegressor(),\n",
    "    'AdaBoost': AdaBoostRegressor(),\n",
    "    'Elastic Net': ElasticNet()\n",
    "}\n",
    "\n",
    "best_model = None\n",
    "best_rmse = float('inf')\n",
    "\n",
    "# Loop through each model\n",
    "for name, model in models.items():\n",
    "    model.fit(X_train, y_train)\n",
    "    y_pred = model.predict(X_test)\n",
    "    rmse = np.sqrt(mean_squared_error(y_test, y_pred))\n",
    "    print(f\"{name} RMSE: {rmse:.2f}\")\n",
    "    \n",
    "    # Update the best model if this model has a lower RMSE\n",
    "    if rmse < best_rmse:\n",
    "        best_model = model\n",
    "        best_rmse = rmse\n",
    "\n",
    "print(f\"Best Model: {best_model.__class__.__name__} with RMSE: {best_rmse:.2f}\")\n"
   ]
  },
  {
   "cell_type": "code",
   "execution_count": 0,
   "metadata": {
    "application/vnd.databricks.v1+cell": {
     "cellMetadata": {
      "byteLimit": 2048000,
      "rowLimit": 10000
     },
     "inputWidgets": {},
     "nuid": "a9ba01bb-c7ea-43a1-b5fb-2c5fddd5baf5",
     "showTitle": false,
     "title": ""
    }
   },
   "outputs": [
    {
     "output_type": "stream",
     "name": "stdout",
     "output_type": "stream",
     "text": [
      "Checking whether there is an H2O instance running at http://localhost:54321..... not found.\nAttempting to start a local H2O server...\n  Java Version: openjdk version \"1.8.0_372\"; OpenJDK Runtime Environment (Zulu 8.70.0.23-CA-linux64) (build 1.8.0_372-b07); OpenJDK 64-Bit Server VM (Zulu 8.70.0.23-CA-linux64) (build 25.372-b07, mixed mode)\n  Starting server from /local_disk0/.ephemeral_nfs/envs/pythonEnv-a6995c22-e37c-42bb-a6ec-513887c74cc9/lib/python3.10/site-packages/h2o/backend/bin/h2o.jar\n  Ice root: /tmp/tmpdkkcfdv1\n  JVM stdout: /tmp/tmpdkkcfdv1/h2o_spark_a6995c22_e37c_42bb_a6ec_51_started_from_python.out\n  JVM stderr: /tmp/tmpdkkcfdv1/h2o_spark_a6995c22_e37c_42bb_a6ec_51_started_from_python.err\n  Server is running at http://127.0.0.1:54325\nConnecting to H2O server at http://127.0.0.1:54325 ...................... failed.\n"
     ]
    },
    {
     "output_type": "display_data",
     "data": {
      "text/plain": [
       "\u001B[0;31m---------------------------------------------------------------------------\u001B[0m\n",
       "\u001B[0;31mH2OConnectionError\u001B[0m                        Traceback (most recent call last)\n",
       "File \u001B[0;32m/local_disk0/.ephemeral_nfs/envs/pythonEnv-a6995c22-e37c-42bb-a6ec-513887c74cc9/lib/python3.10/site-packages/h2o/h2o.py:268\u001B[0m, in \u001B[0;36minit\u001B[0;34m(url, ip, port, name, https, cacert, insecure, username, password, cookies, proxy, start_h2o, nthreads, ice_root, log_dir, log_level, max_log_file_size, enable_assertions, max_mem_size, min_mem_size, strict_version_check, ignore_config, extra_classpath, jvm_custom_args, bind_to_localhost, **kwargs)\u001B[0m\n",
       "\u001B[1;32m    267\u001B[0m \u001B[38;5;28;01mtry\u001B[39;00m:\n",
       "\u001B[0;32m--> 268\u001B[0m     h2oconn \u001B[38;5;241m=\u001B[39m \u001B[43mH2OConnection\u001B[49m\u001B[38;5;241;43m.\u001B[39;49m\u001B[43mopen\u001B[49m\u001B[43m(\u001B[49m\u001B[43murl\u001B[49m\u001B[38;5;241;43m=\u001B[39;49m\u001B[43murl\u001B[49m\u001B[43m,\u001B[49m\u001B[43m \u001B[49m\u001B[43mip\u001B[49m\u001B[38;5;241;43m=\u001B[39;49m\u001B[43mip\u001B[49m\u001B[43m,\u001B[49m\u001B[43m \u001B[49m\u001B[43mport\u001B[49m\u001B[38;5;241;43m=\u001B[39;49m\u001B[43mport\u001B[49m\u001B[43m,\u001B[49m\u001B[43m \u001B[49m\u001B[43mname\u001B[49m\u001B[38;5;241;43m=\u001B[39;49m\u001B[43mname\u001B[49m\u001B[43m,\u001B[49m\u001B[43m \u001B[49m\u001B[43mhttps\u001B[49m\u001B[38;5;241;43m=\u001B[39;49m\u001B[43mhttps\u001B[49m\u001B[43m,\u001B[49m\n",
       "\u001B[1;32m    269\u001B[0m \u001B[43m                                 \u001B[49m\u001B[43mverify_ssl_certificates\u001B[49m\u001B[38;5;241;43m=\u001B[39;49m\u001B[43mverify_ssl_certificates\u001B[49m\u001B[43m,\u001B[49m\u001B[43m \u001B[49m\u001B[43mcacert\u001B[49m\u001B[38;5;241;43m=\u001B[39;49m\u001B[43mcacert\u001B[49m\u001B[43m,\u001B[49m\n",
       "\u001B[1;32m    270\u001B[0m \u001B[43m                                 \u001B[49m\u001B[43mauth\u001B[49m\u001B[38;5;241;43m=\u001B[39;49m\u001B[43mauth\u001B[49m\u001B[43m,\u001B[49m\u001B[43m \u001B[49m\u001B[43mproxy\u001B[49m\u001B[38;5;241;43m=\u001B[39;49m\u001B[43mproxy\u001B[49m\u001B[43m,\u001B[49m\u001B[43m \u001B[49m\u001B[43mcookies\u001B[49m\u001B[38;5;241;43m=\u001B[39;49m\u001B[43mcookies\u001B[49m\u001B[43m,\u001B[49m\u001B[43m \u001B[49m\u001B[43mverbose\u001B[49m\u001B[38;5;241;43m=\u001B[39;49m\u001B[38;5;28;43;01mTrue\u001B[39;49;00m\u001B[43m,\u001B[49m\n",
       "\u001B[1;32m    271\u001B[0m \u001B[43m                                 \u001B[49m\u001B[43mmsgs\u001B[49m\u001B[38;5;241;43m=\u001B[39;49m\u001B[43m(\u001B[49m\u001B[38;5;124;43m\"\u001B[39;49m\u001B[38;5;124;43mChecking whether there is an H2O instance running at \u001B[39;49m\u001B[38;5;132;43;01m{url}\u001B[39;49;00m\u001B[38;5;124;43m\"\u001B[39;49m\u001B[43m,\u001B[49m\n",
       "\u001B[1;32m    272\u001B[0m \u001B[43m                                       \u001B[49m\u001B[38;5;124;43m\"\u001B[39;49m\u001B[38;5;124;43mconnected.\u001B[39;49m\u001B[38;5;124;43m\"\u001B[39;49m\u001B[43m,\u001B[49m\u001B[43m \u001B[49m\u001B[38;5;124;43m\"\u001B[39;49m\u001B[38;5;124;43mnot found.\u001B[39;49m\u001B[38;5;124;43m\"\u001B[39;49m\u001B[43m)\u001B[49m\u001B[43m,\u001B[49m\n",
       "\u001B[1;32m    273\u001B[0m \u001B[43m                                 \u001B[49m\u001B[43mstrict_version_check\u001B[49m\u001B[38;5;241;43m=\u001B[39;49m\u001B[43msvc\u001B[49m\u001B[43m)\u001B[49m\n",
       "\u001B[1;32m    274\u001B[0m \u001B[38;5;28;01mexcept\u001B[39;00m H2OConnectionError:\n",
       "\u001B[1;32m    275\u001B[0m     \u001B[38;5;66;03m# Backward compatibility: in init() port parameter really meant \"baseport\" when starting a local server...\u001B[39;00m\n",
       "\n",
       "File \u001B[0;32m/local_disk0/.ephemeral_nfs/envs/pythonEnv-a6995c22-e37c-42bb-a6ec-513887c74cc9/lib/python3.10/site-packages/h2o/backend/connection.py:406\u001B[0m, in \u001B[0;36mH2OConnection.open\u001B[0;34m(server, url, ip, port, name, https, auth, verify_ssl_certificates, cacert, proxy, cookies, verbose, msgs, strict_version_check)\u001B[0m\n",
       "\u001B[1;32m    405\u001B[0m conn\u001B[38;5;241m.\u001B[39m_timeout \u001B[38;5;241m=\u001B[39m \u001B[38;5;241m3.0\u001B[39m\n",
       "\u001B[0;32m--> 406\u001B[0m conn\u001B[38;5;241m.\u001B[39m_cluster \u001B[38;5;241m=\u001B[39m \u001B[43mconn\u001B[49m\u001B[38;5;241;43m.\u001B[39;49m\u001B[43m_test_connection\u001B[49m\u001B[43m(\u001B[49m\u001B[43mretries\u001B[49m\u001B[43m,\u001B[49m\u001B[43m \u001B[49m\u001B[43mmessages\u001B[49m\u001B[38;5;241;43m=\u001B[39;49m\u001B[43mmsgs\u001B[49m\u001B[43m)\u001B[49m\n",
       "\u001B[1;32m    407\u001B[0m \u001B[38;5;66;03m# If a server is unable to respond within 1s, it should be considered a bug. However we disable this\u001B[39;00m\n",
       "\u001B[1;32m    408\u001B[0m \u001B[38;5;66;03m# setting for now, for no good reason other than to ignore all those bugs :(\u001B[39;00m\n",
       "\n",
       "File \u001B[0;32m/local_disk0/.ephemeral_nfs/envs/pythonEnv-a6995c22-e37c-42bb-a6ec-513887c74cc9/lib/python3.10/site-packages/h2o/backend/connection.py:713\u001B[0m, in \u001B[0;36mH2OConnection._test_connection\u001B[0;34m(self, max_retries, messages)\u001B[0m\n",
       "\u001B[1;32m    712\u001B[0m \u001B[38;5;28;01melse\u001B[39;00m:\n",
       "\u001B[0;32m--> 713\u001B[0m     \u001B[38;5;28;01mraise\u001B[39;00m H2OConnectionError(\u001B[38;5;124m\"\u001B[39m\u001B[38;5;124mCould not establish link to the H2O cloud \u001B[39m\u001B[38;5;132;01m%s\u001B[39;00m\u001B[38;5;124m after \u001B[39m\u001B[38;5;132;01m%d\u001B[39;00m\u001B[38;5;124m retries\u001B[39m\u001B[38;5;130;01m\\n\u001B[39;00m\u001B[38;5;132;01m%s\u001B[39;00m\u001B[38;5;124m\"\u001B[39m\n",
       "\u001B[1;32m    714\u001B[0m                              \u001B[38;5;241m%\u001B[39m (\u001B[38;5;28mself\u001B[39m\u001B[38;5;241m.\u001B[39m_base_url, max_retries, \u001B[38;5;124m\"\u001B[39m\u001B[38;5;130;01m\\n\u001B[39;00m\u001B[38;5;124m\"\u001B[39m\u001B[38;5;241m.\u001B[39mjoin(errors)))\n",
       "\n",
       "\u001B[0;31mH2OConnectionError\u001B[0m: Could not establish link to the H2O cloud http://localhost:54321 after 5 retries\n",
       "[19:28.76] H2OConnectionError: Unexpected HTTP error: HTTPConnectionPool(host='localhost', port=54321): Max retries exceeded with url: /3/Metadata/schemas/CloudV3 (Caused by NewConnectionError('<urllib3.connection.HTTPConnection object at 0x7f5948bb5f00>: Failed to establish a new connection: [Errno 111] Connection refused'))\n",
       "[19:28.96] H2OConnectionError: Unexpected HTTP error: HTTPConnectionPool(host='localhost', port=54321): Max retries exceeded with url: /3/Metadata/schemas/CloudV3 (Caused by NewConnectionError('<urllib3.connection.HTTPConnection object at 0x7f5948bb48e0>: Failed to establish a new connection: [Errno 111] Connection refused'))\n",
       "[19:29.16] H2OConnectionError: Unexpected HTTP error: HTTPConnectionPool(host='localhost', port=54321): Max retries exceeded with url: /3/Metadata/schemas/CloudV3 (Caused by NewConnectionError('<urllib3.connection.HTTPConnection object at 0x7f594893bd30>: Failed to establish a new connection: [Errno 111] Connection refused'))\n",
       "[19:29.37] H2OConnectionError: Unexpected HTTP error: HTTPConnectionPool(host='localhost', port=54321): Max retries exceeded with url: /3/Metadata/schemas/CloudV3 (Caused by NewConnectionError('<urllib3.connection.HTTPConnection object at 0x7f5b1d327820>: Failed to establish a new connection: [Errno 111] Connection refused'))\n",
       "[19:29.57] H2OConnectionError: Unexpected HTTP error: HTTPConnectionPool(host='localhost', port=54321): Max retries exceeded with url: /3/Metadata/schemas/CloudV3 (Caused by NewConnectionError('<urllib3.connection.HTTPConnection object at 0x7f5ad8099a20>: Failed to establish a new connection: [Errno 111] Connection refused'))\n",
       "\n",
       "During handling of the above exception, another exception occurred:\n",
       "\n",
       "\u001B[0;31mH2OConnectionError\u001B[0m                        Traceback (most recent call last)\n",
       "File \u001B[0;32m<command-2002526741292542>, line 2\u001B[0m\n",
       "\u001B[1;32m      1\u001B[0m \u001B[38;5;66;03m# Initialize H2O and start the H2O server\u001B[39;00m\n",
       "\u001B[0;32m----> 2\u001B[0m h2o\u001B[38;5;241m.\u001B[39minit()\n",
       "\u001B[1;32m      4\u001B[0m \u001B[38;5;66;03m# Convert the pandas DataFrames to H2O DataFrames\u001B[39;00m\n",
       "\u001B[1;32m      5\u001B[0m train_data \u001B[38;5;241m=\u001B[39m h2o\u001B[38;5;241m.\u001B[39mH2OFrame(pd\u001B[38;5;241m.\u001B[39mconcat([X_train, y_train], axis\u001B[38;5;241m=\u001B[39m\u001B[38;5;241m1\u001B[39m))\n",
       "\n",
       "File \u001B[0;32m/local_disk0/.ephemeral_nfs/envs/pythonEnv-a6995c22-e37c-42bb-a6ec-513887c74cc9/lib/python3.10/site-packages/h2o/h2o.py:290\u001B[0m, in \u001B[0;36minit\u001B[0;34m(url, ip, port, name, https, cacert, insecure, username, password, cookies, proxy, start_h2o, nthreads, ice_root, log_dir, log_level, max_log_file_size, enable_assertions, max_mem_size, min_mem_size, strict_version_check, ignore_config, extra_classpath, jvm_custom_args, bind_to_localhost, **kwargs)\u001B[0m\n",
       "\u001B[1;32m    282\u001B[0m         \u001B[38;5;28;01mraise\u001B[39;00m H2OConnectionError(\u001B[38;5;124m'\u001B[39m\u001B[38;5;124mStarting local server is not available with https enabled. You may start local\u001B[39m\u001B[38;5;124m'\u001B[39m\n",
       "\u001B[1;32m    283\u001B[0m                                  \u001B[38;5;124m'\u001B[39m\u001B[38;5;124m instance of H2O with https manually \u001B[39m\u001B[38;5;124m'\u001B[39m\n",
       "\u001B[1;32m    284\u001B[0m                                  \u001B[38;5;124m'\u001B[39m\u001B[38;5;124m(https://docs.h2o.ai/h2o/latest-stable/h2o-docs/welcome.html#new-user-quick-start).\u001B[39m\u001B[38;5;124m'\u001B[39m)\n",
       "\u001B[1;32m    285\u001B[0m     hs \u001B[38;5;241m=\u001B[39m H2OLocalServer\u001B[38;5;241m.\u001B[39mstart(nthreads\u001B[38;5;241m=\u001B[39mnthreads, enable_assertions\u001B[38;5;241m=\u001B[39menable_assertions, max_mem_size\u001B[38;5;241m=\u001B[39mmmax,\n",
       "\u001B[1;32m    286\u001B[0m                               min_mem_size\u001B[38;5;241m=\u001B[39mmmin, ice_root\u001B[38;5;241m=\u001B[39mice_root, log_dir\u001B[38;5;241m=\u001B[39mlog_dir, log_level\u001B[38;5;241m=\u001B[39mlog_level,\n",
       "\u001B[1;32m    287\u001B[0m                               max_log_file_size\u001B[38;5;241m=\u001B[39mmax_log_file_size, port\u001B[38;5;241m=\u001B[39mport, name\u001B[38;5;241m=\u001B[39mname,\n",
       "\u001B[1;32m    288\u001B[0m                               extra_classpath\u001B[38;5;241m=\u001B[39mextra_classpath, jvm_custom_args\u001B[38;5;241m=\u001B[39mjvm_custom_args,\n",
       "\u001B[1;32m    289\u001B[0m                               bind_to_localhost\u001B[38;5;241m=\u001B[39mbind_to_localhost)\n",
       "\u001B[0;32m--> 290\u001B[0m     h2oconn \u001B[38;5;241m=\u001B[39m \u001B[43mH2OConnection\u001B[49m\u001B[38;5;241;43m.\u001B[39;49m\u001B[43mopen\u001B[49m\u001B[43m(\u001B[49m\u001B[43mserver\u001B[49m\u001B[38;5;241;43m=\u001B[39;49m\u001B[43mhs\u001B[49m\u001B[43m,\u001B[49m\u001B[43m \u001B[49m\u001B[43mhttps\u001B[49m\u001B[38;5;241;43m=\u001B[39;49m\u001B[43mhttps\u001B[49m\u001B[43m,\u001B[49m\u001B[43m \u001B[49m\u001B[43mverify_ssl_certificates\u001B[49m\u001B[38;5;241;43m=\u001B[39;49m\u001B[43mverify_ssl_certificates\u001B[49m\u001B[43m,\u001B[49m\n",
       "\u001B[1;32m    291\u001B[0m \u001B[43m                                 \u001B[49m\u001B[43mcacert\u001B[49m\u001B[38;5;241;43m=\u001B[39;49m\u001B[43mcacert\u001B[49m\u001B[43m,\u001B[49m\u001B[43m \u001B[49m\u001B[43mauth\u001B[49m\u001B[38;5;241;43m=\u001B[39;49m\u001B[43mauth\u001B[49m\u001B[43m,\u001B[49m\u001B[43m \u001B[49m\u001B[43mproxy\u001B[49m\u001B[38;5;241;43m=\u001B[39;49m\u001B[43mproxy\u001B[49m\u001B[43m,\u001B[49m\u001B[43m \u001B[49m\u001B[43mcookies\u001B[49m\u001B[38;5;241;43m=\u001B[39;49m\u001B[43mcookies\u001B[49m\u001B[43m,\u001B[49m\u001B[43m \u001B[49m\u001B[43mverbose\u001B[49m\u001B[38;5;241;43m=\u001B[39;49m\u001B[38;5;28;43;01mTrue\u001B[39;49;00m\u001B[43m,\u001B[49m\n",
       "\u001B[1;32m    292\u001B[0m \u001B[43m                                 \u001B[49m\u001B[43mstrict_version_check\u001B[49m\u001B[38;5;241;43m=\u001B[39;49m\u001B[43msvc\u001B[49m\u001B[43m)\u001B[49m\n",
       "\u001B[1;32m    293\u001B[0m h2oconn\u001B[38;5;241m.\u001B[39mcluster\u001B[38;5;241m.\u001B[39mtimezone \u001B[38;5;241m=\u001B[39m \u001B[38;5;124m\"\u001B[39m\u001B[38;5;124mUTC\u001B[39m\u001B[38;5;124m\"\u001B[39m\n",
       "\u001B[1;32m    294\u001B[0m h2oconn\u001B[38;5;241m.\u001B[39mcluster\u001B[38;5;241m.\u001B[39mshow_status()\n",
       "\n",
       "File \u001B[0;32m/local_disk0/.ephemeral_nfs/envs/pythonEnv-a6995c22-e37c-42bb-a6ec-513887c74cc9/lib/python3.10/site-packages/h2o/backend/connection.py:406\u001B[0m, in \u001B[0;36mH2OConnection.open\u001B[0;34m(server, url, ip, port, name, https, auth, verify_ssl_certificates, cacert, proxy, cookies, verbose, msgs, strict_version_check)\u001B[0m\n",
       "\u001B[1;32m    404\u001B[0m conn\u001B[38;5;241m.\u001B[39m_stage \u001B[38;5;241m=\u001B[39m \u001B[38;5;241m1\u001B[39m\n",
       "\u001B[1;32m    405\u001B[0m conn\u001B[38;5;241m.\u001B[39m_timeout \u001B[38;5;241m=\u001B[39m \u001B[38;5;241m3.0\u001B[39m\n",
       "\u001B[0;32m--> 406\u001B[0m conn\u001B[38;5;241m.\u001B[39m_cluster \u001B[38;5;241m=\u001B[39m \u001B[43mconn\u001B[49m\u001B[38;5;241;43m.\u001B[39;49m\u001B[43m_test_connection\u001B[49m\u001B[43m(\u001B[49m\u001B[43mretries\u001B[49m\u001B[43m,\u001B[49m\u001B[43m \u001B[49m\u001B[43mmessages\u001B[49m\u001B[38;5;241;43m=\u001B[39;49m\u001B[43mmsgs\u001B[49m\u001B[43m)\u001B[49m\n",
       "\u001B[1;32m    407\u001B[0m \u001B[38;5;66;03m# If a server is unable to respond within 1s, it should be considered a bug. However we disable this\u001B[39;00m\n",
       "\u001B[1;32m    408\u001B[0m \u001B[38;5;66;03m# setting for now, for no good reason other than to ignore all those bugs :(\u001B[39;00m\n",
       "\u001B[1;32m    409\u001B[0m conn\u001B[38;5;241m.\u001B[39m_timeout \u001B[38;5;241m=\u001B[39m \u001B[38;5;28;01mNone\u001B[39;00m\n",
       "\n",
       "File \u001B[0;32m/local_disk0/.ephemeral_nfs/envs/pythonEnv-a6995c22-e37c-42bb-a6ec-513887c74cc9/lib/python3.10/site-packages/h2o/backend/connection.py:713\u001B[0m, in \u001B[0;36mH2OConnection._test_connection\u001B[0;34m(self, max_retries, messages)\u001B[0m\n",
       "\u001B[1;32m    711\u001B[0m     \u001B[38;5;28;01mraise\u001B[39;00m H2OServerError(\u001B[38;5;124m\"\u001B[39m\u001B[38;5;124mCluster cannot reach consensus\u001B[39m\u001B[38;5;124m\"\u001B[39m)\n",
       "\u001B[1;32m    712\u001B[0m \u001B[38;5;28;01melse\u001B[39;00m:\n",
       "\u001B[0;32m--> 713\u001B[0m     \u001B[38;5;28;01mraise\u001B[39;00m H2OConnectionError(\u001B[38;5;124m\"\u001B[39m\u001B[38;5;124mCould not establish link to the H2O cloud \u001B[39m\u001B[38;5;132;01m%s\u001B[39;00m\u001B[38;5;124m after \u001B[39m\u001B[38;5;132;01m%d\u001B[39;00m\u001B[38;5;124m retries\u001B[39m\u001B[38;5;130;01m\\n\u001B[39;00m\u001B[38;5;132;01m%s\u001B[39;00m\u001B[38;5;124m\"\u001B[39m\n",
       "\u001B[1;32m    714\u001B[0m                              \u001B[38;5;241m%\u001B[39m (\u001B[38;5;28mself\u001B[39m\u001B[38;5;241m.\u001B[39m_base_url, max_retries, \u001B[38;5;124m\"\u001B[39m\u001B[38;5;130;01m\\n\u001B[39;00m\u001B[38;5;124m\"\u001B[39m\u001B[38;5;241m.\u001B[39mjoin(errors)))\n",
       "\n",
       "\u001B[0;31mH2OConnectionError\u001B[0m: Could not establish link to the H2O cloud http://127.0.0.1:54325 after 20 retries\n",
       "[19:33.70] H2OConnectionError: Unexpected HTTP error: HTTPConnectionPool(host='127.0.0.1', port=54325): Max retries exceeded with url: /3/Metadata/schemas/CloudV3 (Caused by NewConnectionError('<urllib3.connection.HTTPConnection object at 0x7f5b1ccab2e0>: Failed to establish a new connection: [Errno 111] Connection refused'))\n",
       "[19:33.90] H2OConnectionError: Unexpected HTTP error: HTTPConnectionPool(host='127.0.0.1', port=54325): Max retries exceeded with url: /3/Metadata/schemas/CloudV3 (Caused by NewConnectionError('<urllib3.connection.HTTPConnection object at 0x7f5b1ccabbe0>: Failed to establish a new connection: [Errno 111] Connection refused'))\n",
       "[19:34.10] H2OConnectionError: Unexpected HTTP error: HTTPConnectionPool(host='127.0.0.1', port=54325): Max retries exceeded with url: /3/Metadata/schemas/CloudV3 (Caused by NewConnectionError('<urllib3.connection.HTTPConnection object at 0x7f5b1d326f80>: Failed to establish a new connection: [Errno 111] Connection refused'))\n",
       "[19:34.31] H2OConnectionError: Unexpected HTTP error: HTTPConnectionPool(host='127.0.0.1', port=54325): Max retries exceeded with url: /3/Metadata/schemas/CloudV3 (Caused by NewConnectionError('<urllib3.connection.HTTPConnection object at 0x7f5ad8035630>: Failed to establish a new connection: [Errno 111] Connection refused'))\n",
       "[19:34.51] H2OConnectionError: Unexpected HTTP error: HTTPConnectionPool(host='127.0.0.1', port=54325): Max retries exceeded with url: /3/Metadata/schemas/CloudV3 (Caused by NewConnectionError('<urllib3.connection.HTTPConnection object at 0x7f594893bd30>: Failed to establish a new connection: [Errno 111] Connection refused'))\n",
       "[19:34.71] H2OConnectionError: Unexpected HTTP error: HTTPConnectionPool(host='127.0.0.1', port=54325): Max retries exceeded with url: /3/Metadata/schemas/CloudV3 (Caused by NewConnectionError('<urllib3.connection.HTTPConnection object at 0x7f5948bb6a40>: Failed to establish a new connection: [Errno 111] Connection refused'))\n",
       "[19:34.92] H2OConnectionError: Unexpected HTTP error: HTTPConnectionPool(host='127.0.0.1', port=54325): Max retries exceeded with url: /3/Metadata/schemas/CloudV3 (Caused by NewConnectionError('<urllib3.connection.HTTPConnection object at 0x7f5b1ccaa0e0>: Failed to establish a new connection: [Errno 111] Connection refused'))\n",
       "[19:35.12] H2OConnectionError: Unexpected HTTP error: HTTPConnectionPool(host='127.0.0.1', port=54325): Max retries exceeded with url: /3/Metadata/schemas/CloudV3 (Caused by NewConnectionError('<urllib3.connection.HTTPConnection object at 0x7f5d0d7af640>: Failed to establish a new connection: [Errno 111] Connection refused'))\n",
       "[19:35.33] H2OConnectionError: Unexpected HTTP error: HTTPConnectionPool(host='127.0.0.1', port=54325): Max retries exceeded with url: /3/Metadata/schemas/CloudV3 (Caused by NewConnectionError('<urllib3.connection.HTTPConnection object at 0x7f59489391b0>: Failed to establish a new connection: [Errno 111] Connection refused'))\n",
       "[19:35.53] H2OConnectionError: Unexpected HTTP error: HTTPConnectionPool(host='127.0.0.1', port=54325): Max retries exceeded with url: /3/Metadata/schemas/CloudV3 (Caused by NewConnectionError('<urllib3.connection.HTTPConnection object at 0x7f5ad8036cb0>: Failed to establish a new connection: [Errno 111] Connection refused'))\n",
       "[19:35.73] H2OConnectionError: Unexpected HTTP error: HTTPConnectionPool(host='127.0.0.1', port=54325): Max retries exceeded with url: /3/Metadata/schemas/CloudV3 (Caused by NewConnectionError('<urllib3.connection.HTTPConnection object at 0x7f5b1d325060>: Failed to establish a new connection: [Errno 111] Connection refused'))\n",
       "[19:35.94] H2OConnectionError: Unexpected HTTP error: HTTPConnectionPool(host='127.0.0.1', port=54325): Max retries exceeded with url: /3/Metadata/schemas/CloudV3 (Caused by NewConnectionError('<urllib3.connection.HTTPConnection object at 0x7f5ad8098a90>: Failed to establish a new connection: [Errno 111] Connection refused'))\n",
       "[19:36.14] H2OConnectionError: Unexpected HTTP error: HTTPConnectionPool(host='127.0.0.1', port=54325): Max retries exceeded with url: /3/Metadata/schemas/CloudV3 (Caused by NewConnectionError('<urllib3.connection.HTTPConnection object at 0x7f5b1cca9360>: Failed to establish a new connection: [Errno 111] Connection refused'))\n",
       "[19:36.34] H2OConnectionError: Unexpected HTTP error: HTTPConnectionPool(host='127.0.0.1', port=54325): Max retries exceeded with url: /3/Metadata/schemas/CloudV3 (Caused by NewConnectionError('<urllib3.connection.HTTPConnection object at 0x7f5b1ccaa950>: Failed to establish a new connection: [Errno 111] Connection refused'))\n",
       "[19:36.55] H2OConnectionError: Unexpected HTTP error: HTTPConnectionPool(host='127.0.0.1', port=54325): Max retries exceeded with url: /3/Metadata/schemas/CloudV3 (Caused by NewConnectionError('<urllib3.connection.HTTPConnection object at 0x7f5b1d324040>: Failed to establish a new connection: [Errno 111] Connection refused'))\n",
       "[19:36.75] H2OConnectionError: Unexpected HTTP error: HTTPConnectionPool(host='127.0.0.1', port=54325): Max retries exceeded with url: /3/Metadata/schemas/CloudV3 (Caused by NewConnectionError('<urllib3.connection.HTTPConnection object at 0x7f5ad8037c70>: Failed to establish a new connection: [Errno 111] Connection refused'))\n",
       "[19:36.96] H2OConnectionError: Unexpected HTTP error: HTTPConnectionPool(host='127.0.0.1', port=54325): Max retries exceeded with url: /3/Metadata/schemas/CloudV3 (Caused by NewConnectionError('<urllib3.connection.HTTPConnection object at 0x7f59489391b0>: Failed to establish a new connection: [Errno 111] Connection refused'))\n",
       "[19:37.16] H2OConnectionError: Unexpected HTTP error: HTTPConnectionPool(host='127.0.0.1', port=54325): Max retries exceeded with url: /3/Metadata/schemas/CloudV3 (Caused by NewConnectionError('<urllib3.connection.HTTPConnection object at 0x7f5948bb4760>: Failed to establish a new connection: [Errno 111] Connection refused'))\n",
       "[19:37.36] H2OConnectionError: Unexpected HTTP error: HTTPConnectionPool(host='127.0.0.1', port=54325): Max retries exceeded with url: /3/Metadata/schemas/CloudV3 (Caused by NewConnectionError('<urllib3.connection.HTTPConnection object at 0x7f5b1ccaa320>: Failed to establish a new connection: [Errno 111] Connection refused'))\n",
       "[19:37.57] H2OConnectionError: Unexpected HTTP error: HTTPConnectionPool(host='127.0.0.1', port=54325): Max retries exceeded with url: /3/Metadata/schemas/CloudV3 (Caused by NewConnectionError('<urllib3.connection.HTTPConnection object at 0x7f5b1ccaa530>: Failed to establish a new connection: [Errno 111] Connection refused'))"
      ]
     },
     "metadata": {
      "application/vnd.databricks.v1+output": {
       "arguments": {},
       "data": "\u001B[0;31m---------------------------------------------------------------------------\u001B[0m\n\u001B[0;31mH2OConnectionError\u001B[0m                        Traceback (most recent call last)\nFile \u001B[0;32m/local_disk0/.ephemeral_nfs/envs/pythonEnv-a6995c22-e37c-42bb-a6ec-513887c74cc9/lib/python3.10/site-packages/h2o/h2o.py:268\u001B[0m, in \u001B[0;36minit\u001B[0;34m(url, ip, port, name, https, cacert, insecure, username, password, cookies, proxy, start_h2o, nthreads, ice_root, log_dir, log_level, max_log_file_size, enable_assertions, max_mem_size, min_mem_size, strict_version_check, ignore_config, extra_classpath, jvm_custom_args, bind_to_localhost, **kwargs)\u001B[0m\n\u001B[1;32m    267\u001B[0m \u001B[38;5;28;01mtry\u001B[39;00m:\n\u001B[0;32m--> 268\u001B[0m     h2oconn \u001B[38;5;241m=\u001B[39m \u001B[43mH2OConnection\u001B[49m\u001B[38;5;241;43m.\u001B[39;49m\u001B[43mopen\u001B[49m\u001B[43m(\u001B[49m\u001B[43murl\u001B[49m\u001B[38;5;241;43m=\u001B[39;49m\u001B[43murl\u001B[49m\u001B[43m,\u001B[49m\u001B[43m \u001B[49m\u001B[43mip\u001B[49m\u001B[38;5;241;43m=\u001B[39;49m\u001B[43mip\u001B[49m\u001B[43m,\u001B[49m\u001B[43m \u001B[49m\u001B[43mport\u001B[49m\u001B[38;5;241;43m=\u001B[39;49m\u001B[43mport\u001B[49m\u001B[43m,\u001B[49m\u001B[43m \u001B[49m\u001B[43mname\u001B[49m\u001B[38;5;241;43m=\u001B[39;49m\u001B[43mname\u001B[49m\u001B[43m,\u001B[49m\u001B[43m \u001B[49m\u001B[43mhttps\u001B[49m\u001B[38;5;241;43m=\u001B[39;49m\u001B[43mhttps\u001B[49m\u001B[43m,\u001B[49m\n\u001B[1;32m    269\u001B[0m \u001B[43m                                 \u001B[49m\u001B[43mverify_ssl_certificates\u001B[49m\u001B[38;5;241;43m=\u001B[39;49m\u001B[43mverify_ssl_certificates\u001B[49m\u001B[43m,\u001B[49m\u001B[43m \u001B[49m\u001B[43mcacert\u001B[49m\u001B[38;5;241;43m=\u001B[39;49m\u001B[43mcacert\u001B[49m\u001B[43m,\u001B[49m\n\u001B[1;32m    270\u001B[0m \u001B[43m                                 \u001B[49m\u001B[43mauth\u001B[49m\u001B[38;5;241;43m=\u001B[39;49m\u001B[43mauth\u001B[49m\u001B[43m,\u001B[49m\u001B[43m \u001B[49m\u001B[43mproxy\u001B[49m\u001B[38;5;241;43m=\u001B[39;49m\u001B[43mproxy\u001B[49m\u001B[43m,\u001B[49m\u001B[43m \u001B[49m\u001B[43mcookies\u001B[49m\u001B[38;5;241;43m=\u001B[39;49m\u001B[43mcookies\u001B[49m\u001B[43m,\u001B[49m\u001B[43m \u001B[49m\u001B[43mverbose\u001B[49m\u001B[38;5;241;43m=\u001B[39;49m\u001B[38;5;28;43;01mTrue\u001B[39;49;00m\u001B[43m,\u001B[49m\n\u001B[1;32m    271\u001B[0m \u001B[43m                                 \u001B[49m\u001B[43mmsgs\u001B[49m\u001B[38;5;241;43m=\u001B[39;49m\u001B[43m(\u001B[49m\u001B[38;5;124;43m\"\u001B[39;49m\u001B[38;5;124;43mChecking whether there is an H2O instance running at \u001B[39;49m\u001B[38;5;132;43;01m{url}\u001B[39;49;00m\u001B[38;5;124;43m\"\u001B[39;49m\u001B[43m,\u001B[49m\n\u001B[1;32m    272\u001B[0m \u001B[43m                                       \u001B[49m\u001B[38;5;124;43m\"\u001B[39;49m\u001B[38;5;124;43mconnected.\u001B[39;49m\u001B[38;5;124;43m\"\u001B[39;49m\u001B[43m,\u001B[49m\u001B[43m \u001B[49m\u001B[38;5;124;43m\"\u001B[39;49m\u001B[38;5;124;43mnot found.\u001B[39;49m\u001B[38;5;124;43m\"\u001B[39;49m\u001B[43m)\u001B[49m\u001B[43m,\u001B[49m\n\u001B[1;32m    273\u001B[0m \u001B[43m                                 \u001B[49m\u001B[43mstrict_version_check\u001B[49m\u001B[38;5;241;43m=\u001B[39;49m\u001B[43msvc\u001B[49m\u001B[43m)\u001B[49m\n\u001B[1;32m    274\u001B[0m \u001B[38;5;28;01mexcept\u001B[39;00m H2OConnectionError:\n\u001B[1;32m    275\u001B[0m     \u001B[38;5;66;03m# Backward compatibility: in init() port parameter really meant \"baseport\" when starting a local server...\u001B[39;00m\n\nFile \u001B[0;32m/local_disk0/.ephemeral_nfs/envs/pythonEnv-a6995c22-e37c-42bb-a6ec-513887c74cc9/lib/python3.10/site-packages/h2o/backend/connection.py:406\u001B[0m, in \u001B[0;36mH2OConnection.open\u001B[0;34m(server, url, ip, port, name, https, auth, verify_ssl_certificates, cacert, proxy, cookies, verbose, msgs, strict_version_check)\u001B[0m\n\u001B[1;32m    405\u001B[0m conn\u001B[38;5;241m.\u001B[39m_timeout \u001B[38;5;241m=\u001B[39m \u001B[38;5;241m3.0\u001B[39m\n\u001B[0;32m--> 406\u001B[0m conn\u001B[38;5;241m.\u001B[39m_cluster \u001B[38;5;241m=\u001B[39m \u001B[43mconn\u001B[49m\u001B[38;5;241;43m.\u001B[39;49m\u001B[43m_test_connection\u001B[49m\u001B[43m(\u001B[49m\u001B[43mretries\u001B[49m\u001B[43m,\u001B[49m\u001B[43m \u001B[49m\u001B[43mmessages\u001B[49m\u001B[38;5;241;43m=\u001B[39;49m\u001B[43mmsgs\u001B[49m\u001B[43m)\u001B[49m\n\u001B[1;32m    407\u001B[0m \u001B[38;5;66;03m# If a server is unable to respond within 1s, it should be considered a bug. However we disable this\u001B[39;00m\n\u001B[1;32m    408\u001B[0m \u001B[38;5;66;03m# setting for now, for no good reason other than to ignore all those bugs :(\u001B[39;00m\n\nFile \u001B[0;32m/local_disk0/.ephemeral_nfs/envs/pythonEnv-a6995c22-e37c-42bb-a6ec-513887c74cc9/lib/python3.10/site-packages/h2o/backend/connection.py:713\u001B[0m, in \u001B[0;36mH2OConnection._test_connection\u001B[0;34m(self, max_retries, messages)\u001B[0m\n\u001B[1;32m    712\u001B[0m \u001B[38;5;28;01melse\u001B[39;00m:\n\u001B[0;32m--> 713\u001B[0m     \u001B[38;5;28;01mraise\u001B[39;00m H2OConnectionError(\u001B[38;5;124m\"\u001B[39m\u001B[38;5;124mCould not establish link to the H2O cloud \u001B[39m\u001B[38;5;132;01m%s\u001B[39;00m\u001B[38;5;124m after \u001B[39m\u001B[38;5;132;01m%d\u001B[39;00m\u001B[38;5;124m retries\u001B[39m\u001B[38;5;130;01m\\n\u001B[39;00m\u001B[38;5;132;01m%s\u001B[39;00m\u001B[38;5;124m\"\u001B[39m\n\u001B[1;32m    714\u001B[0m                              \u001B[38;5;241m%\u001B[39m (\u001B[38;5;28mself\u001B[39m\u001B[38;5;241m.\u001B[39m_base_url, max_retries, \u001B[38;5;124m\"\u001B[39m\u001B[38;5;130;01m\\n\u001B[39;00m\u001B[38;5;124m\"\u001B[39m\u001B[38;5;241m.\u001B[39mjoin(errors)))\n\n\u001B[0;31mH2OConnectionError\u001B[0m: Could not establish link to the H2O cloud http://localhost:54321 after 5 retries\n[19:28.76] H2OConnectionError: Unexpected HTTP error: HTTPConnectionPool(host='localhost', port=54321): Max retries exceeded with url: /3/Metadata/schemas/CloudV3 (Caused by NewConnectionError('<urllib3.connection.HTTPConnection object at 0x7f5948bb5f00>: Failed to establish a new connection: [Errno 111] Connection refused'))\n[19:28.96] H2OConnectionError: Unexpected HTTP error: HTTPConnectionPool(host='localhost', port=54321): Max retries exceeded with url: /3/Metadata/schemas/CloudV3 (Caused by NewConnectionError('<urllib3.connection.HTTPConnection object at 0x7f5948bb48e0>: Failed to establish a new connection: [Errno 111] Connection refused'))\n[19:29.16] H2OConnectionError: Unexpected HTTP error: HTTPConnectionPool(host='localhost', port=54321): Max retries exceeded with url: /3/Metadata/schemas/CloudV3 (Caused by NewConnectionError('<urllib3.connection.HTTPConnection object at 0x7f594893bd30>: Failed to establish a new connection: [Errno 111] Connection refused'))\n[19:29.37] H2OConnectionError: Unexpected HTTP error: HTTPConnectionPool(host='localhost', port=54321): Max retries exceeded with url: /3/Metadata/schemas/CloudV3 (Caused by NewConnectionError('<urllib3.connection.HTTPConnection object at 0x7f5b1d327820>: Failed to establish a new connection: [Errno 111] Connection refused'))\n[19:29.57] H2OConnectionError: Unexpected HTTP error: HTTPConnectionPool(host='localhost', port=54321): Max retries exceeded with url: /3/Metadata/schemas/CloudV3 (Caused by NewConnectionError('<urllib3.connection.HTTPConnection object at 0x7f5ad8099a20>: Failed to establish a new connection: [Errno 111] Connection refused'))\n\nDuring handling of the above exception, another exception occurred:\n\n\u001B[0;31mH2OConnectionError\u001B[0m                        Traceback (most recent call last)\nFile \u001B[0;32m<command-2002526741292542>, line 2\u001B[0m\n\u001B[1;32m      1\u001B[0m \u001B[38;5;66;03m# Initialize H2O and start the H2O server\u001B[39;00m\n\u001B[0;32m----> 2\u001B[0m h2o\u001B[38;5;241m.\u001B[39minit()\n\u001B[1;32m      4\u001B[0m \u001B[38;5;66;03m# Convert the pandas DataFrames to H2O DataFrames\u001B[39;00m\n\u001B[1;32m      5\u001B[0m train_data \u001B[38;5;241m=\u001B[39m h2o\u001B[38;5;241m.\u001B[39mH2OFrame(pd\u001B[38;5;241m.\u001B[39mconcat([X_train, y_train], axis\u001B[38;5;241m=\u001B[39m\u001B[38;5;241m1\u001B[39m))\n\nFile \u001B[0;32m/local_disk0/.ephemeral_nfs/envs/pythonEnv-a6995c22-e37c-42bb-a6ec-513887c74cc9/lib/python3.10/site-packages/h2o/h2o.py:290\u001B[0m, in \u001B[0;36minit\u001B[0;34m(url, ip, port, name, https, cacert, insecure, username, password, cookies, proxy, start_h2o, nthreads, ice_root, log_dir, log_level, max_log_file_size, enable_assertions, max_mem_size, min_mem_size, strict_version_check, ignore_config, extra_classpath, jvm_custom_args, bind_to_localhost, **kwargs)\u001B[0m\n\u001B[1;32m    282\u001B[0m         \u001B[38;5;28;01mraise\u001B[39;00m H2OConnectionError(\u001B[38;5;124m'\u001B[39m\u001B[38;5;124mStarting local server is not available with https enabled. You may start local\u001B[39m\u001B[38;5;124m'\u001B[39m\n\u001B[1;32m    283\u001B[0m                                  \u001B[38;5;124m'\u001B[39m\u001B[38;5;124m instance of H2O with https manually \u001B[39m\u001B[38;5;124m'\u001B[39m\n\u001B[1;32m    284\u001B[0m                                  \u001B[38;5;124m'\u001B[39m\u001B[38;5;124m(https://docs.h2o.ai/h2o/latest-stable/h2o-docs/welcome.html#new-user-quick-start).\u001B[39m\u001B[38;5;124m'\u001B[39m)\n\u001B[1;32m    285\u001B[0m     hs \u001B[38;5;241m=\u001B[39m H2OLocalServer\u001B[38;5;241m.\u001B[39mstart(nthreads\u001B[38;5;241m=\u001B[39mnthreads, enable_assertions\u001B[38;5;241m=\u001B[39menable_assertions, max_mem_size\u001B[38;5;241m=\u001B[39mmmax,\n\u001B[1;32m    286\u001B[0m                               min_mem_size\u001B[38;5;241m=\u001B[39mmmin, ice_root\u001B[38;5;241m=\u001B[39mice_root, log_dir\u001B[38;5;241m=\u001B[39mlog_dir, log_level\u001B[38;5;241m=\u001B[39mlog_level,\n\u001B[1;32m    287\u001B[0m                               max_log_file_size\u001B[38;5;241m=\u001B[39mmax_log_file_size, port\u001B[38;5;241m=\u001B[39mport, name\u001B[38;5;241m=\u001B[39mname,\n\u001B[1;32m    288\u001B[0m                               extra_classpath\u001B[38;5;241m=\u001B[39mextra_classpath, jvm_custom_args\u001B[38;5;241m=\u001B[39mjvm_custom_args,\n\u001B[1;32m    289\u001B[0m                               bind_to_localhost\u001B[38;5;241m=\u001B[39mbind_to_localhost)\n\u001B[0;32m--> 290\u001B[0m     h2oconn \u001B[38;5;241m=\u001B[39m \u001B[43mH2OConnection\u001B[49m\u001B[38;5;241;43m.\u001B[39;49m\u001B[43mopen\u001B[49m\u001B[43m(\u001B[49m\u001B[43mserver\u001B[49m\u001B[38;5;241;43m=\u001B[39;49m\u001B[43mhs\u001B[49m\u001B[43m,\u001B[49m\u001B[43m \u001B[49m\u001B[43mhttps\u001B[49m\u001B[38;5;241;43m=\u001B[39;49m\u001B[43mhttps\u001B[49m\u001B[43m,\u001B[49m\u001B[43m \u001B[49m\u001B[43mverify_ssl_certificates\u001B[49m\u001B[38;5;241;43m=\u001B[39;49m\u001B[43mverify_ssl_certificates\u001B[49m\u001B[43m,\u001B[49m\n\u001B[1;32m    291\u001B[0m \u001B[43m                                 \u001B[49m\u001B[43mcacert\u001B[49m\u001B[38;5;241;43m=\u001B[39;49m\u001B[43mcacert\u001B[49m\u001B[43m,\u001B[49m\u001B[43m \u001B[49m\u001B[43mauth\u001B[49m\u001B[38;5;241;43m=\u001B[39;49m\u001B[43mauth\u001B[49m\u001B[43m,\u001B[49m\u001B[43m \u001B[49m\u001B[43mproxy\u001B[49m\u001B[38;5;241;43m=\u001B[39;49m\u001B[43mproxy\u001B[49m\u001B[43m,\u001B[49m\u001B[43m \u001B[49m\u001B[43mcookies\u001B[49m\u001B[38;5;241;43m=\u001B[39;49m\u001B[43mcookies\u001B[49m\u001B[43m,\u001B[49m\u001B[43m \u001B[49m\u001B[43mverbose\u001B[49m\u001B[38;5;241;43m=\u001B[39;49m\u001B[38;5;28;43;01mTrue\u001B[39;49;00m\u001B[43m,\u001B[49m\n\u001B[1;32m    292\u001B[0m \u001B[43m                                 \u001B[49m\u001B[43mstrict_version_check\u001B[49m\u001B[38;5;241;43m=\u001B[39;49m\u001B[43msvc\u001B[49m\u001B[43m)\u001B[49m\n\u001B[1;32m    293\u001B[0m h2oconn\u001B[38;5;241m.\u001B[39mcluster\u001B[38;5;241m.\u001B[39mtimezone \u001B[38;5;241m=\u001B[39m \u001B[38;5;124m\"\u001B[39m\u001B[38;5;124mUTC\u001B[39m\u001B[38;5;124m\"\u001B[39m\n\u001B[1;32m    294\u001B[0m h2oconn\u001B[38;5;241m.\u001B[39mcluster\u001B[38;5;241m.\u001B[39mshow_status()\n\nFile \u001B[0;32m/local_disk0/.ephemeral_nfs/envs/pythonEnv-a6995c22-e37c-42bb-a6ec-513887c74cc9/lib/python3.10/site-packages/h2o/backend/connection.py:406\u001B[0m, in \u001B[0;36mH2OConnection.open\u001B[0;34m(server, url, ip, port, name, https, auth, verify_ssl_certificates, cacert, proxy, cookies, verbose, msgs, strict_version_check)\u001B[0m\n\u001B[1;32m    404\u001B[0m conn\u001B[38;5;241m.\u001B[39m_stage \u001B[38;5;241m=\u001B[39m \u001B[38;5;241m1\u001B[39m\n\u001B[1;32m    405\u001B[0m conn\u001B[38;5;241m.\u001B[39m_timeout \u001B[38;5;241m=\u001B[39m \u001B[38;5;241m3.0\u001B[39m\n\u001B[0;32m--> 406\u001B[0m conn\u001B[38;5;241m.\u001B[39m_cluster \u001B[38;5;241m=\u001B[39m \u001B[43mconn\u001B[49m\u001B[38;5;241;43m.\u001B[39;49m\u001B[43m_test_connection\u001B[49m\u001B[43m(\u001B[49m\u001B[43mretries\u001B[49m\u001B[43m,\u001B[49m\u001B[43m \u001B[49m\u001B[43mmessages\u001B[49m\u001B[38;5;241;43m=\u001B[39;49m\u001B[43mmsgs\u001B[49m\u001B[43m)\u001B[49m\n\u001B[1;32m    407\u001B[0m \u001B[38;5;66;03m# If a server is unable to respond within 1s, it should be considered a bug. However we disable this\u001B[39;00m\n\u001B[1;32m    408\u001B[0m \u001B[38;5;66;03m# setting for now, for no good reason other than to ignore all those bugs :(\u001B[39;00m\n\u001B[1;32m    409\u001B[0m conn\u001B[38;5;241m.\u001B[39m_timeout \u001B[38;5;241m=\u001B[39m \u001B[38;5;28;01mNone\u001B[39;00m\n\nFile \u001B[0;32m/local_disk0/.ephemeral_nfs/envs/pythonEnv-a6995c22-e37c-42bb-a6ec-513887c74cc9/lib/python3.10/site-packages/h2o/backend/connection.py:713\u001B[0m, in \u001B[0;36mH2OConnection._test_connection\u001B[0;34m(self, max_retries, messages)\u001B[0m\n\u001B[1;32m    711\u001B[0m     \u001B[38;5;28;01mraise\u001B[39;00m H2OServerError(\u001B[38;5;124m\"\u001B[39m\u001B[38;5;124mCluster cannot reach consensus\u001B[39m\u001B[38;5;124m\"\u001B[39m)\n\u001B[1;32m    712\u001B[0m \u001B[38;5;28;01melse\u001B[39;00m:\n\u001B[0;32m--> 713\u001B[0m     \u001B[38;5;28;01mraise\u001B[39;00m H2OConnectionError(\u001B[38;5;124m\"\u001B[39m\u001B[38;5;124mCould not establish link to the H2O cloud \u001B[39m\u001B[38;5;132;01m%s\u001B[39;00m\u001B[38;5;124m after \u001B[39m\u001B[38;5;132;01m%d\u001B[39;00m\u001B[38;5;124m retries\u001B[39m\u001B[38;5;130;01m\\n\u001B[39;00m\u001B[38;5;132;01m%s\u001B[39;00m\u001B[38;5;124m\"\u001B[39m\n\u001B[1;32m    714\u001B[0m                              \u001B[38;5;241m%\u001B[39m (\u001B[38;5;28mself\u001B[39m\u001B[38;5;241m.\u001B[39m_base_url, max_retries, \u001B[38;5;124m\"\u001B[39m\u001B[38;5;130;01m\\n\u001B[39;00m\u001B[38;5;124m\"\u001B[39m\u001B[38;5;241m.\u001B[39mjoin(errors)))\n\n\u001B[0;31mH2OConnectionError\u001B[0m: Could not establish link to the H2O cloud http://127.0.0.1:54325 after 20 retries\n[19:33.70] H2OConnectionError: Unexpected HTTP error: HTTPConnectionPool(host='127.0.0.1', port=54325): Max retries exceeded with url: /3/Metadata/schemas/CloudV3 (Caused by NewConnectionError('<urllib3.connection.HTTPConnection object at 0x7f5b1ccab2e0>: Failed to establish a new connection: [Errno 111] Connection refused'))\n[19:33.90] H2OConnectionError: Unexpected HTTP error: HTTPConnectionPool(host='127.0.0.1', port=54325): Max retries exceeded with url: /3/Metadata/schemas/CloudV3 (Caused by NewConnectionError('<urllib3.connection.HTTPConnection object at 0x7f5b1ccabbe0>: Failed to establish a new connection: [Errno 111] Connection refused'))\n[19:34.10] H2OConnectionError: Unexpected HTTP error: HTTPConnectionPool(host='127.0.0.1', port=54325): Max retries exceeded with url: /3/Metadata/schemas/CloudV3 (Caused by NewConnectionError('<urllib3.connection.HTTPConnection object at 0x7f5b1d326f80>: Failed to establish a new connection: [Errno 111] Connection refused'))\n[19:34.31] H2OConnectionError: Unexpected HTTP error: HTTPConnectionPool(host='127.0.0.1', port=54325): Max retries exceeded with url: /3/Metadata/schemas/CloudV3 (Caused by NewConnectionError('<urllib3.connection.HTTPConnection object at 0x7f5ad8035630>: Failed to establish a new connection: [Errno 111] Connection refused'))\n[19:34.51] H2OConnectionError: Unexpected HTTP error: HTTPConnectionPool(host='127.0.0.1', port=54325): Max retries exceeded with url: /3/Metadata/schemas/CloudV3 (Caused by NewConnectionError('<urllib3.connection.HTTPConnection object at 0x7f594893bd30>: Failed to establish a new connection: [Errno 111] Connection refused'))\n[19:34.71] H2OConnectionError: Unexpected HTTP error: HTTPConnectionPool(host='127.0.0.1', port=54325): Max retries exceeded with url: /3/Metadata/schemas/CloudV3 (Caused by NewConnectionError('<urllib3.connection.HTTPConnection object at 0x7f5948bb6a40>: Failed to establish a new connection: [Errno 111] Connection refused'))\n[19:34.92] H2OConnectionError: Unexpected HTTP error: HTTPConnectionPool(host='127.0.0.1', port=54325): Max retries exceeded with url: /3/Metadata/schemas/CloudV3 (Caused by NewConnectionError('<urllib3.connection.HTTPConnection object at 0x7f5b1ccaa0e0>: Failed to establish a new connection: [Errno 111] Connection refused'))\n[19:35.12] H2OConnectionError: Unexpected HTTP error: HTTPConnectionPool(host='127.0.0.1', port=54325): Max retries exceeded with url: /3/Metadata/schemas/CloudV3 (Caused by NewConnectionError('<urllib3.connection.HTTPConnection object at 0x7f5d0d7af640>: Failed to establish a new connection: [Errno 111] Connection refused'))\n[19:35.33] H2OConnectionError: Unexpected HTTP error: HTTPConnectionPool(host='127.0.0.1', port=54325): Max retries exceeded with url: /3/Metadata/schemas/CloudV3 (Caused by NewConnectionError('<urllib3.connection.HTTPConnection object at 0x7f59489391b0>: Failed to establish a new connection: [Errno 111] Connection refused'))\n[19:35.53] H2OConnectionError: Unexpected HTTP error: HTTPConnectionPool(host='127.0.0.1', port=54325): Max retries exceeded with url: /3/Metadata/schemas/CloudV3 (Caused by NewConnectionError('<urllib3.connection.HTTPConnection object at 0x7f5ad8036cb0>: Failed to establish a new connection: [Errno 111] Connection refused'))\n[19:35.73] H2OConnectionError: Unexpected HTTP error: HTTPConnectionPool(host='127.0.0.1', port=54325): Max retries exceeded with url: /3/Metadata/schemas/CloudV3 (Caused by NewConnectionError('<urllib3.connection.HTTPConnection object at 0x7f5b1d325060>: Failed to establish a new connection: [Errno 111] Connection refused'))\n[19:35.94] H2OConnectionError: Unexpected HTTP error: HTTPConnectionPool(host='127.0.0.1', port=54325): Max retries exceeded with url: /3/Metadata/schemas/CloudV3 (Caused by NewConnectionError('<urllib3.connection.HTTPConnection object at 0x7f5ad8098a90>: Failed to establish a new connection: [Errno 111] Connection refused'))\n[19:36.14] H2OConnectionError: Unexpected HTTP error: HTTPConnectionPool(host='127.0.0.1', port=54325): Max retries exceeded with url: /3/Metadata/schemas/CloudV3 (Caused by NewConnectionError('<urllib3.connection.HTTPConnection object at 0x7f5b1cca9360>: Failed to establish a new connection: [Errno 111] Connection refused'))\n[19:36.34] H2OConnectionError: Unexpected HTTP error: HTTPConnectionPool(host='127.0.0.1', port=54325): Max retries exceeded with url: /3/Metadata/schemas/CloudV3 (Caused by NewConnectionError('<urllib3.connection.HTTPConnection object at 0x7f5b1ccaa950>: Failed to establish a new connection: [Errno 111] Connection refused'))\n[19:36.55] H2OConnectionError: Unexpected HTTP error: HTTPConnectionPool(host='127.0.0.1', port=54325): Max retries exceeded with url: /3/Metadata/schemas/CloudV3 (Caused by NewConnectionError('<urllib3.connection.HTTPConnection object at 0x7f5b1d324040>: Failed to establish a new connection: [Errno 111] Connection refused'))\n[19:36.75] H2OConnectionError: Unexpected HTTP error: HTTPConnectionPool(host='127.0.0.1', port=54325): Max retries exceeded with url: /3/Metadata/schemas/CloudV3 (Caused by NewConnectionError('<urllib3.connection.HTTPConnection object at 0x7f5ad8037c70>: Failed to establish a new connection: [Errno 111] Connection refused'))\n[19:36.96] H2OConnectionError: Unexpected HTTP error: HTTPConnectionPool(host='127.0.0.1', port=54325): Max retries exceeded with url: /3/Metadata/schemas/CloudV3 (Caused by NewConnectionError('<urllib3.connection.HTTPConnection object at 0x7f59489391b0>: Failed to establish a new connection: [Errno 111] Connection refused'))\n[19:37.16] H2OConnectionError: Unexpected HTTP error: HTTPConnectionPool(host='127.0.0.1', port=54325): Max retries exceeded with url: /3/Metadata/schemas/CloudV3 (Caused by NewConnectionError('<urllib3.connection.HTTPConnection object at 0x7f5948bb4760>: Failed to establish a new connection: [Errno 111] Connection refused'))\n[19:37.36] H2OConnectionError: Unexpected HTTP error: HTTPConnectionPool(host='127.0.0.1', port=54325): Max retries exceeded with url: /3/Metadata/schemas/CloudV3 (Caused by NewConnectionError('<urllib3.connection.HTTPConnection object at 0x7f5b1ccaa320>: Failed to establish a new connection: [Errno 111] Connection refused'))\n[19:37.57] H2OConnectionError: Unexpected HTTP error: HTTPConnectionPool(host='127.0.0.1', port=54325): Max retries exceeded with url: /3/Metadata/schemas/CloudV3 (Caused by NewConnectionError('<urllib3.connection.HTTPConnection object at 0x7f5b1ccaa530>: Failed to establish a new connection: [Errno 111] Connection refused'))",
       "errorSummary": "<span class='ansi-red-fg'>H2OConnectionError</span>: Could not establish link to the H2O cloud http://127.0.0.1:54325 after 20 retries\n[19:33.70] H2OConnectionError: Unexpected HTTP error: HTTPConnectionPool(host='127.0.0.1', port=54325): Max retries exceeded with url: /3/Metadata/schemas/CloudV3 (Caused by NewConnectionError('<urllib3.connection.HTTPConnection object at 0x7f5b1ccab2e0>: Failed to establish a new connection: [Errno 111] Connection refused'))\n[19:33.90] H2OConnectionError: Unexpected HTTP error: HTTPConnectionPool(host='127.0.0.1', port=54325): Max retries exceeded with url: /3/Metadata/schemas/CloudV3 (Caused by NewConnectionError('<urllib3.connection.HTTPConnection object at 0x7f5b1ccabbe0>: Failed to establish a new connection: [Errno 111] Connection refused'))\n[19:34.10] H2OConnectionError: Unexpected HTTP error: HTTPConnectionPool(host='127.0.0.1', port=54325): Max retries exceeded with url: /3/Metadata/schemas/CloudV3 (Caused by NewConnectionError('<urllib3.connection.HTTPConnection object at 0x7f5b1d326f80>: Failed to establish a new connection: [Errno 111] Connection refused'))\n[19:34.31] H2OConnectionError: Unexpected HTTP error: HTTPConnectionPool(host='127.0.0.1', port=54325): Max retries exceeded with url: /3/Metadata/schemas/CloudV3 (Caused by NewConnectionError('<urllib3.connection.HTTPConnection object at 0x7f5ad8035630>: Failed to establish a new connection: [Errno 111] Connection refused'))\n[19:34.51] H2OConnectionError: Unexpected HTTP error: HTTPConnectionPool(host='127.0.0.1', port=54325): Max retries exceeded with url: /3/Metadata/schemas/CloudV3 (Caused by NewConnectionError('<urllib3.connection.HTTPConnection object at 0x7f594893bd30>: Failed to establish a new connection: [Errno 111] Connection refused'))\n[19:34.71] H2OConnectionError: Unexpected HTTP error: HTTPConnectionPool(host='127.0.0.1', port=54325): Max retries exceeded with url: /3/Metadata/schemas/CloudV3 (Caused by NewConnectionError('<urllib3.connection.HTTPConnection object at 0x7f5948bb6a40>: Failed to establish a new connection: [Errno 111] Connection refused'))\n[19:34.92] H2OConnectionError: Unexpected HTTP error: HTTPConnectionPool(host='127.0.0.1', port=54325): Max retries exceeded with url: /3/Metadata/schemas/CloudV3 (Caused by NewConnectionError('<urllib3.connection.HTTPConnection object at 0x7f5b1ccaa0e0>: Failed to establish a new connection: [Errno 111] Connection refused'))\n[19:35.12] H2OConnectionError: Unexpected HTTP error: HTTPConnectionPool(host='127.0.0.1', port=54325): Max retries exceeded with url: /3/Metadata/schemas/CloudV3 (Caused by NewConnectionError('<urllib3.connection.HTTPConnection object at 0x7f5d0d7af640>: Failed to establish a new connection: [Errno 111] Connection refused'))\n[19:35.33] H2OConnectionError: Unexpected HTTP error: HTTPConnectionPool(host='127.0.0.1', port=54325): Max retries exceeded with url: /3/Metadata/schemas/CloudV3 (Caused by NewConnectionError('<urllib3.connection.HTTPConnection object at 0x7f59489391b0>: Failed to establish a new connection: [Errno 111] Connection refused'))\n[19:35.53] H2OConnectionError: Unexpected HTTP error: HTTPConnectionPool(host='127.0.0.1', port=54325): Max retries exceeded with url: /3/Metadata/schemas/CloudV3 (Caused by NewConnectionError('<urllib3.connection.HTTPConnection object at 0x7f5ad8036cb0>: Failed to establish a new connection: [Errno 111] Connection refused'))\n[19:35.73] H2OConnectionError: Unexpected HTTP error: HTTPConnectionPool(host='127.0.0.1', port=54325): Max retries exceeded with url: /3/Metadata/schemas/CloudV3 (Caused by NewConnectionError('<urllib3.connection.HTTPConnection object at 0x7f5b1d325060>: Failed to establish a new connection: [Errno 111] Connection refused'))\n[19:35.94] H2OConnectionError: Unexpected HTTP error: HTTPConnectionPool(host='127.0.0.1', port=54325): Max retries exceeded with url: /3/Metadata/schemas/CloudV3 (Caused by NewConnectionError('<urllib3.connection.HTTPConnection object at 0x7f5ad8098a90>: Failed to establish a new connection: [Errno 111] Connection refused'))\n[19:36.14] H2OConnectionError: Unexpected HTTP error: HTTPConnectionPool(host='127.0.0.1', port=54325): Max retries exceeded with url: /3/Metadata/schemas/CloudV3 (Caused by NewConnectionError('<urllib3.connection.HTTPConnection object at 0x7f5b1cca9360>: Failed to establish a new connection: [Errno 111] Connection refused'))\n[19:36.34] H2OConnectionError: Unexpected HTTP error: HTTPConnectionPool(host='127.0.0.1', port=54325): Max retries exceeded with url: /3/Metadata/schemas/CloudV3 (Caused by NewConnectionError('<urllib3.connection.HTTPConnection object at 0x7f5b1ccaa950>: Failed to establish a new connection: [Errno 111] Connection refused'))\n[19:36.55] H2OConnectionError: Unexpected HTTP error: HTTPConnectionPool(host='127.0.0.1', port=54325): Max retries exceeded with url: /3/Metadata/schemas/CloudV3 (Caused by NewConnectionError('<urllib3.connection.HTTPConnection object at 0x7f5b1d324040>: Failed to establish a new connection: [Errno 111] Connection refused'))\n[19:36.75] H2OConnectionError: Unexpected HTTP error: HTTPConnectionPool(host='127.0.0.1', port=54325): Max retries exceeded with url: /3/Metadata/schemas/CloudV3 (Caused by NewConnectionError('<urllib3.connection.HTTPConnection object at 0x7f5ad8037c70>: Failed to establish a new connection: [Errno 111] Connection refused'))\n[19:36.96] H2OConnectionError: Unexpected HTTP error: HTTPConnectionPool(host='127.0.0.1', port=54325): Max retries exceeded with url: /3/Metadata/schemas/CloudV3 (Caused by NewConnectionError('<urllib3.connection.HTTPConnection object at 0x7f59489391b0>: Failed to establish a new connection: [Errno 111] Connection refused'))\n[19:37.16] H2OConnectionError: Unexpected HTTP error: HTTPConnectionPool(host='127.0.0.1', port=54325): Max retries exceeded with url: /3/Metadata/schemas/CloudV3 (Caused by NewConnectionError('<urllib3.connection.HTTPConnection object at 0x7f5948bb4760>: Failed to establish a new connection: [Errno 111] Connection refused'))\n[19:37.36] H2OConnectionError: Unexpected HTTP error: HTTPConnectionPool(host='127.0.0.1', port=54325): Max retries exceeded with url: /3/Metadata/schemas/CloudV3 (Caused by NewConnectionError('<urllib3.connection.HTTPConnection object at 0x7f5b1ccaa320>: Failed to establish a new connection: [Errno 111] Connection refused'))\n[19:37.57] H2OConnectionError: Unexpected HTTP error: HTTPConnectionPool(host='127.0.0.1', port=54325): Max retries exceeded with url: /3/Metadata/schemas/CloudV3 (Caused by NewConnectionError('<urllib3.connection.HTTPConnection object at 0x7f5b1ccaa530>: Failed to establish a new connection: [Errno 111] Connection refused'))",
       "errorTraceType": "ansi",
       "metadata": {},
       "type": "ipynbError"
      }
     },
     "output_type": "display_data"
    }
   ],
   "source": [
    "# Initialize H2O and start the H2O server\n",
    "h2o.init()\n",
    "\n",
    "# Convert the pandas DataFrames to H2O DataFrames\n",
    "train_data = h2o.H2OFrame(pd.concat([X_train, y_train], axis=1))\n",
    "test_data = h2o.H2OFrame(pd.concat([X_test, y_test], axis=1))\n",
    "\n",
    "# Specify the name of the target variable\n",
    "target_variable = 'Total Minutes'\n",
    "\n",
    "# Run AutoML regression\n",
    "aml = H2OAutoML(max_runtime_secs=120)\n",
    "aml.train(y=target_variable, training_frame=train_data)\n",
    "\n",
    "# Get the best model from AutoML\n",
    "best_model = aml.leader\n",
    "\n",
    "y_test_pred = best_model.predict(test_data).as_data_frame().values.flatten()\n",
    "\n",
    "y_test_pred = np.array(y_test_pred)\n",
    "\n",
    "test_mse = mean_squared_error(y_test, y_test_pred)\n",
    "test_r2 = r2_score(y_test, y_test_pred)\n",
    "\n",
    "print(f\"Test Mean Squared Error: {test_mse:.2f}\")\n",
    "print(f\"Test R-squared: {test_r2:.2f}\")\n",
    "\n",
    "# Visualize the comparison of forecast and actual values for both training and test sets\n",
    "plt.figure(figsize=(10, 6))\n",
    "\n",
    "plt.scatter(y_test, y_test_pred, color='orange', alpha=0.5, label='Test Data')\n",
    "plt.plot([min(y_test), max(y_test)], [min(y_test), max(y_test)], linestyle='--', color='red', linewidth=2)\n",
    "plt.xlabel(\"Actual Values (Test)\")\n",
    "plt.ylabel(\"Predicted Values (Test)\")\n",
    "\n",
    "plt.legend()\n",
    "plt.title(\"Comparison of Forecast and Actual Values\")\n",
    "plt.show()"
   ]
  },
  {
   "cell_type": "code",
   "execution_count": 0,
   "metadata": {
    "application/vnd.databricks.v1+cell": {
     "cellMetadata": {
      "byteLimit": 2048000,
      "rowLimit": 10000
     },
     "inputWidgets": {},
     "nuid": "b1e3f24c-bbb8-4168-b233-8df6d8a878b3",
     "showTitle": false,
     "title": ""
    }
   },
   "outputs": [
    {
     "output_type": "display_data",
     "data": {
      "image/png": "[encoded data removed]",
      "text/plain": [
       "<Figure size 1000x600 with 1 Axes>"
      ]
     },
     "metadata": {},
     "output_type": "display_data"
    }
   ],
   "source": [
    "# Fit the best model on the entire data (train + test)\n",
    "best_model.fit(X_train, y_train)\n",
    "\n",
    "# Get the predicted values for the entire data\n",
    "y_pred = best_model.predict(X_test)\n",
    "y_pred_all = best_model.predict(X)\n",
    "# Create a DataFrame to store the actual and predicted values\n",
    "forecast_df = pd.DataFrame({'Actual': y_test, 'Predicted': y_pred})\n",
    "forecast_df.reset_index(drop=True, inplace=True)\n",
    "# Visualize the forecast\n",
    "plt.figure(figsize=(10, 6))\n",
    "plt.plot(forecast_df['Actual'], label='Actual', marker='o')\n",
    "plt.plot(forecast_df['Predicted'], label='Predicted', marker='x')\n",
    "plt.xlabel('Observation')\n",
    "plt.ylabel('Total Minutes')\n",
    "plt.title('Optimal Forecast vs. Actual')\n",
    "plt.legend()\n",
    "plt.show()"
   ]
  },
  {
   "cell_type": "code",
   "execution_count": 0,
   "metadata": {
    "application/vnd.databricks.v1+cell": {
     "cellMetadata": {
      "byteLimit": 2048000,
      "rowLimit": 10000
     },
     "inputWidgets": {},
     "nuid": "08a4bf17-835c-4596-81e7-50519ea7238d",
     "showTitle": false,
     "title": ""
    }
   },
   "outputs": [
    {
     "output_type": "execute_result",
     "data": {
      "text/html": [
       "<div>\n",
       "<style scoped>\n",
       "    .dataframe tbody tr th:only-of-type {\n",
       "        vertical-align: middle;\n",
       "    }\n",
       "\n",
       "    .dataframe tbody tr th {\n",
       "        vertical-align: top;\n",
       "    }\n",
       "\n",
       "    .dataframe thead th {\n",
       "        text-align: right;\n",
       "    }\n",
       "</style>\n",
       "<table border=\"1\" class=\"dataframe\">\n",
       "  <thead>\n",
       "    <tr style=\"text-align: right;\">\n",
       "      <th></th>\n",
       "      <th>Actual</th>\n",
       "      <th>Predicted</th>\n",
       "    </tr>\n",
       "  </thead>\n",
       "  <tbody>\n",
       "    <tr>\n",
       "      <th>0</th>\n",
       "      <td>283</td>\n",
       "      <td>345.351636</td>\n",
       "    </tr>\n",
       "    <tr>\n",
       "      <th>1</th>\n",
       "      <td>259</td>\n",
       "      <td>266.035883</td>\n",
       "    </tr>\n",
       "    <tr>\n",
       "      <th>2</th>\n",
       "      <td>305</td>\n",
       "      <td>331.337406</td>\n",
       "    </tr>\n",
       "    <tr>\n",
       "      <th>3</th>\n",
       "      <td>371</td>\n",
       "      <td>367.050727</td>\n",
       "    </tr>\n",
       "    <tr>\n",
       "      <th>4</th>\n",
       "      <td>261</td>\n",
       "      <td>270.987690</td>\n",
       "    </tr>\n",
       "    <tr>\n",
       "      <th>...</th>\n",
       "      <td>...</td>\n",
       "      <td>...</td>\n",
       "    </tr>\n",
       "    <tr>\n",
       "      <th>995</th>\n",
       "      <td>260</td>\n",
       "      <td>283.773595</td>\n",
       "    </tr>\n",
       "    <tr>\n",
       "      <th>996</th>\n",
       "      <td>389</td>\n",
       "      <td>320.353916</td>\n",
       "    </tr>\n",
       "    <tr>\n",
       "      <th>997</th>\n",
       "      <td>250</td>\n",
       "      <td>259.544648</td>\n",
       "    </tr>\n",
       "    <tr>\n",
       "      <th>998</th>\n",
       "      <td>314</td>\n",
       "      <td>289.764190</td>\n",
       "    </tr>\n",
       "    <tr>\n",
       "      <th>999</th>\n",
       "      <td>307</td>\n",
       "      <td>293.323592</td>\n",
       "    </tr>\n",
       "  </tbody>\n",
       "</table>\n",
       "<p>1000 rows × 2 columns</p>\n",
       "</div>"
      ],
      "text/plain": [
       "     Actual   Predicted\n",
       "0       283  345.351636\n",
       "1       259  266.035883\n",
       "2       305  331.337406\n",
       "3       371  367.050727\n",
       "4       261  270.987690\n",
       "..      ...         ...\n",
       "995     260  283.773595\n",
       "996     389  320.353916\n",
       "997     250  259.544648\n",
       "998     314  289.764190\n",
       "999     307  293.323592\n",
       "\n",
       "[1000 rows x 2 columns]"
      ]
     },
     "execution_count": 568,
     "metadata": {},
     "output_type": "execute_result"
    }
   ],
   "source": [
    "forecast_df"
   ]
  }
 ],
 "metadata": {
  "application/vnd.databricks.v1+notebook": {
   "dashboards": [
    {
     "elements": [],
     "globalVars": {},
     "guid": "",
     "layoutOption": {
      "grid": true,
      "stack": true
     },
     "nuid": "2d2ad5c6-9cb2-473d-a9e6-37cdd4bccc25",
     "origId": 0,
     "title": "Untitled",
     "version": "DashboardViewV1",
     "width": 1024
    },
    {
     "elements": [],
     "globalVars": {},
     "guid": "",
     "layoutOption": {
      "grid": true,
      "stack": true
     },
     "nuid": "fb0ab7a5-6478-4b30-925e-2161944395dd",
     "origId": 0,
     "title": "Untitled",
     "version": "DashboardViewV1",
     "width": 1024
    },
    {
     "elements": [
      {
       "dashboardResultIndex": 0,
       "elementNUID": "a5bb04c3-a5de-4175-a4b5-223bb03d646f",
       "elementType": "command",
       "guid": "a43c192f-e3c1-494d-bf7e-7f446753a4e9",
       "options": null,
       "position": {
        "height": 23,
        "width": 24,
        "x": 0,
        "y": 0,
        "z": null
       },
       "resultIndex": null
      }
     ],
     "globalVars": {},
     "guid": "",
     "layoutOption": {
      "grid": true,
      "stack": true
     },
     "nuid": "27b22598-b1ec-4a66-8df1-897bd6e3d3ca",
     "origId": 0,
     "title": "Untitled",
     "version": "DashboardViewV1",
     "width": 1024
    },
    {
     "elements": [],
     "globalVars": {},
     "guid": "",
     "layoutOption": {
      "grid": true,
      "stack": true
     },
     "nuid": "b80c0cc7-cfab-4ec0-a56f-4b2db3020d29",
     "origId": 0,
     "title": "Untitled",
     "version": "DashboardViewV1",
     "width": 1024
    }
   ],
   "language": "python",
   "notebookMetadata": {
    "mostRecentlyExecutedCommandWithImplicitDF": {
     "commandId": 2642800944650191,
     "dataframes": [
      "_sqldf"
     ]
    },
    "pythonIndentUnit": 4
   },
   "notebookName": "Task 7 Complete (1)",
   "widgets": {}
  }
 },
 "nbformat": 4,
 "nbformat_minor": 0
}
